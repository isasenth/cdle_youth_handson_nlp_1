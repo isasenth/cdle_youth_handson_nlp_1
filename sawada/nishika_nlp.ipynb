{
  "nbformat": 4,
  "nbformat_minor": 0,
  "metadata": {
    "colab": {
      "name": "nishika_nlp.ipynb",
      "provenance": [],
      "mount_file_id": "1T3fG50Z3URLqM4k4rdcUicTvPHm0c2bW",
      "authorship_tag": "ABX9TyOnfCuEMgn9axQ8VxK4T0NW",
      "include_colab_link": true
    },
    "kernelspec": {
      "name": "python3",
      "display_name": "Python 3"
    },
    "language_info": {
      "name": "python"
    }
  },
  "cells": [
    {
      "cell_type": "markdown",
      "metadata": {
        "id": "view-in-github",
        "colab_type": "text"
      },
      "source": [
        "<a href=\"https://colab.research.google.com/github/sawao7/cdle_youth_handson_nlp_1/blob/sawada/sawada/nishika_nlp.ipynb\" target=\"_parent\"><img src=\"https://colab.research.google.com/assets/colab-badge.svg\" alt=\"Open In Colab\"/></a>"
      ]
    },
    {
      "cell_type": "code",
      "execution_count": null,
      "metadata": {
        "id": "omrGSvzx9A9A"
      },
      "outputs": [],
      "source": [
        "import pandas as pd\n",
        "import numpy as np\n",
        "import matplotlib as plt\n",
        "%matplotlib inline"
      ]
    },
    {
      "cell_type": "code",
      "source": [
        "df_test = pd.read_csv(\"/content/drive/MyDrive/Nishika/NLP/test.csv\")\n",
        "df_train = pd.read_csv(\"/content/drive/MyDrive/Nishika/NLP/train.csv\")\n",
        "df_sample_submission = pd.read_csv(\"/content/drive/MyDrive/Nishika/NLP/sample_submission.csv\")"
      ],
      "metadata": {
        "id": "mGlt_LfZ9NHY"
      },
      "execution_count": null,
      "outputs": []
    },
    {
      "cell_type": "code",
      "source": [
        "df_train.head()"
      ],
      "metadata": {
        "colab": {
          "base_uri": "https://localhost:8080/",
          "height": 206
        },
        "id": "mtDnMLn79cDP",
        "outputId": "2d8a7bee-091b-415f-b224-5f9423e3e752"
      },
      "execution_count": null,
      "outputs": [
        {
          "output_type": "execute_result",
          "data": {
            "text/plain": [
              "           id  isFake                                               text\n",
              "0  d19828eb64       1  Cによると、アメリカの元大統領で、最長寿だったジョージ・ウォーカー・ブッシュ氏が27日(C-...\n",
              "1  dfaab096bd       0  中日新聞によると、コナミカップ・プロ野球アジアシリーズ2007の決勝戦・日本の中日ドラゴンズ...\n",
              "2  163504bf95       1  愛媛Cは、11月12日にリーグ準加盟の承認を受けて、来期リーグ加盟を目指す愛媛Cに対して、鈴...\n",
              "3  ed3c9dc579       0  国民日報によると3日、7時50分（UTC+9、日本時間と同じ）大韓民国京畿道平沢市の西海岸（...\n",
              "4  e06f88267f       1  共同通信によると、5日午後2時過ぎから東京都、神奈川県、千葉県の3都県の広い範囲の地域で停電..."
            ],
            "text/html": [
              "\n",
              "  <div id=\"df-5fef5c9f-aa17-42c4-8807-0eceacbaabd0\">\n",
              "    <div class=\"colab-df-container\">\n",
              "      <div>\n",
              "<style scoped>\n",
              "    .dataframe tbody tr th:only-of-type {\n",
              "        vertical-align: middle;\n",
              "    }\n",
              "\n",
              "    .dataframe tbody tr th {\n",
              "        vertical-align: top;\n",
              "    }\n",
              "\n",
              "    .dataframe thead th {\n",
              "        text-align: right;\n",
              "    }\n",
              "</style>\n",
              "<table border=\"1\" class=\"dataframe\">\n",
              "  <thead>\n",
              "    <tr style=\"text-align: right;\">\n",
              "      <th></th>\n",
              "      <th>id</th>\n",
              "      <th>isFake</th>\n",
              "      <th>text</th>\n",
              "    </tr>\n",
              "  </thead>\n",
              "  <tbody>\n",
              "    <tr>\n",
              "      <th>0</th>\n",
              "      <td>d19828eb64</td>\n",
              "      <td>1</td>\n",
              "      <td>Cによると、アメリカの元大統領で、最長寿だったジョージ・ウォーカー・ブッシュ氏が27日(C-...</td>\n",
              "    </tr>\n",
              "    <tr>\n",
              "      <th>1</th>\n",
              "      <td>dfaab096bd</td>\n",
              "      <td>0</td>\n",
              "      <td>中日新聞によると、コナミカップ・プロ野球アジアシリーズ2007の決勝戦・日本の中日ドラゴンズ...</td>\n",
              "    </tr>\n",
              "    <tr>\n",
              "      <th>2</th>\n",
              "      <td>163504bf95</td>\n",
              "      <td>1</td>\n",
              "      <td>愛媛Cは、11月12日にリーグ準加盟の承認を受けて、来期リーグ加盟を目指す愛媛Cに対して、鈴...</td>\n",
              "    </tr>\n",
              "    <tr>\n",
              "      <th>3</th>\n",
              "      <td>ed3c9dc579</td>\n",
              "      <td>0</td>\n",
              "      <td>国民日報によると3日、7時50分（UTC+9、日本時間と同じ）大韓民国京畿道平沢市の西海岸（...</td>\n",
              "    </tr>\n",
              "    <tr>\n",
              "      <th>4</th>\n",
              "      <td>e06f88267f</td>\n",
              "      <td>1</td>\n",
              "      <td>共同通信によると、5日午後2時過ぎから東京都、神奈川県、千葉県の3都県の広い範囲の地域で停電...</td>\n",
              "    </tr>\n",
              "  </tbody>\n",
              "</table>\n",
              "</div>\n",
              "      <button class=\"colab-df-convert\" onclick=\"convertToInteractive('df-5fef5c9f-aa17-42c4-8807-0eceacbaabd0')\"\n",
              "              title=\"Convert this dataframe to an interactive table.\"\n",
              "              style=\"display:none;\">\n",
              "        \n",
              "  <svg xmlns=\"http://www.w3.org/2000/svg\" height=\"24px\"viewBox=\"0 0 24 24\"\n",
              "       width=\"24px\">\n",
              "    <path d=\"M0 0h24v24H0V0z\" fill=\"none\"/>\n",
              "    <path d=\"M18.56 5.44l.94 2.06.94-2.06 2.06-.94-2.06-.94-.94-2.06-.94 2.06-2.06.94zm-11 1L8.5 8.5l.94-2.06 2.06-.94-2.06-.94L8.5 2.5l-.94 2.06-2.06.94zm10 10l.94 2.06.94-2.06 2.06-.94-2.06-.94-.94-2.06-.94 2.06-2.06.94z\"/><path d=\"M17.41 7.96l-1.37-1.37c-.4-.4-.92-.59-1.43-.59-.52 0-1.04.2-1.43.59L10.3 9.45l-7.72 7.72c-.78.78-.78 2.05 0 2.83L4 21.41c.39.39.9.59 1.41.59.51 0 1.02-.2 1.41-.59l7.78-7.78 2.81-2.81c.8-.78.8-2.07 0-2.86zM5.41 20L4 18.59l7.72-7.72 1.47 1.35L5.41 20z\"/>\n",
              "  </svg>\n",
              "      </button>\n",
              "      \n",
              "  <style>\n",
              "    .colab-df-container {\n",
              "      display:flex;\n",
              "      flex-wrap:wrap;\n",
              "      gap: 12px;\n",
              "    }\n",
              "\n",
              "    .colab-df-convert {\n",
              "      background-color: #E8F0FE;\n",
              "      border: none;\n",
              "      border-radius: 50%;\n",
              "      cursor: pointer;\n",
              "      display: none;\n",
              "      fill: #1967D2;\n",
              "      height: 32px;\n",
              "      padding: 0 0 0 0;\n",
              "      width: 32px;\n",
              "    }\n",
              "\n",
              "    .colab-df-convert:hover {\n",
              "      background-color: #E2EBFA;\n",
              "      box-shadow: 0px 1px 2px rgba(60, 64, 67, 0.3), 0px 1px 3px 1px rgba(60, 64, 67, 0.15);\n",
              "      fill: #174EA6;\n",
              "    }\n",
              "\n",
              "    [theme=dark] .colab-df-convert {\n",
              "      background-color: #3B4455;\n",
              "      fill: #D2E3FC;\n",
              "    }\n",
              "\n",
              "    [theme=dark] .colab-df-convert:hover {\n",
              "      background-color: #434B5C;\n",
              "      box-shadow: 0px 1px 3px 1px rgba(0, 0, 0, 0.15);\n",
              "      filter: drop-shadow(0px 1px 2px rgba(0, 0, 0, 0.3));\n",
              "      fill: #FFFFFF;\n",
              "    }\n",
              "  </style>\n",
              "\n",
              "      <script>\n",
              "        const buttonEl =\n",
              "          document.querySelector('#df-5fef5c9f-aa17-42c4-8807-0eceacbaabd0 button.colab-df-convert');\n",
              "        buttonEl.style.display =\n",
              "          google.colab.kernel.accessAllowed ? 'block' : 'none';\n",
              "\n",
              "        async function convertToInteractive(key) {\n",
              "          const element = document.querySelector('#df-5fef5c9f-aa17-42c4-8807-0eceacbaabd0');\n",
              "          const dataTable =\n",
              "            await google.colab.kernel.invokeFunction('convertToInteractive',\n",
              "                                                     [key], {});\n",
              "          if (!dataTable) return;\n",
              "\n",
              "          const docLinkHtml = 'Like what you see? Visit the ' +\n",
              "            '<a target=\"_blank\" href=https://colab.research.google.com/notebooks/data_table.ipynb>data table notebook</a>'\n",
              "            + ' to learn more about interactive tables.';\n",
              "          element.innerHTML = '';\n",
              "          dataTable['output_type'] = 'display_data';\n",
              "          await google.colab.output.renderOutput(dataTable, element);\n",
              "          const docLink = document.createElement('div');\n",
              "          docLink.innerHTML = docLinkHtml;\n",
              "          element.appendChild(docLink);\n",
              "        }\n",
              "      </script>\n",
              "    </div>\n",
              "  </div>\n",
              "  "
            ]
          },
          "metadata": {},
          "execution_count": 14
        }
      ]
    },
    {
      "cell_type": "code",
      "source": [
        "df_test.head()"
      ],
      "metadata": {
        "colab": {
          "base_uri": "https://localhost:8080/",
          "height": 206
        },
        "id": "DSJ1pnVG9dyE",
        "outputId": "8cc2231c-23e4-4964-9c03-72daa2eac441"
      },
      "execution_count": null,
      "outputs": [
        {
          "output_type": "execute_result",
          "data": {
            "text/plain": [
              "           id                                               text\n",
              "0  d253d7b7ac  共同通信によると、ペルーの政党「シ・クンプレ」が、6日、中央選管である全国選挙評議会 (JN...\n",
              "1  fcfe44d0a0  自殺した川田亜子さんの元恋人とされる、映画監督で平和活動家のマット・テイラー氏が、川田さんが...\n",
              "2  213caf5cf5  沖縄タイムスによると、アメリカ軍の海兵隊・二等軍曹(38歳)が2月10日深夜、沖縄市の公園近...\n",
              "3  15aefc8374  動画投稿サイト「C2」に人気ドラマやバラエティ番組を投稿したとして、著作権法違反(公衆送信権...\n",
              "4  aded40e220  報道機関各社によると、12月1日、東京都内で日本プロ野球の2次ドラフトが初めて行われた。サン..."
            ],
            "text/html": [
              "\n",
              "  <div id=\"df-bf8aeb41-708d-4688-b059-be241a9b8d67\">\n",
              "    <div class=\"colab-df-container\">\n",
              "      <div>\n",
              "<style scoped>\n",
              "    .dataframe tbody tr th:only-of-type {\n",
              "        vertical-align: middle;\n",
              "    }\n",
              "\n",
              "    .dataframe tbody tr th {\n",
              "        vertical-align: top;\n",
              "    }\n",
              "\n",
              "    .dataframe thead th {\n",
              "        text-align: right;\n",
              "    }\n",
              "</style>\n",
              "<table border=\"1\" class=\"dataframe\">\n",
              "  <thead>\n",
              "    <tr style=\"text-align: right;\">\n",
              "      <th></th>\n",
              "      <th>id</th>\n",
              "      <th>text</th>\n",
              "    </tr>\n",
              "  </thead>\n",
              "  <tbody>\n",
              "    <tr>\n",
              "      <th>0</th>\n",
              "      <td>d253d7b7ac</td>\n",
              "      <td>共同通信によると、ペルーの政党「シ・クンプレ」が、6日、中央選管である全国選挙評議会 (JN...</td>\n",
              "    </tr>\n",
              "    <tr>\n",
              "      <th>1</th>\n",
              "      <td>fcfe44d0a0</td>\n",
              "      <td>自殺した川田亜子さんの元恋人とされる、映画監督で平和活動家のマット・テイラー氏が、川田さんが...</td>\n",
              "    </tr>\n",
              "    <tr>\n",
              "      <th>2</th>\n",
              "      <td>213caf5cf5</td>\n",
              "      <td>沖縄タイムスによると、アメリカ軍の海兵隊・二等軍曹(38歳)が2月10日深夜、沖縄市の公園近...</td>\n",
              "    </tr>\n",
              "    <tr>\n",
              "      <th>3</th>\n",
              "      <td>15aefc8374</td>\n",
              "      <td>動画投稿サイト「C2」に人気ドラマやバラエティ番組を投稿したとして、著作権法違反(公衆送信権...</td>\n",
              "    </tr>\n",
              "    <tr>\n",
              "      <th>4</th>\n",
              "      <td>aded40e220</td>\n",
              "      <td>報道機関各社によると、12月1日、東京都内で日本プロ野球の2次ドラフトが初めて行われた。サン...</td>\n",
              "    </tr>\n",
              "  </tbody>\n",
              "</table>\n",
              "</div>\n",
              "      <button class=\"colab-df-convert\" onclick=\"convertToInteractive('df-bf8aeb41-708d-4688-b059-be241a9b8d67')\"\n",
              "              title=\"Convert this dataframe to an interactive table.\"\n",
              "              style=\"display:none;\">\n",
              "        \n",
              "  <svg xmlns=\"http://www.w3.org/2000/svg\" height=\"24px\"viewBox=\"0 0 24 24\"\n",
              "       width=\"24px\">\n",
              "    <path d=\"M0 0h24v24H0V0z\" fill=\"none\"/>\n",
              "    <path d=\"M18.56 5.44l.94 2.06.94-2.06 2.06-.94-2.06-.94-.94-2.06-.94 2.06-2.06.94zm-11 1L8.5 8.5l.94-2.06 2.06-.94-2.06-.94L8.5 2.5l-.94 2.06-2.06.94zm10 10l.94 2.06.94-2.06 2.06-.94-2.06-.94-.94-2.06-.94 2.06-2.06.94z\"/><path d=\"M17.41 7.96l-1.37-1.37c-.4-.4-.92-.59-1.43-.59-.52 0-1.04.2-1.43.59L10.3 9.45l-7.72 7.72c-.78.78-.78 2.05 0 2.83L4 21.41c.39.39.9.59 1.41.59.51 0 1.02-.2 1.41-.59l7.78-7.78 2.81-2.81c.8-.78.8-2.07 0-2.86zM5.41 20L4 18.59l7.72-7.72 1.47 1.35L5.41 20z\"/>\n",
              "  </svg>\n",
              "      </button>\n",
              "      \n",
              "  <style>\n",
              "    .colab-df-container {\n",
              "      display:flex;\n",
              "      flex-wrap:wrap;\n",
              "      gap: 12px;\n",
              "    }\n",
              "\n",
              "    .colab-df-convert {\n",
              "      background-color: #E8F0FE;\n",
              "      border: none;\n",
              "      border-radius: 50%;\n",
              "      cursor: pointer;\n",
              "      display: none;\n",
              "      fill: #1967D2;\n",
              "      height: 32px;\n",
              "      padding: 0 0 0 0;\n",
              "      width: 32px;\n",
              "    }\n",
              "\n",
              "    .colab-df-convert:hover {\n",
              "      background-color: #E2EBFA;\n",
              "      box-shadow: 0px 1px 2px rgba(60, 64, 67, 0.3), 0px 1px 3px 1px rgba(60, 64, 67, 0.15);\n",
              "      fill: #174EA6;\n",
              "    }\n",
              "\n",
              "    [theme=dark] .colab-df-convert {\n",
              "      background-color: #3B4455;\n",
              "      fill: #D2E3FC;\n",
              "    }\n",
              "\n",
              "    [theme=dark] .colab-df-convert:hover {\n",
              "      background-color: #434B5C;\n",
              "      box-shadow: 0px 1px 3px 1px rgba(0, 0, 0, 0.15);\n",
              "      filter: drop-shadow(0px 1px 2px rgba(0, 0, 0, 0.3));\n",
              "      fill: #FFFFFF;\n",
              "    }\n",
              "  </style>\n",
              "\n",
              "      <script>\n",
              "        const buttonEl =\n",
              "          document.querySelector('#df-bf8aeb41-708d-4688-b059-be241a9b8d67 button.colab-df-convert');\n",
              "        buttonEl.style.display =\n",
              "          google.colab.kernel.accessAllowed ? 'block' : 'none';\n",
              "\n",
              "        async function convertToInteractive(key) {\n",
              "          const element = document.querySelector('#df-bf8aeb41-708d-4688-b059-be241a9b8d67');\n",
              "          const dataTable =\n",
              "            await google.colab.kernel.invokeFunction('convertToInteractive',\n",
              "                                                     [key], {});\n",
              "          if (!dataTable) return;\n",
              "\n",
              "          const docLinkHtml = 'Like what you see? Visit the ' +\n",
              "            '<a target=\"_blank\" href=https://colab.research.google.com/notebooks/data_table.ipynb>data table notebook</a>'\n",
              "            + ' to learn more about interactive tables.';\n",
              "          element.innerHTML = '';\n",
              "          dataTable['output_type'] = 'display_data';\n",
              "          await google.colab.output.renderOutput(dataTable, element);\n",
              "          const docLink = document.createElement('div');\n",
              "          docLink.innerHTML = docLinkHtml;\n",
              "          element.appendChild(docLink);\n",
              "        }\n",
              "      </script>\n",
              "    </div>\n",
              "  </div>\n",
              "  "
            ]
          },
          "metadata": {},
          "execution_count": 15
        }
      ]
    },
    {
      "cell_type": "code",
      "source": [
        "df_sample_submission.head()"
      ],
      "metadata": {
        "colab": {
          "base_uri": "https://localhost:8080/",
          "height": 206
        },
        "id": "QV8WNwe09gWL",
        "outputId": "4bcbbc9a-5309-480c-e687-b6c5a43663f3"
      },
      "execution_count": null,
      "outputs": [
        {
          "output_type": "execute_result",
          "data": {
            "text/plain": [
              "           id  isFake\n",
              "0  d253d7b7ac       0\n",
              "1  fcfe44d0a0       0\n",
              "2  213caf5cf5       0\n",
              "3  15aefc8374       0\n",
              "4  aded40e220       0"
            ],
            "text/html": [
              "\n",
              "  <div id=\"df-9232ac3b-69ef-44f9-9511-7c4891f95a11\">\n",
              "    <div class=\"colab-df-container\">\n",
              "      <div>\n",
              "<style scoped>\n",
              "    .dataframe tbody tr th:only-of-type {\n",
              "        vertical-align: middle;\n",
              "    }\n",
              "\n",
              "    .dataframe tbody tr th {\n",
              "        vertical-align: top;\n",
              "    }\n",
              "\n",
              "    .dataframe thead th {\n",
              "        text-align: right;\n",
              "    }\n",
              "</style>\n",
              "<table border=\"1\" class=\"dataframe\">\n",
              "  <thead>\n",
              "    <tr style=\"text-align: right;\">\n",
              "      <th></th>\n",
              "      <th>id</th>\n",
              "      <th>isFake</th>\n",
              "    </tr>\n",
              "  </thead>\n",
              "  <tbody>\n",
              "    <tr>\n",
              "      <th>0</th>\n",
              "      <td>d253d7b7ac</td>\n",
              "      <td>0</td>\n",
              "    </tr>\n",
              "    <tr>\n",
              "      <th>1</th>\n",
              "      <td>fcfe44d0a0</td>\n",
              "      <td>0</td>\n",
              "    </tr>\n",
              "    <tr>\n",
              "      <th>2</th>\n",
              "      <td>213caf5cf5</td>\n",
              "      <td>0</td>\n",
              "    </tr>\n",
              "    <tr>\n",
              "      <th>3</th>\n",
              "      <td>15aefc8374</td>\n",
              "      <td>0</td>\n",
              "    </tr>\n",
              "    <tr>\n",
              "      <th>4</th>\n",
              "      <td>aded40e220</td>\n",
              "      <td>0</td>\n",
              "    </tr>\n",
              "  </tbody>\n",
              "</table>\n",
              "</div>\n",
              "      <button class=\"colab-df-convert\" onclick=\"convertToInteractive('df-9232ac3b-69ef-44f9-9511-7c4891f95a11')\"\n",
              "              title=\"Convert this dataframe to an interactive table.\"\n",
              "              style=\"display:none;\">\n",
              "        \n",
              "  <svg xmlns=\"http://www.w3.org/2000/svg\" height=\"24px\"viewBox=\"0 0 24 24\"\n",
              "       width=\"24px\">\n",
              "    <path d=\"M0 0h24v24H0V0z\" fill=\"none\"/>\n",
              "    <path d=\"M18.56 5.44l.94 2.06.94-2.06 2.06-.94-2.06-.94-.94-2.06-.94 2.06-2.06.94zm-11 1L8.5 8.5l.94-2.06 2.06-.94-2.06-.94L8.5 2.5l-.94 2.06-2.06.94zm10 10l.94 2.06.94-2.06 2.06-.94-2.06-.94-.94-2.06-.94 2.06-2.06.94z\"/><path d=\"M17.41 7.96l-1.37-1.37c-.4-.4-.92-.59-1.43-.59-.52 0-1.04.2-1.43.59L10.3 9.45l-7.72 7.72c-.78.78-.78 2.05 0 2.83L4 21.41c.39.39.9.59 1.41.59.51 0 1.02-.2 1.41-.59l7.78-7.78 2.81-2.81c.8-.78.8-2.07 0-2.86zM5.41 20L4 18.59l7.72-7.72 1.47 1.35L5.41 20z\"/>\n",
              "  </svg>\n",
              "      </button>\n",
              "      \n",
              "  <style>\n",
              "    .colab-df-container {\n",
              "      display:flex;\n",
              "      flex-wrap:wrap;\n",
              "      gap: 12px;\n",
              "    }\n",
              "\n",
              "    .colab-df-convert {\n",
              "      background-color: #E8F0FE;\n",
              "      border: none;\n",
              "      border-radius: 50%;\n",
              "      cursor: pointer;\n",
              "      display: none;\n",
              "      fill: #1967D2;\n",
              "      height: 32px;\n",
              "      padding: 0 0 0 0;\n",
              "      width: 32px;\n",
              "    }\n",
              "\n",
              "    .colab-df-convert:hover {\n",
              "      background-color: #E2EBFA;\n",
              "      box-shadow: 0px 1px 2px rgba(60, 64, 67, 0.3), 0px 1px 3px 1px rgba(60, 64, 67, 0.15);\n",
              "      fill: #174EA6;\n",
              "    }\n",
              "\n",
              "    [theme=dark] .colab-df-convert {\n",
              "      background-color: #3B4455;\n",
              "      fill: #D2E3FC;\n",
              "    }\n",
              "\n",
              "    [theme=dark] .colab-df-convert:hover {\n",
              "      background-color: #434B5C;\n",
              "      box-shadow: 0px 1px 3px 1px rgba(0, 0, 0, 0.15);\n",
              "      filter: drop-shadow(0px 1px 2px rgba(0, 0, 0, 0.3));\n",
              "      fill: #FFFFFF;\n",
              "    }\n",
              "  </style>\n",
              "\n",
              "      <script>\n",
              "        const buttonEl =\n",
              "          document.querySelector('#df-9232ac3b-69ef-44f9-9511-7c4891f95a11 button.colab-df-convert');\n",
              "        buttonEl.style.display =\n",
              "          google.colab.kernel.accessAllowed ? 'block' : 'none';\n",
              "\n",
              "        async function convertToInteractive(key) {\n",
              "          const element = document.querySelector('#df-9232ac3b-69ef-44f9-9511-7c4891f95a11');\n",
              "          const dataTable =\n",
              "            await google.colab.kernel.invokeFunction('convertToInteractive',\n",
              "                                                     [key], {});\n",
              "          if (!dataTable) return;\n",
              "\n",
              "          const docLinkHtml = 'Like what you see? Visit the ' +\n",
              "            '<a target=\"_blank\" href=https://colab.research.google.com/notebooks/data_table.ipynb>data table notebook</a>'\n",
              "            + ' to learn more about interactive tables.';\n",
              "          element.innerHTML = '';\n",
              "          dataTable['output_type'] = 'display_data';\n",
              "          await google.colab.output.renderOutput(dataTable, element);\n",
              "          const docLink = document.createElement('div');\n",
              "          docLink.innerHTML = docLinkHtml;\n",
              "          element.appendChild(docLink);\n",
              "        }\n",
              "      </script>\n",
              "    </div>\n",
              "  </div>\n",
              "  "
            ]
          },
          "metadata": {},
          "execution_count": 16
        }
      ]
    },
    {
      "cell_type": "code",
      "source": [
        "len(df_test)"
      ],
      "metadata": {
        "colab": {
          "base_uri": "https://localhost:8080/"
        },
        "id": "26CAvTdA9lsK",
        "outputId": "1929fc61-1a8e-4a90-c819-4fbfb1ef1950"
      },
      "execution_count": null,
      "outputs": [
        {
          "output_type": "execute_result",
          "data": {
            "text/plain": [
              "3781"
            ]
          },
          "metadata": {},
          "execution_count": 17
        }
      ]
    },
    {
      "cell_type": "code",
      "source": [
        "len(df_train)"
      ],
      "metadata": {
        "colab": {
          "base_uri": "https://localhost:8080/"
        },
        "id": "HjxZ4Nxr9ntj",
        "outputId": "b888c2f5-7c29-43b0-9901-9ba663612aa3"
      },
      "execution_count": null,
      "outputs": [
        {
          "output_type": "execute_result",
          "data": {
            "text/plain": [
              "3781"
            ]
          },
          "metadata": {},
          "execution_count": 18
        }
      ]
    },
    {
      "cell_type": "code",
      "source": [
        "df_train.info()"
      ],
      "metadata": {
        "colab": {
          "base_uri": "https://localhost:8080/"
        },
        "id": "usBPrWjl9pGh",
        "outputId": "8910ff18-9de6-4c80-ed32-88edafc18902"
      },
      "execution_count": null,
      "outputs": [
        {
          "output_type": "stream",
          "name": "stdout",
          "text": [
            "<class 'pandas.core.frame.DataFrame'>\n",
            "RangeIndex: 3781 entries, 0 to 3780\n",
            "Data columns (total 3 columns):\n",
            " #   Column  Non-Null Count  Dtype \n",
            "---  ------  --------------  ----- \n",
            " 0   id      3781 non-null   object\n",
            " 1   isFake  3781 non-null   int64 \n",
            " 2   text    3781 non-null   object\n",
            "dtypes: int64(1), object(2)\n",
            "memory usage: 88.7+ KB\n"
          ]
        }
      ]
    },
    {
      "cell_type": "code",
      "source": [
        "X_train = df_train[\"text\"]\n",
        "y_train = df_train[\"isFake\"]\n",
        "X_train"
      ],
      "metadata": {
        "colab": {
          "base_uri": "https://localhost:8080/"
        },
        "id": "wIX6N3m71MCl",
        "outputId": "799416c5-b2f9-44ed-b0f2-5bd13d724075"
      },
      "execution_count": null,
      "outputs": [
        {
          "output_type": "execute_result",
          "data": {
            "text/plain": [
              "0       Cによると、アメリカの元大統領で、最長寿だったジョージ・ウォーカー・ブッシュ氏が27日(C-...\n",
              "1       中日新聞によると、コナミカップ・プロ野球アジアシリーズ2007の決勝戦・日本の中日ドラゴンズ...\n",
              "2       愛媛Cは、11月12日にリーグ準加盟の承認を受けて、来期リーグ加盟を目指す愛媛Cに対して、鈴...\n",
              "3       国民日報によると3日、7時50分（UTC+9、日本時間と同じ）大韓民国京畿道平沢市の西海岸（...\n",
              "4       共同通信によると、5日午後2時過ぎから東京都、神奈川県、千葉県の3都県の広い範囲の地域で停電...\n",
              "                              ...                        \n",
              "3776    読売新聞によると、1月19日未明3時10分ごろ大分市の建設コンサルタント会社社長宅が全焼する...\n",
              "3777    シリアのガジ・カナン内相が12日自殺したとシリアの国営通信社SANAが同日伝えた。自殺は大き...\n",
              "3778    朝日新聞によると、日本陸上連盟は12月18日に行った理事会で、女子単独の国際大会となる北京オ...\n",
              "3779    Cによると、中国のインターネット中毒が中国で正式に病気として認定されるのは来年になる見通しで...\n",
              "3780    読売新聞他が伝えたところによると、第164回国会(臨時会)は9月24日(以下同)から召集され...\n",
              "Name: text, Length: 3781, dtype: object"
            ]
          },
          "metadata": {},
          "execution_count": 20
        }
      ]
    },
    {
      "cell_type": "code",
      "source": [
        "from sklearn.model_selection import train_test_split\n",
        "X_train, X_valid, y_train, y_valid = train_test_split(X_train, y_train, test_size=0.3, random_state=0, stratify=y_train)"
      ],
      "metadata": {
        "id": "_DB_ESN404N2"
      },
      "execution_count": null,
      "outputs": []
    },
    {
      "cell_type": "code",
      "source": [
        "df_train[\"text\"].values"
      ],
      "metadata": {
        "colab": {
          "base_uri": "https://localhost:8080/"
        },
        "id": "6dfqeWlI9qof",
        "outputId": "c6f97e3e-4a84-447a-99b7-4f0f25982eef"
      },
      "execution_count": null,
      "outputs": [
        {
          "output_type": "execute_result",
          "data": {
            "text/plain": [
              "array(['Cによると、アメリカの元大統領で、最長寿だったジョージ・ウォーカー・ブッシュ氏が27日(C-5)、ロサンゼルス市内の自宅で死去した。ブッシュ大統領とジョージ・W・ブッシュ前アメリカ合衆国副大統領は、これを悲しみに打ちひしがれた。 ウォーカー氏は50年、娘のステファニーさんが妊娠中に死去したと報じられていた。亡くなった後、ブッシュ大統領とブッシュ前米国大統領事館前ですれ違ったのが、ジョージ・ウルフ氏とジョージ・ケリー氏の2人。ウルフ氏はウルベス氏(現・ヘンリー・マンシーナ元首相)から「彼はもうすぐ来る」と言われている。ハリウッドは世界で唯一ウルベス氏の名が歴史から消えた存在であり、ウルベス氏自身でさえもウルベス氏の死に気づいていない。 ハリウッドはウルベス氏の死後、その遺体を受け継いでいるため、ハリウッドが「ウルベス・カウボーイ」に投票するという選択肢はハリウッド以外に存在しない。ウルベス氏は、ハリケーン以来27年間、ハリウッドから姿を消している。ウルベス氏が亡くなってすぐに、アメリカはウルベス氏を大統領に任命するが、15年間の大統領生活でハリウッドに戻ることはなかった。ウルベス氏は死の2か月後、自分の墓を「ハリウッドの墓地」と名付けて、自宅の敷地に自分の名前を付けることを決断した。 しかも15年間のハリウッド人生で最後の妻と結婚した、この人の最後の子はウルベス・ケリーである。ケリーが死ぬことで、ウルベス・カウボーイとしてのハリウッドの生活が終わりを告げることは必至である。 こうした点で、ウルベス氏の死に批判的なのは、ウルベス氏自身であろう。なぜハリウッドからの追放を決断したのか。ウルベス氏の死後、ハリウッド市民がどう思うのかは知らないが、彼が「死んだら何もかも終わり」と思った結果、追放を決意したのでなければ言えない。ウルベス・ウォーカーというハリウッドの政治家が、自分の息子に死の選択をさせるように仕向けたのだ。皮肉にも、ハリウッドはウルベス・ケリーの死の時期にハリウッド崩壊を招いたといえる。ウルベス氏の死を最後に「ハリウッドの崩壊」を望んだウルベス氏の息子であるハリー・ケリー氏は、「ハリー・ケリーはハリウッドのハリウッドの将来を宣告したのが奇妙だが、ハリウッドの政治家は誰も彼の発言を支持しないし、彼の娘や息子も、ウルベス氏の死後、彼の息子に関する発言を肯定することは無い。彼らの中にウルベス・カウボーイという言葉が無いのだから、ハリウッドの政治家たちは誰も彼のことは呼ばない。 この二人、ウルベス・ケリーは、彼らの娘や息子が自らの仕事や家族がハリウッドの将来のために働いたことに関して「自分たちのものにならないとハリウッドの人生が終わってしまう」と反対している。ケリーはその後の結婚に関して、彼女がウルベスの息子であろうとする態度を取っていると見るべきだろう。',\n",
              "       '中日新聞によると、コナミカップ・プロ野球アジアシリーズ2007の決勝戦・日本の中日ドラゴンズ対韓国リーグのSKワイバーンズの試合が11月11日東京ドームであり、中日が6-5で勝ってアジアシリーズ初優勝を決めるとともに、大会が創設された2005年の千葉ロッテ、2006年の北海道日本ハムに次ぎ、日本のチームが3年連続してアジアチャンピオンを獲得した。中日と日刊スポーツによると、1回・SKが2本のヒットで2点を先制すると、中日は2回に井上がレフトへのホームランを打って1点を返した。その後5回、1アウトから藤井がタイムリー2塁打で同点に追いつき、更に荒木が3塁ゴロから1点を追加して逆転。6回に李炳圭が2ランホームランを打って更にリードを広げたが、8回SKが李晋映の2ランホームランを放って同点に追いつかれた。しかし9回中日・井端が再び勝ち越しのタイムリー2塁打を打って接戦を制した。中日によると、今大会MVP（最優秀賞）は井端が選ばれた。日刊によると、中日は今大会初戦で、SKに大敗し同大会で日本勢初黒星を喫したが、落合監督はすぐに打線の組み替えなどを敢行して選手の競争意識を高め、残りの予選リーグ2試合、そしてこの決勝戦で3連勝を果たしてアジアチャンピオンを決めた。試合後のインタビューで「この重圧はペナントレース（リーグ戦）、日本シリーズとは違った。アジアシリーズ4試合でアジアの力は殆どないんじゃないでしょうか。今は勝ててホッとしています」と語り、来年については「リーグ優勝したかったという気持ちがある。やるからには完全優勝」と、ペナントレースとの日本3冠を目指す姿勢を見せていた。',\n",
              "       '愛媛Cは、11月12日にリーグ準加盟の承認を受けて、来期リーグ加盟を目指す愛媛Cに対して、鈴木チェアマンは最低限の条件をクリアしたとの見解を示した。※なお、1963年（昭和38年）までのリーグ昇格内定メンバーには、との条件が適用される。このように、リーグ昇格内定メンバーは、昇格内定メンバーがリーグに加入すると、リーグ昇格のための参加条件が適用されることが多い。ただし、リーグァンチャーレのチームについて、チーム活動を引き続き継続する意向を示したことから、リーグ所属の選手を対象とした、チーム活動を休止する「活動休止処分」へ移行した。 同年の第141回都市対抗野球大会に香川・愛媛Cは、香川県予選から、愛媛・愛媛Cが、出場する全試合を戦って勝ち抜くと、史上最年少としてMLB12球団史上最年少でシーズンMVP(最優秀選手賞)に輝いた。 同大会は、第6回社会人野球日本選手権競技大会に、27年ぶりに出場することとなった。その後も、リーグ戦は27年ぶりに5勝3敗で勝ち上がり、29年ぶりにAクラス入りを果たした高知・高知ファイティングドッグスは初の都市対抗野球に出場しベスト4まで勝ち進んだ。',\n",
              "       ...,\n",
              "       '朝日新聞によると、日本陸上連盟は12月18日に行った理事会で、女子単独の国際大会となる北京オリンピック女子マラソン日本代表選考会について、2009年を持って大会終了することを決め、女子単独での大会を2008年11月開催の30回大会を持って終了することを発表した。2009年は、2010年の北京五輪女子マラソンと同じ開催となる。2013年の平昌オリンピックでも女子マラソン日本代表選考会を開催した後、2016年、2019年も女子マラソン日本代表選考会を開催しないものの、北京五輪でも開催されている。出場条件は全競技で2時間以内に1勝した上で、その競技の成績の一部としてメダルを獲得した者（日本代表に選出される）とされているが、五輪実施国ではない日本の陸上界は、2008年のみの出場を認めている。',\n",
              "       'Cによると、中国のインターネット中毒が中国で正式に病気として認定されるのは来年になる見通しで、それまでネット中毒を賭博やアルコール中毒と同等に扱うようになるという。だがその後、ネット依存症は中国に残された。 2010年、国家衛生委員会(NHC)の諮問機関「香港科学技術諮まこじ-」は、現在の中国のインターネット環境の問題を憂慮したときに使われる用語を以下のように定義した。・通信技術技術省の考え方も浮上している。 インフルエンザが流行する中にもかかわらず、マスクは感染予防を目的に、手の消毒や手洗いが義務付けられている。これは安全管理が完璧といえるのだろうかと思うかもしれないが、ここで問題点が生じる。マスクの中にゴム製マスクを挟んでいたり、手が感染症等に感染しても問題ないと思われないよう、マスクは手洗いをしていない。    これについて質問したい。 ここで問題になるのは、マスクの内側は殺菌、消毒、消毒を行われておらず、そのまま感染源となってしまうのではないかと危惧する。そのうえで、日本のマスク文化と言うと、「マスク着用」という言葉だけが残されてしまっているのではないかと推測する。',\n",
              "       '読売新聞他が伝えたところによると、第164回国会(臨時会)は9月24日(以下同)から召集され、10月22日(同)に投開票される衆議院総選挙・参議院議員通常選挙について日程が近付いた。さらに10月27日に臨時国会を開催。それと同時に衆議院は衆議院の解散式で解散を宣言し、この10月27日に衆議院解散を議決。これから3日間の特別国会を開き、同年12月14日に衆議院を解散。翌12月15日の発表について議員が発言しなければならないと述べたという。これは、2010年に衆議院で開催された2010年全国選挙法改正案に反対する新党や、政府与党の新党を支持する議員の活動が行われた2010年10月の参議院総選挙は、政府与党側の反対意見もあり、その後に国会が開会される4年に一度の衆議院総選挙に参加が遅れていたことに対する抗議と思われる。2004年2月22日未明に発生した東日本大震災による東京電力福島第一原子力発電所事故により、福島5区の自民党内から福島4区を支持する議員が相次いで離党する動きも報じられたが、震災から1週間後の2月24日に行われた衆議院の臨時会で、3月8日に「国民の声」を受けて、5区との同選挙区の統合を訴えた。2004年10月に日本共産党を離党した日本共産党福島支部長の小平昌弘を福島5区の比例名簿作成支援会長として迎えて代表選立候補することを表明した。2004年10月12日の参議院通常国会に福島5区で出馬し、比例代表の補選では福島5区の第4位から第2位の得票で当選し、第4代当選者となった。なお、比例代表で当選したのは、福島3区の小平昌弘だけである。2005年2月24日、福島5区補欠選挙での福島5区補欠選挙で落選したため、福島5区の当選者発表を待たずに2005年福島民与党の結党を前提に入党した。2005年9月の第23回参議院議員通常選挙では現職当選の小平昌弘と、新社会党の新人の大内弘一らの支援を受けて無所属で出馬（当選）し（小平昌弘は16年ぶり7人目の福島5区の当選者となった）、1位通過だったものの比例復活することなく落選している。現在は、NHK番組審議会で福島5区から福島民野党への出馬表明が報じられ、同年10月15日に「東日本大震災に対する東日れあ支持を表明した党員及び党の意向に合わせた団体・団体の意見を代表し、説明を求める」旨の回答書を発表。これを受けて、日本共産党は10月17日の福島7区補欠選挙の福島7区補欠選挙に小平昌弘を擁立することを表明した。小平昌弘は出馬を表明し、選挙人団と党員数から1分の1の得票で得票を得た。'],\n",
              "      dtype=object)"
            ]
          },
          "metadata": {},
          "execution_count": 22
        }
      ]
    },
    {
      "cell_type": "markdown",
      "source": [
        "# TF-IDF"
      ],
      "metadata": {
        "id": "FDP1bJO7up8J"
      }
    },
    {
      "cell_type": "code",
      "source": [
        "from sklearn.feature_extraction.text import TfidfVectorizer"
      ],
      "metadata": {
        "id": "sUDyt7zkurfV"
      },
      "execution_count": null,
      "outputs": []
    },
    {
      "cell_type": "code",
      "source": [
        "# max_features を上げると良い\n",
        "vectorizer = TfidfVectorizer(max_features=10000)"
      ],
      "metadata": {
        "id": "06fra1c_uxLi"
      },
      "execution_count": null,
      "outputs": []
    },
    {
      "cell_type": "code",
      "source": [
        "X_train = vectorizer.fit_transform(X_train.values)\n",
        "X_valid = vectorizer.transform(X_valid.values)"
      ],
      "metadata": {
        "id": "u2oSdt0Qu7hM"
      },
      "execution_count": null,
      "outputs": []
    },
    {
      "cell_type": "code",
      "source": [
        "X_train"
      ],
      "metadata": {
        "colab": {
          "base_uri": "https://localhost:8080/"
        },
        "id": "nzGel636D9g1",
        "outputId": "9c5a17f1-2cfc-48a3-dcef-079c36dc5b09"
      },
      "execution_count": null,
      "outputs": [
        {
          "output_type": "execute_result",
          "data": {
            "text/plain": [
              "<2646x10000 sparse matrix of type '<class 'numpy.float64'>'\n",
              "\twith 25528 stored elements in Compressed Sparse Row format>"
            ]
          },
          "metadata": {},
          "execution_count": 40
        }
      ]
    },
    {
      "cell_type": "code",
      "source": [
        "import lightgbm as lgb\n",
        "\n",
        "train_set = lgb.Dataset(X_train, y_train.values)\n",
        "valid_set = lgb.Dataset(X_valid, y_valid.values, reference=train_set)"
      ],
      "metadata": {
        "id": "z6t-gvAovIUX"
      },
      "execution_count": null,
      "outputs": []
    },
    {
      "cell_type": "code",
      "source": [
        "params = {\n",
        "    \"objective\" : \"multiclass\",\n",
        "    \"metric\" : \"multi_logloss\",\n",
        "    \"num_class\" : 20\n",
        "}"
      ],
      "metadata": {
        "id": "TJKkggO_vJT6"
      },
      "execution_count": null,
      "outputs": []
    },
    {
      "cell_type": "code",
      "source": [
        "model = lgb.train(\n",
        "    params = params,\n",
        "    train_set = train_set,\n",
        "    valid_sets = [train_set, valid_set],\n",
        "    num_boost_round = 1000,\n",
        "    early_stopping_rounds = 20,\n",
        "    verbose_eval = 10,\n",
        ")"
      ],
      "metadata": {
        "colab": {
          "base_uri": "https://localhost:8080/"
        },
        "id": "BZTInDo8vO4j",
        "outputId": "4bf43f1a-49d3-4a9d-a501-b620ae9df47c"
      },
      "execution_count": null,
      "outputs": [
        {
          "output_type": "stream",
          "name": "stdout",
          "text": [
            "Training until validation scores don't improve for 20 rounds.\n",
            "[10]\ttraining's multi_logloss: 0.48846\tvalid_1's multi_logloss: 0.52981\n",
            "[20]\ttraining's multi_logloss: 0.418528\tvalid_1's multi_logloss: 0.480551\n",
            "[30]\ttraining's multi_logloss: 0.386512\tvalid_1's multi_logloss: 0.471813\n",
            "[40]\ttraining's multi_logloss: 0.360341\tvalid_1's multi_logloss: 0.468095\n",
            "[50]\ttraining's multi_logloss: 0.340961\tvalid_1's multi_logloss: 0.475222\n",
            "Early stopping, best iteration is:\n",
            "[38]\ttraining's multi_logloss: 0.364402\tvalid_1's multi_logloss: 0.467695\n"
          ]
        }
      ]
    },
    {
      "cell_type": "code",
      "source": [
        "df_test"
      ],
      "metadata": {
        "colab": {
          "base_uri": "https://localhost:8080/",
          "height": 424
        },
        "id": "jM1yPXtC2Tfj",
        "outputId": "a596020a-dcb2-4bc4-d809-324566a43f7b"
      },
      "execution_count": null,
      "outputs": [
        {
          "output_type": "execute_result",
          "data": {
            "text/plain": [
              "              id                                               text\n",
              "0     d253d7b7ac  共同通信によると、ペルーの政党「シ・クンプレ」が、6日、中央選管である全国選挙評議会 (JN...\n",
              "1     fcfe44d0a0  自殺した川田亜子さんの元恋人とされる、映画監督で平和活動家のマット・テイラー氏が、川田さんが...\n",
              "2     213caf5cf5  沖縄タイムスによると、アメリカ軍の海兵隊・二等軍曹(38歳)が2月10日深夜、沖縄市の公園近...\n",
              "3     15aefc8374  動画投稿サイト「C2」に人気ドラマやバラエティ番組を投稿したとして、著作権法違反(公衆送信権...\n",
              "4     aded40e220  報道機関各社によると、12月1日、東京都内で日本プロ野球の2次ドラフトが初めて行われた。サン...\n",
              "...          ...                                                ...\n",
              "3776  f87ff9f55f  スポーツニッポンによると、2015年9月12日に投票が行われることになっている(欧州サッカー...\n",
              "3777  f7bb120e80  朝日新聞・時事通信によると、大韓民国の仁川空港とソウル駅とを結ぶ空港鉄道（KORAIL空港鉄...\n",
              "3778  09cb71299e  気象庁によると、台風17号「ルンビア」(umbia)は、7日午前10時現在、南鳥島の南西約2...\n",
              "3779  ce8e47d692  中日新聞、朝日新聞、読売新聞、産経新聞、C、日本放送協会によると、インドネシアは27日、バン...\n",
              "3780  044c06ac12  25日、高校の一部科目の履修漏れが判明した問題で、26日までに35都道県の254校(内、私立...\n",
              "\n",
              "[3781 rows x 2 columns]"
            ],
            "text/html": [
              "\n",
              "  <div id=\"df-6baa21d7-8275-4552-ba01-2ab9fff2f35d\">\n",
              "    <div class=\"colab-df-container\">\n",
              "      <div>\n",
              "<style scoped>\n",
              "    .dataframe tbody tr th:only-of-type {\n",
              "        vertical-align: middle;\n",
              "    }\n",
              "\n",
              "    .dataframe tbody tr th {\n",
              "        vertical-align: top;\n",
              "    }\n",
              "\n",
              "    .dataframe thead th {\n",
              "        text-align: right;\n",
              "    }\n",
              "</style>\n",
              "<table border=\"1\" class=\"dataframe\">\n",
              "  <thead>\n",
              "    <tr style=\"text-align: right;\">\n",
              "      <th></th>\n",
              "      <th>id</th>\n",
              "      <th>text</th>\n",
              "    </tr>\n",
              "  </thead>\n",
              "  <tbody>\n",
              "    <tr>\n",
              "      <th>0</th>\n",
              "      <td>d253d7b7ac</td>\n",
              "      <td>共同通信によると、ペルーの政党「シ・クンプレ」が、6日、中央選管である全国選挙評議会 (JN...</td>\n",
              "    </tr>\n",
              "    <tr>\n",
              "      <th>1</th>\n",
              "      <td>fcfe44d0a0</td>\n",
              "      <td>自殺した川田亜子さんの元恋人とされる、映画監督で平和活動家のマット・テイラー氏が、川田さんが...</td>\n",
              "    </tr>\n",
              "    <tr>\n",
              "      <th>2</th>\n",
              "      <td>213caf5cf5</td>\n",
              "      <td>沖縄タイムスによると、アメリカ軍の海兵隊・二等軍曹(38歳)が2月10日深夜、沖縄市の公園近...</td>\n",
              "    </tr>\n",
              "    <tr>\n",
              "      <th>3</th>\n",
              "      <td>15aefc8374</td>\n",
              "      <td>動画投稿サイト「C2」に人気ドラマやバラエティ番組を投稿したとして、著作権法違反(公衆送信権...</td>\n",
              "    </tr>\n",
              "    <tr>\n",
              "      <th>4</th>\n",
              "      <td>aded40e220</td>\n",
              "      <td>報道機関各社によると、12月1日、東京都内で日本プロ野球の2次ドラフトが初めて行われた。サン...</td>\n",
              "    </tr>\n",
              "    <tr>\n",
              "      <th>...</th>\n",
              "      <td>...</td>\n",
              "      <td>...</td>\n",
              "    </tr>\n",
              "    <tr>\n",
              "      <th>3776</th>\n",
              "      <td>f87ff9f55f</td>\n",
              "      <td>スポーツニッポンによると、2015年9月12日に投票が行われることになっている(欧州サッカー...</td>\n",
              "    </tr>\n",
              "    <tr>\n",
              "      <th>3777</th>\n",
              "      <td>f7bb120e80</td>\n",
              "      <td>朝日新聞・時事通信によると、大韓民国の仁川空港とソウル駅とを結ぶ空港鉄道（KORAIL空港鉄...</td>\n",
              "    </tr>\n",
              "    <tr>\n",
              "      <th>3778</th>\n",
              "      <td>09cb71299e</td>\n",
              "      <td>気象庁によると、台風17号「ルンビア」(umbia)は、7日午前10時現在、南鳥島の南西約2...</td>\n",
              "    </tr>\n",
              "    <tr>\n",
              "      <th>3779</th>\n",
              "      <td>ce8e47d692</td>\n",
              "      <td>中日新聞、朝日新聞、読売新聞、産経新聞、C、日本放送協会によると、インドネシアは27日、バン...</td>\n",
              "    </tr>\n",
              "    <tr>\n",
              "      <th>3780</th>\n",
              "      <td>044c06ac12</td>\n",
              "      <td>25日、高校の一部科目の履修漏れが判明した問題で、26日までに35都道県の254校(内、私立...</td>\n",
              "    </tr>\n",
              "  </tbody>\n",
              "</table>\n",
              "<p>3781 rows × 2 columns</p>\n",
              "</div>\n",
              "      <button class=\"colab-df-convert\" onclick=\"convertToInteractive('df-6baa21d7-8275-4552-ba01-2ab9fff2f35d')\"\n",
              "              title=\"Convert this dataframe to an interactive table.\"\n",
              "              style=\"display:none;\">\n",
              "        \n",
              "  <svg xmlns=\"http://www.w3.org/2000/svg\" height=\"24px\"viewBox=\"0 0 24 24\"\n",
              "       width=\"24px\">\n",
              "    <path d=\"M0 0h24v24H0V0z\" fill=\"none\"/>\n",
              "    <path d=\"M18.56 5.44l.94 2.06.94-2.06 2.06-.94-2.06-.94-.94-2.06-.94 2.06-2.06.94zm-11 1L8.5 8.5l.94-2.06 2.06-.94-2.06-.94L8.5 2.5l-.94 2.06-2.06.94zm10 10l.94 2.06.94-2.06 2.06-.94-2.06-.94-.94-2.06-.94 2.06-2.06.94z\"/><path d=\"M17.41 7.96l-1.37-1.37c-.4-.4-.92-.59-1.43-.59-.52 0-1.04.2-1.43.59L10.3 9.45l-7.72 7.72c-.78.78-.78 2.05 0 2.83L4 21.41c.39.39.9.59 1.41.59.51 0 1.02-.2 1.41-.59l7.78-7.78 2.81-2.81c.8-.78.8-2.07 0-2.86zM5.41 20L4 18.59l7.72-7.72 1.47 1.35L5.41 20z\"/>\n",
              "  </svg>\n",
              "      </button>\n",
              "      \n",
              "  <style>\n",
              "    .colab-df-container {\n",
              "      display:flex;\n",
              "      flex-wrap:wrap;\n",
              "      gap: 12px;\n",
              "    }\n",
              "\n",
              "    .colab-df-convert {\n",
              "      background-color: #E8F0FE;\n",
              "      border: none;\n",
              "      border-radius: 50%;\n",
              "      cursor: pointer;\n",
              "      display: none;\n",
              "      fill: #1967D2;\n",
              "      height: 32px;\n",
              "      padding: 0 0 0 0;\n",
              "      width: 32px;\n",
              "    }\n",
              "\n",
              "    .colab-df-convert:hover {\n",
              "      background-color: #E2EBFA;\n",
              "      box-shadow: 0px 1px 2px rgba(60, 64, 67, 0.3), 0px 1px 3px 1px rgba(60, 64, 67, 0.15);\n",
              "      fill: #174EA6;\n",
              "    }\n",
              "\n",
              "    [theme=dark] .colab-df-convert {\n",
              "      background-color: #3B4455;\n",
              "      fill: #D2E3FC;\n",
              "    }\n",
              "\n",
              "    [theme=dark] .colab-df-convert:hover {\n",
              "      background-color: #434B5C;\n",
              "      box-shadow: 0px 1px 3px 1px rgba(0, 0, 0, 0.15);\n",
              "      filter: drop-shadow(0px 1px 2px rgba(0, 0, 0, 0.3));\n",
              "      fill: #FFFFFF;\n",
              "    }\n",
              "  </style>\n",
              "\n",
              "      <script>\n",
              "        const buttonEl =\n",
              "          document.querySelector('#df-6baa21d7-8275-4552-ba01-2ab9fff2f35d button.colab-df-convert');\n",
              "        buttonEl.style.display =\n",
              "          google.colab.kernel.accessAllowed ? 'block' : 'none';\n",
              "\n",
              "        async function convertToInteractive(key) {\n",
              "          const element = document.querySelector('#df-6baa21d7-8275-4552-ba01-2ab9fff2f35d');\n",
              "          const dataTable =\n",
              "            await google.colab.kernel.invokeFunction('convertToInteractive',\n",
              "                                                     [key], {});\n",
              "          if (!dataTable) return;\n",
              "\n",
              "          const docLinkHtml = 'Like what you see? Visit the ' +\n",
              "            '<a target=\"_blank\" href=https://colab.research.google.com/notebooks/data_table.ipynb>data table notebook</a>'\n",
              "            + ' to learn more about interactive tables.';\n",
              "          element.innerHTML = '';\n",
              "          dataTable['output_type'] = 'display_data';\n",
              "          await google.colab.output.renderOutput(dataTable, element);\n",
              "          const docLink = document.createElement('div');\n",
              "          docLink.innerHTML = docLinkHtml;\n",
              "          element.appendChild(docLink);\n",
              "        }\n",
              "      </script>\n",
              "    </div>\n",
              "  </div>\n",
              "  "
            ]
          },
          "metadata": {},
          "execution_count": 29
        }
      ]
    },
    {
      "cell_type": "code",
      "source": [
        "test_submit = df_test[\"text\"]\n",
        "test_submit"
      ],
      "metadata": {
        "colab": {
          "base_uri": "https://localhost:8080/"
        },
        "id": "YEMagstO2oWN",
        "outputId": "aebefde0-d95e-460d-aa8a-fd3d56877d6c"
      },
      "execution_count": null,
      "outputs": [
        {
          "output_type": "execute_result",
          "data": {
            "text/plain": [
              "0       共同通信によると、ペルーの政党「シ・クンプレ」が、6日、中央選管である全国選挙評議会 (JN...\n",
              "1       自殺した川田亜子さんの元恋人とされる、映画監督で平和活動家のマット・テイラー氏が、川田さんが...\n",
              "2       沖縄タイムスによると、アメリカ軍の海兵隊・二等軍曹(38歳)が2月10日深夜、沖縄市の公園近...\n",
              "3       動画投稿サイト「C2」に人気ドラマやバラエティ番組を投稿したとして、著作権法違反(公衆送信権...\n",
              "4       報道機関各社によると、12月1日、東京都内で日本プロ野球の2次ドラフトが初めて行われた。サン...\n",
              "                              ...                        \n",
              "3776    スポーツニッポンによると、2015年9月12日に投票が行われることになっている(欧州サッカー...\n",
              "3777    朝日新聞・時事通信によると、大韓民国の仁川空港とソウル駅とを結ぶ空港鉄道（KORAIL空港鉄...\n",
              "3778    気象庁によると、台風17号「ルンビア」(umbia)は、7日午前10時現在、南鳥島の南西約2...\n",
              "3779    中日新聞、朝日新聞、読売新聞、産経新聞、C、日本放送協会によると、インドネシアは27日、バン...\n",
              "3780    25日、高校の一部科目の履修漏れが判明した問題で、26日までに35都道県の254校(内、私立...\n",
              "Name: text, Length: 3781, dtype: object"
            ]
          },
          "metadata": {},
          "execution_count": 30
        }
      ]
    },
    {
      "cell_type": "code",
      "source": [
        "X_test = vectorizer.transform(test_submit)"
      ],
      "metadata": {
        "id": "wzIttM3G3YKa"
      },
      "execution_count": null,
      "outputs": []
    },
    {
      "cell_type": "code",
      "source": [
        "y_test = model.predict(X_test).argmax(axis=1)"
      ],
      "metadata": {
        "id": "FUOasXWU37JH"
      },
      "execution_count": null,
      "outputs": []
    },
    {
      "cell_type": "code",
      "source": [
        "df_sample_submission[\"isFake\"] = y_test"
      ],
      "metadata": {
        "id": "5Gtfz34Y38GE"
      },
      "execution_count": null,
      "outputs": []
    },
    {
      "cell_type": "code",
      "source": [
        "df_sample_submission"
      ],
      "metadata": {
        "colab": {
          "base_uri": "https://localhost:8080/",
          "height": 424
        },
        "id": "D39fnCmF4NTc",
        "outputId": "a85138b3-91ba-46d2-f50d-94923c5b75e3"
      },
      "execution_count": null,
      "outputs": [
        {
          "output_type": "execute_result",
          "data": {
            "text/plain": [
              "              id  isFake\n",
              "0     d253d7b7ac       1\n",
              "1     fcfe44d0a0       0\n",
              "2     213caf5cf5       1\n",
              "3     15aefc8374       1\n",
              "4     aded40e220       1\n",
              "...          ...     ...\n",
              "3776  f87ff9f55f       0\n",
              "3777  f7bb120e80       0\n",
              "3778  09cb71299e       1\n",
              "3779  ce8e47d692       1\n",
              "3780  044c06ac12       1\n",
              "\n",
              "[3781 rows x 2 columns]"
            ],
            "text/html": [
              "\n",
              "  <div id=\"df-4c31db4a-aca1-4db0-9d20-dd30ef8c519e\">\n",
              "    <div class=\"colab-df-container\">\n",
              "      <div>\n",
              "<style scoped>\n",
              "    .dataframe tbody tr th:only-of-type {\n",
              "        vertical-align: middle;\n",
              "    }\n",
              "\n",
              "    .dataframe tbody tr th {\n",
              "        vertical-align: top;\n",
              "    }\n",
              "\n",
              "    .dataframe thead th {\n",
              "        text-align: right;\n",
              "    }\n",
              "</style>\n",
              "<table border=\"1\" class=\"dataframe\">\n",
              "  <thead>\n",
              "    <tr style=\"text-align: right;\">\n",
              "      <th></th>\n",
              "      <th>id</th>\n",
              "      <th>isFake</th>\n",
              "    </tr>\n",
              "  </thead>\n",
              "  <tbody>\n",
              "    <tr>\n",
              "      <th>0</th>\n",
              "      <td>d253d7b7ac</td>\n",
              "      <td>1</td>\n",
              "    </tr>\n",
              "    <tr>\n",
              "      <th>1</th>\n",
              "      <td>fcfe44d0a0</td>\n",
              "      <td>0</td>\n",
              "    </tr>\n",
              "    <tr>\n",
              "      <th>2</th>\n",
              "      <td>213caf5cf5</td>\n",
              "      <td>1</td>\n",
              "    </tr>\n",
              "    <tr>\n",
              "      <th>3</th>\n",
              "      <td>15aefc8374</td>\n",
              "      <td>1</td>\n",
              "    </tr>\n",
              "    <tr>\n",
              "      <th>4</th>\n",
              "      <td>aded40e220</td>\n",
              "      <td>1</td>\n",
              "    </tr>\n",
              "    <tr>\n",
              "      <th>...</th>\n",
              "      <td>...</td>\n",
              "      <td>...</td>\n",
              "    </tr>\n",
              "    <tr>\n",
              "      <th>3776</th>\n",
              "      <td>f87ff9f55f</td>\n",
              "      <td>0</td>\n",
              "    </tr>\n",
              "    <tr>\n",
              "      <th>3777</th>\n",
              "      <td>f7bb120e80</td>\n",
              "      <td>0</td>\n",
              "    </tr>\n",
              "    <tr>\n",
              "      <th>3778</th>\n",
              "      <td>09cb71299e</td>\n",
              "      <td>1</td>\n",
              "    </tr>\n",
              "    <tr>\n",
              "      <th>3779</th>\n",
              "      <td>ce8e47d692</td>\n",
              "      <td>1</td>\n",
              "    </tr>\n",
              "    <tr>\n",
              "      <th>3780</th>\n",
              "      <td>044c06ac12</td>\n",
              "      <td>1</td>\n",
              "    </tr>\n",
              "  </tbody>\n",
              "</table>\n",
              "<p>3781 rows × 2 columns</p>\n",
              "</div>\n",
              "      <button class=\"colab-df-convert\" onclick=\"convertToInteractive('df-4c31db4a-aca1-4db0-9d20-dd30ef8c519e')\"\n",
              "              title=\"Convert this dataframe to an interactive table.\"\n",
              "              style=\"display:none;\">\n",
              "        \n",
              "  <svg xmlns=\"http://www.w3.org/2000/svg\" height=\"24px\"viewBox=\"0 0 24 24\"\n",
              "       width=\"24px\">\n",
              "    <path d=\"M0 0h24v24H0V0z\" fill=\"none\"/>\n",
              "    <path d=\"M18.56 5.44l.94 2.06.94-2.06 2.06-.94-2.06-.94-.94-2.06-.94 2.06-2.06.94zm-11 1L8.5 8.5l.94-2.06 2.06-.94-2.06-.94L8.5 2.5l-.94 2.06-2.06.94zm10 10l.94 2.06.94-2.06 2.06-.94-2.06-.94-.94-2.06-.94 2.06-2.06.94z\"/><path d=\"M17.41 7.96l-1.37-1.37c-.4-.4-.92-.59-1.43-.59-.52 0-1.04.2-1.43.59L10.3 9.45l-7.72 7.72c-.78.78-.78 2.05 0 2.83L4 21.41c.39.39.9.59 1.41.59.51 0 1.02-.2 1.41-.59l7.78-7.78 2.81-2.81c.8-.78.8-2.07 0-2.86zM5.41 20L4 18.59l7.72-7.72 1.47 1.35L5.41 20z\"/>\n",
              "  </svg>\n",
              "      </button>\n",
              "      \n",
              "  <style>\n",
              "    .colab-df-container {\n",
              "      display:flex;\n",
              "      flex-wrap:wrap;\n",
              "      gap: 12px;\n",
              "    }\n",
              "\n",
              "    .colab-df-convert {\n",
              "      background-color: #E8F0FE;\n",
              "      border: none;\n",
              "      border-radius: 50%;\n",
              "      cursor: pointer;\n",
              "      display: none;\n",
              "      fill: #1967D2;\n",
              "      height: 32px;\n",
              "      padding: 0 0 0 0;\n",
              "      width: 32px;\n",
              "    }\n",
              "\n",
              "    .colab-df-convert:hover {\n",
              "      background-color: #E2EBFA;\n",
              "      box-shadow: 0px 1px 2px rgba(60, 64, 67, 0.3), 0px 1px 3px 1px rgba(60, 64, 67, 0.15);\n",
              "      fill: #174EA6;\n",
              "    }\n",
              "\n",
              "    [theme=dark] .colab-df-convert {\n",
              "      background-color: #3B4455;\n",
              "      fill: #D2E3FC;\n",
              "    }\n",
              "\n",
              "    [theme=dark] .colab-df-convert:hover {\n",
              "      background-color: #434B5C;\n",
              "      box-shadow: 0px 1px 3px 1px rgba(0, 0, 0, 0.15);\n",
              "      filter: drop-shadow(0px 1px 2px rgba(0, 0, 0, 0.3));\n",
              "      fill: #FFFFFF;\n",
              "    }\n",
              "  </style>\n",
              "\n",
              "      <script>\n",
              "        const buttonEl =\n",
              "          document.querySelector('#df-4c31db4a-aca1-4db0-9d20-dd30ef8c519e button.colab-df-convert');\n",
              "        buttonEl.style.display =\n",
              "          google.colab.kernel.accessAllowed ? 'block' : 'none';\n",
              "\n",
              "        async function convertToInteractive(key) {\n",
              "          const element = document.querySelector('#df-4c31db4a-aca1-4db0-9d20-dd30ef8c519e');\n",
              "          const dataTable =\n",
              "            await google.colab.kernel.invokeFunction('convertToInteractive',\n",
              "                                                     [key], {});\n",
              "          if (!dataTable) return;\n",
              "\n",
              "          const docLinkHtml = 'Like what you see? Visit the ' +\n",
              "            '<a target=\"_blank\" href=https://colab.research.google.com/notebooks/data_table.ipynb>data table notebook</a>'\n",
              "            + ' to learn more about interactive tables.';\n",
              "          element.innerHTML = '';\n",
              "          dataTable['output_type'] = 'display_data';\n",
              "          await google.colab.output.renderOutput(dataTable, element);\n",
              "          const docLink = document.createElement('div');\n",
              "          docLink.innerHTML = docLinkHtml;\n",
              "          element.appendChild(docLink);\n",
              "        }\n",
              "      </script>\n",
              "    </div>\n",
              "  </div>\n",
              "  "
            ]
          },
          "metadata": {},
          "execution_count": 34
        }
      ]
    },
    {
      "cell_type": "code",
      "source": [
        "df_sample_submission.to_csv(\"submission.csv\",index=False)"
      ],
      "metadata": {
        "id": "G56iptCP4Qzq"
      },
      "execution_count": null,
      "outputs": []
    }
  ]
}