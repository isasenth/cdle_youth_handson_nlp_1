{
  "nbformat": 4,
  "nbformat_minor": 0,
  "metadata": {
    "colab": {
      "name": "visualize_dataset.ipynb",
      "provenance": [],
      "toc_visible": true,
      "mount_file_id": "18JSeeAa5YrBsaoquYDMsKSw8WRrxvnEX",
      "authorship_tag": "ABX9TyPNQpX2L4iwBsfFyTsdyCKC",
      "include_colab_link": true
    },
    "kernelspec": {
      "name": "python3",
      "display_name": "Python 3"
    },
    "language_info": {
      "name": "python"
    }
  },
  "cells": [
    {
      "cell_type": "markdown",
      "metadata": {
        "id": "view-in-github",
        "colab_type": "text"
      },
      "source": [
        "<a href=\"https://colab.research.google.com/github/isasenth/cdle_youth_handson_nlp_1/blob/okazawa/visualize_dataset.ipynb\" target=\"_parent\"><img src=\"https://colab.research.google.com/assets/colab-badge.svg\" alt=\"Open In Colab\"/></a>"
      ]
    },
    {
      "cell_type": "code",
      "execution_count": null,
      "metadata": {
        "colab": {
          "base_uri": "https://localhost:8080/"
        },
        "id": "0AV8CVfgot9X",
        "outputId": "9c721e68-8241-4c6e-f247-e67b3354e804"
      },
      "outputs": [
        {
          "output_type": "stream",
          "name": "stdout",
          "text": [
            "Requirement already satisfied: nlplot in /usr/local/lib/python3.7/dist-packages (1.4.0)\n",
            "Requirement already satisfied: matplotlib in /usr/local/lib/python3.7/dist-packages (from nlplot) (3.2.2)\n",
            "Requirement already satisfied: pandas in /usr/local/lib/python3.7/dist-packages (from nlplot) (1.3.5)\n",
            "Requirement already satisfied: wordcloud in /usr/local/lib/python3.7/dist-packages (from nlplot) (1.5.0)\n",
            "Requirement already satisfied: pillow in /usr/local/lib/python3.7/dist-packages (from nlplot) (7.1.2)\n",
            "Requirement already satisfied: networkx in /usr/local/lib/python3.7/dist-packages (from nlplot) (2.6.3)\n",
            "Requirement already satisfied: ipython in /usr/local/lib/python3.7/dist-packages (from nlplot) (5.5.0)\n",
            "Requirement already satisfied: tqdm in /usr/local/lib/python3.7/dist-packages (from nlplot) (4.64.0)\n",
            "Requirement already satisfied: scikit-learn in /usr/local/lib/python3.7/dist-packages (from nlplot) (1.0.2)\n",
            "Requirement already satisfied: numpy in /usr/local/lib/python3.7/dist-packages (from nlplot) (1.21.6)\n",
            "Requirement already satisfied: seaborn in /usr/local/lib/python3.7/dist-packages (from nlplot) (0.11.2)\n",
            "Requirement already satisfied: plotly>=4.12.0 in /usr/local/lib/python3.7/dist-packages (from nlplot) (5.6.0)\n",
            "Requirement already satisfied: tenacity>=6.2.0 in /usr/local/lib/python3.7/dist-packages (from plotly>=4.12.0->nlplot) (8.0.1)\n",
            "Requirement already satisfied: six in /usr/local/lib/python3.7/dist-packages (from plotly>=4.12.0->nlplot) (1.15.0)\n",
            "Requirement already satisfied: traitlets>=4.2 in /usr/local/lib/python3.7/dist-packages (from ipython->nlplot) (5.1.1)\n",
            "Requirement already satisfied: decorator in /usr/local/lib/python3.7/dist-packages (from ipython->nlplot) (4.4.2)\n",
            "Requirement already satisfied: pygments in /usr/local/lib/python3.7/dist-packages (from ipython->nlplot) (2.6.1)\n",
            "Requirement already satisfied: prompt-toolkit<2.0.0,>=1.0.4 in /usr/local/lib/python3.7/dist-packages (from ipython->nlplot) (1.0.18)\n",
            "Requirement already satisfied: pickleshare in /usr/local/lib/python3.7/dist-packages (from ipython->nlplot) (0.7.5)\n",
            "Requirement already satisfied: pexpect in /usr/local/lib/python3.7/dist-packages (from ipython->nlplot) (4.8.0)\n",
            "Requirement already satisfied: simplegeneric>0.8 in /usr/local/lib/python3.7/dist-packages (from ipython->nlplot) (0.8.1)\n",
            "Requirement already satisfied: setuptools>=18.5 in /usr/local/lib/python3.7/dist-packages (from ipython->nlplot) (57.4.0)\n",
            "Requirement already satisfied: wcwidth in /usr/local/lib/python3.7/dist-packages (from prompt-toolkit<2.0.0,>=1.0.4->ipython->nlplot) (0.2.5)\n",
            "Requirement already satisfied: python-dateutil>=2.1 in /usr/local/lib/python3.7/dist-packages (from matplotlib->nlplot) (2.8.2)\n",
            "Requirement already satisfied: pyparsing!=2.0.4,!=2.1.2,!=2.1.6,>=2.0.1 in /usr/local/lib/python3.7/dist-packages (from matplotlib->nlplot) (3.0.8)\n",
            "Requirement already satisfied: kiwisolver>=1.0.1 in /usr/local/lib/python3.7/dist-packages (from matplotlib->nlplot) (1.4.2)\n",
            "Requirement already satisfied: cycler>=0.10 in /usr/local/lib/python3.7/dist-packages (from matplotlib->nlplot) (0.11.0)\n",
            "Requirement already satisfied: typing-extensions in /usr/local/lib/python3.7/dist-packages (from kiwisolver>=1.0.1->matplotlib->nlplot) (4.2.0)\n",
            "Requirement already satisfied: pytz>=2017.3 in /usr/local/lib/python3.7/dist-packages (from pandas->nlplot) (2022.1)\n",
            "Requirement already satisfied: ptyprocess>=0.5 in /usr/local/lib/python3.7/dist-packages (from pexpect->ipython->nlplot) (0.7.0)\n",
            "Requirement already satisfied: scipy>=1.1.0 in /usr/local/lib/python3.7/dist-packages (from scikit-learn->nlplot) (1.4.1)\n",
            "Requirement already satisfied: joblib>=0.11 in /usr/local/lib/python3.7/dist-packages (from scikit-learn->nlplot) (1.1.0)\n",
            "Requirement already satisfied: threadpoolctl>=2.0.0 in /usr/local/lib/python3.7/dist-packages (from scikit-learn->nlplot) (3.1.0)\n",
            "Cloning into 'mecab-ipadic-neologd'...\n",
            "remote: Enumerating objects: 75, done.\u001b[K\n",
            "remote: Counting objects: 100% (75/75), done.\u001b[K\n",
            "remote: Compressing objects: 100% (74/74), done.\u001b[K\n",
            "remote: Total 75 (delta 5), reused 54 (delta 0), pack-reused 0\u001b[K\n",
            "Unpacking objects: 100% (75/75), done.\n",
            "/usr/lib/x86_64-linux-gnu/mecab/dic/mecab-ipadic-neologd\n"
          ]
        }
      ],
      "source": [
        "# 可視化用パッケージ\n",
        "!pip install nlplot\n",
        "\n",
        "# 形態素分析ライブラリーMeCab と 辞書(mecab-ipadic-NEologd)のインストール \n",
        "!apt-get -q -y install sudo file mecab libmecab-dev mecab-ipadic-utf8 git curl python-mecab > /dev/null\n",
        "!git clone --depth 1 https://github.com/neologd/mecab-ipadic-neologd.git > /dev/null \n",
        "!echo yes | mecab-ipadic-neologd/bin/install-mecab-ipadic-neologd -n > /dev/null 2>&1\n",
        "!pip install mecab-python3 > /dev/null\n",
        "\n",
        "# シンボリックリンクによるエラー回避\n",
        "!ln -s /etc/mecabrc /usr/local/etc/mecabrc\n",
        "\n",
        "# 辞書のパスの確認\n",
        "!echo `mecab-config --dicdir`\"/mecab-ipadic-neologd\""
      ]
    },
    {
      "cell_type": "markdown",
      "source": [
        "# データ読み込み"
      ],
      "metadata": {
        "id": "iIqgUrESHXYF"
      }
    },
    {
      "cell_type": "code",
      "source": [
        "import pandas as pd\n",
        "\n",
        "train_df = pd.read_csv('/content/drive/MyDrive/nishika_fake-news/train.csv')\n",
        "test_df = pd.read_csv('/content/drive/MyDrive/nishika_fake-news/test.csv')\n",
        "\n",
        "train_df"
      ],
      "metadata": {
        "colab": {
          "base_uri": "https://localhost:8080/",
          "height": 423
        },
        "id": "9sVmo_b-o9Rv",
        "outputId": "1ec221ee-d84b-47d6-d94e-aed6f3f3585c"
      },
      "execution_count": null,
      "outputs": [
        {
          "output_type": "execute_result",
          "data": {
            "text/plain": [
              "              id  isFake                                               text\n",
              "0     d19828eb64       1  Cによると、アメリカの元大統領で、最長寿だったジョージ・ウォーカー・ブッシュ氏が27日(C-...\n",
              "1     dfaab096bd       0  中日新聞によると、コナミカップ・プロ野球アジアシリーズ2007の決勝戦・日本の中日ドラゴンズ...\n",
              "2     163504bf95       1  愛媛Cは、11月12日にリーグ準加盟の承認を受けて、来期リーグ加盟を目指す愛媛Cに対して、鈴...\n",
              "3     ed3c9dc579       0  国民日報によると3日、7時50分（UTC+9、日本時間と同じ）大韓民国京畿道平沢市の西海岸（...\n",
              "4     e06f88267f       1  共同通信によると、5日午後2時過ぎから東京都、神奈川県、千葉県の3都県の広い範囲の地域で停電...\n",
              "...          ...     ...                                                ...\n",
              "3776  d65c42f576       1  読売新聞によると、1月19日未明3時10分ごろ大分市の建設コンサルタント会社社長宅が全焼する...\n",
              "3777  a478642504       0  シリアのガジ・カナン内相が12日自殺したとシリアの国営通信社SANAが同日伝えた。自殺は大き...\n",
              "3778  a428af48d0       1  朝日新聞によると、日本陸上連盟は12月18日に行った理事会で、女子単独の国際大会となる北京オ...\n",
              "3779  347213dd2b       1  Cによると、中国のインターネット中毒が中国で正式に病気として認定されるのは来年になる見通しで...\n",
              "3780  03b07ca887       1  読売新聞他が伝えたところによると、第164回国会(臨時会)は9月24日(以下同)から召集され...\n",
              "\n",
              "[3781 rows x 3 columns]"
            ],
            "text/html": [
              "\n",
              "  <div id=\"df-7e4b5ca3-47c7-4155-8627-426858c3f654\">\n",
              "    <div class=\"colab-df-container\">\n",
              "      <div>\n",
              "<style scoped>\n",
              "    .dataframe tbody tr th:only-of-type {\n",
              "        vertical-align: middle;\n",
              "    }\n",
              "\n",
              "    .dataframe tbody tr th {\n",
              "        vertical-align: top;\n",
              "    }\n",
              "\n",
              "    .dataframe thead th {\n",
              "        text-align: right;\n",
              "    }\n",
              "</style>\n",
              "<table border=\"1\" class=\"dataframe\">\n",
              "  <thead>\n",
              "    <tr style=\"text-align: right;\">\n",
              "      <th></th>\n",
              "      <th>id</th>\n",
              "      <th>isFake</th>\n",
              "      <th>text</th>\n",
              "    </tr>\n",
              "  </thead>\n",
              "  <tbody>\n",
              "    <tr>\n",
              "      <th>0</th>\n",
              "      <td>d19828eb64</td>\n",
              "      <td>1</td>\n",
              "      <td>Cによると、アメリカの元大統領で、最長寿だったジョージ・ウォーカー・ブッシュ氏が27日(C-...</td>\n",
              "    </tr>\n",
              "    <tr>\n",
              "      <th>1</th>\n",
              "      <td>dfaab096bd</td>\n",
              "      <td>0</td>\n",
              "      <td>中日新聞によると、コナミカップ・プロ野球アジアシリーズ2007の決勝戦・日本の中日ドラゴンズ...</td>\n",
              "    </tr>\n",
              "    <tr>\n",
              "      <th>2</th>\n",
              "      <td>163504bf95</td>\n",
              "      <td>1</td>\n",
              "      <td>愛媛Cは、11月12日にリーグ準加盟の承認を受けて、来期リーグ加盟を目指す愛媛Cに対して、鈴...</td>\n",
              "    </tr>\n",
              "    <tr>\n",
              "      <th>3</th>\n",
              "      <td>ed3c9dc579</td>\n",
              "      <td>0</td>\n",
              "      <td>国民日報によると3日、7時50分（UTC+9、日本時間と同じ）大韓民国京畿道平沢市の西海岸（...</td>\n",
              "    </tr>\n",
              "    <tr>\n",
              "      <th>4</th>\n",
              "      <td>e06f88267f</td>\n",
              "      <td>1</td>\n",
              "      <td>共同通信によると、5日午後2時過ぎから東京都、神奈川県、千葉県の3都県の広い範囲の地域で停電...</td>\n",
              "    </tr>\n",
              "    <tr>\n",
              "      <th>...</th>\n",
              "      <td>...</td>\n",
              "      <td>...</td>\n",
              "      <td>...</td>\n",
              "    </tr>\n",
              "    <tr>\n",
              "      <th>3776</th>\n",
              "      <td>d65c42f576</td>\n",
              "      <td>1</td>\n",
              "      <td>読売新聞によると、1月19日未明3時10分ごろ大分市の建設コンサルタント会社社長宅が全焼する...</td>\n",
              "    </tr>\n",
              "    <tr>\n",
              "      <th>3777</th>\n",
              "      <td>a478642504</td>\n",
              "      <td>0</td>\n",
              "      <td>シリアのガジ・カナン内相が12日自殺したとシリアの国営通信社SANAが同日伝えた。自殺は大き...</td>\n",
              "    </tr>\n",
              "    <tr>\n",
              "      <th>3778</th>\n",
              "      <td>a428af48d0</td>\n",
              "      <td>1</td>\n",
              "      <td>朝日新聞によると、日本陸上連盟は12月18日に行った理事会で、女子単独の国際大会となる北京オ...</td>\n",
              "    </tr>\n",
              "    <tr>\n",
              "      <th>3779</th>\n",
              "      <td>347213dd2b</td>\n",
              "      <td>1</td>\n",
              "      <td>Cによると、中国のインターネット中毒が中国で正式に病気として認定されるのは来年になる見通しで...</td>\n",
              "    </tr>\n",
              "    <tr>\n",
              "      <th>3780</th>\n",
              "      <td>03b07ca887</td>\n",
              "      <td>1</td>\n",
              "      <td>読売新聞他が伝えたところによると、第164回国会(臨時会)は9月24日(以下同)から召集され...</td>\n",
              "    </tr>\n",
              "  </tbody>\n",
              "</table>\n",
              "<p>3781 rows × 3 columns</p>\n",
              "</div>\n",
              "      <button class=\"colab-df-convert\" onclick=\"convertToInteractive('df-7e4b5ca3-47c7-4155-8627-426858c3f654')\"\n",
              "              title=\"Convert this dataframe to an interactive table.\"\n",
              "              style=\"display:none;\">\n",
              "        \n",
              "  <svg xmlns=\"http://www.w3.org/2000/svg\" height=\"24px\"viewBox=\"0 0 24 24\"\n",
              "       width=\"24px\">\n",
              "    <path d=\"M0 0h24v24H0V0z\" fill=\"none\"/>\n",
              "    <path d=\"M18.56 5.44l.94 2.06.94-2.06 2.06-.94-2.06-.94-.94-2.06-.94 2.06-2.06.94zm-11 1L8.5 8.5l.94-2.06 2.06-.94-2.06-.94L8.5 2.5l-.94 2.06-2.06.94zm10 10l.94 2.06.94-2.06 2.06-.94-2.06-.94-.94-2.06-.94 2.06-2.06.94z\"/><path d=\"M17.41 7.96l-1.37-1.37c-.4-.4-.92-.59-1.43-.59-.52 0-1.04.2-1.43.59L10.3 9.45l-7.72 7.72c-.78.78-.78 2.05 0 2.83L4 21.41c.39.39.9.59 1.41.59.51 0 1.02-.2 1.41-.59l7.78-7.78 2.81-2.81c.8-.78.8-2.07 0-2.86zM5.41 20L4 18.59l7.72-7.72 1.47 1.35L5.41 20z\"/>\n",
              "  </svg>\n",
              "      </button>\n",
              "      \n",
              "  <style>\n",
              "    .colab-df-container {\n",
              "      display:flex;\n",
              "      flex-wrap:wrap;\n",
              "      gap: 12px;\n",
              "    }\n",
              "\n",
              "    .colab-df-convert {\n",
              "      background-color: #E8F0FE;\n",
              "      border: none;\n",
              "      border-radius: 50%;\n",
              "      cursor: pointer;\n",
              "      display: none;\n",
              "      fill: #1967D2;\n",
              "      height: 32px;\n",
              "      padding: 0 0 0 0;\n",
              "      width: 32px;\n",
              "    }\n",
              "\n",
              "    .colab-df-convert:hover {\n",
              "      background-color: #E2EBFA;\n",
              "      box-shadow: 0px 1px 2px rgba(60, 64, 67, 0.3), 0px 1px 3px 1px rgba(60, 64, 67, 0.15);\n",
              "      fill: #174EA6;\n",
              "    }\n",
              "\n",
              "    [theme=dark] .colab-df-convert {\n",
              "      background-color: #3B4455;\n",
              "      fill: #D2E3FC;\n",
              "    }\n",
              "\n",
              "    [theme=dark] .colab-df-convert:hover {\n",
              "      background-color: #434B5C;\n",
              "      box-shadow: 0px 1px 3px 1px rgba(0, 0, 0, 0.15);\n",
              "      filter: drop-shadow(0px 1px 2px rgba(0, 0, 0, 0.3));\n",
              "      fill: #FFFFFF;\n",
              "    }\n",
              "  </style>\n",
              "\n",
              "      <script>\n",
              "        const buttonEl =\n",
              "          document.querySelector('#df-7e4b5ca3-47c7-4155-8627-426858c3f654 button.colab-df-convert');\n",
              "        buttonEl.style.display =\n",
              "          google.colab.kernel.accessAllowed ? 'block' : 'none';\n",
              "\n",
              "        async function convertToInteractive(key) {\n",
              "          const element = document.querySelector('#df-7e4b5ca3-47c7-4155-8627-426858c3f654');\n",
              "          const dataTable =\n",
              "            await google.colab.kernel.invokeFunction('convertToInteractive',\n",
              "                                                     [key], {});\n",
              "          if (!dataTable) return;\n",
              "\n",
              "          const docLinkHtml = 'Like what you see? Visit the ' +\n",
              "            '<a target=\"_blank\" href=https://colab.research.google.com/notebooks/data_table.ipynb>data table notebook</a>'\n",
              "            + ' to learn more about interactive tables.';\n",
              "          element.innerHTML = '';\n",
              "          dataTable['output_type'] = 'display_data';\n",
              "          await google.colab.output.renderOutput(dataTable, element);\n",
              "          const docLink = document.createElement('div');\n",
              "          docLink.innerHTML = docLinkHtml;\n",
              "          element.appendChild(docLink);\n",
              "        }\n",
              "      </script>\n",
              "    </div>\n",
              "  </div>\n",
              "  "
            ]
          },
          "metadata": {},
          "execution_count": 19
        }
      ]
    },
    {
      "cell_type": "markdown",
      "source": [
        "train, testともに全3781データ"
      ],
      "metadata": {
        "id": "zTlJcWSd__Jj"
      }
    },
    {
      "cell_type": "code",
      "source": [
        "train_df['isFake'].value_counts()"
      ],
      "metadata": {
        "colab": {
          "base_uri": "https://localhost:8080/"
        },
        "id": "cSxmQHMv_02v",
        "outputId": "9ed808f6-9077-45ff-e30a-080b5e6716c5"
      },
      "execution_count": null,
      "outputs": [
        {
          "output_type": "execute_result",
          "data": {
            "text/plain": [
              "1    1937\n",
              "0    1844\n",
              "Name: isFake, dtype: int64"
            ]
          },
          "metadata": {},
          "execution_count": 15
        }
      ]
    },
    {
      "cell_type": "markdown",
      "source": [
        "訓練データはフェイクニュースのほうが僅かに多い"
      ],
      "metadata": {
        "id": "KL9hToZI_5PR"
      }
    },
    {
      "cell_type": "markdown",
      "source": [
        "# 形態素解析"
      ],
      "metadata": {
        "id": "3EeOrphzzAoh"
      }
    },
    {
      "cell_type": "code",
      "source": [
        "import MeCab\n",
        "\n",
        "mecab = MeCab.Tagger('-d /usr/lib/x86_64-linux-gnu/mecab/dic/mecab-ipadic-neologd')\n",
        "wakati = MeCab.Tagger('-Owakati d /usr/lib/x86_64-linux-gnu/mecab/dic/mecab-ipadic-neologd')\n",
        "\n",
        "def extract_nouns(text):\n",
        "    nouns = []\n",
        "    node = mecab.parseToNode(text)\n",
        "    while node:\n",
        "        features = node.feature.split(',')\n",
        "        if features[0] in ['名詞']:\n",
        "            nouns.append(node.surface)\n",
        "        node = node.next\n",
        "\n",
        "    return ' '.join(nouns)"
      ],
      "metadata": {
        "id": "U7KsDinEpJIF"
      },
      "execution_count": null,
      "outputs": []
    },
    {
      "cell_type": "code",
      "source": [
        "train_df['nouns'] = train_df['text'].apply(lambda s: extract_nouns(s))\n",
        "train_df['wakati'] = train_df['text'].apply(lambda s: wakati.parse(s).strip('\\n'))\n",
        "train_df.head()"
      ],
      "metadata": {
        "colab": {
          "base_uri": "https://localhost:8080/",
          "height": 206
        },
        "id": "DsLRDH9mzIh8",
        "outputId": "008dfb51-ebe5-4b18-8c30-3f90c8edf74b"
      },
      "execution_count": null,
      "outputs": [
        {
          "output_type": "execute_result",
          "data": {
            "text/plain": [
              "           id  isFake                                               text  \\\n",
              "0  d19828eb64       1  Cによると、アメリカの元大統領で、最長寿だったジョージ・ウォーカー・ブッシュ氏が27日(C-...   \n",
              "1  dfaab096bd       0  中日新聞によると、コナミカップ・プロ野球アジアシリーズ2007の決勝戦・日本の中日ドラゴンズ...   \n",
              "2  163504bf95       1  愛媛Cは、11月12日にリーグ準加盟の承認を受けて、来期リーグ加盟を目指す愛媛Cに対して、鈴...   \n",
              "3  ed3c9dc579       0  国民日報によると3日、7時50分（UTC+9、日本時間と同じ）大韓民国京畿道平沢市の西海岸（...   \n",
              "4  e06f88267f       1  共同通信によると、5日午後2時過ぎから東京都、神奈川県、千葉県の3都県の広い範囲の地域で停電...   \n",
              "\n",
              "                                               nouns  \\\n",
              "0  C アメリカ 元大統領 長寿 ジョージ ウォーカー ブッシュ 氏 27日 C-5 ロサンゼル...   \n",
              "1  中日新聞 コナミカップ プロ野球 アジアシリーズ2007 決勝戦 日本 中日ドラゴンズ 対 ...   \n",
              "2  愛媛 C 11月12日 リーグ 加盟 承認 来期 リーグ 加盟 愛媛 C 鈴木 チェアマン ...   \n",
              "3  国民日報 3日 7時 50分 UTC 9 日本時間 大韓民国 京畿道 平沢市 西海岸 ソヘア...   \n",
              "4  共同通信 5日 午後2時 過ぎ 東京都 神奈川県 千葉県 3 都県 範囲 地域 停電 東京電...   \n",
              "\n",
              "                                              wakati  \n",
              "0  C に よる と 、 アメリカ の 元 大統領 で 、 最 長寿 だっ た ジョージ ・ ウ...  \n",
              "1  中日 新聞 に よる と 、 コナミ カップ ・ プロ 野球 アジア シリーズ 2007 の...  \n",
              "2  愛媛 C は 、 11 月 12 日 に リーグ 準 加盟 の 承認 を 受け て 、 来期...  \n",
              "3  国民 日報 に よる と 3 日 、 7 時 50 分 （ UTC + 9 、 日本 時間 ...  \n",
              "4  共同 通信 に よる と 、 5 日 午後 2 時 過ぎ から 東京 都 、 神奈川 県 、...  "
            ],
            "text/html": [
              "\n",
              "  <div id=\"df-d7bd1eb2-e76a-4043-9534-2d4b2686273a\">\n",
              "    <div class=\"colab-df-container\">\n",
              "      <div>\n",
              "<style scoped>\n",
              "    .dataframe tbody tr th:only-of-type {\n",
              "        vertical-align: middle;\n",
              "    }\n",
              "\n",
              "    .dataframe tbody tr th {\n",
              "        vertical-align: top;\n",
              "    }\n",
              "\n",
              "    .dataframe thead th {\n",
              "        text-align: right;\n",
              "    }\n",
              "</style>\n",
              "<table border=\"1\" class=\"dataframe\">\n",
              "  <thead>\n",
              "    <tr style=\"text-align: right;\">\n",
              "      <th></th>\n",
              "      <th>id</th>\n",
              "      <th>isFake</th>\n",
              "      <th>text</th>\n",
              "      <th>nouns</th>\n",
              "      <th>wakati</th>\n",
              "    </tr>\n",
              "  </thead>\n",
              "  <tbody>\n",
              "    <tr>\n",
              "      <th>0</th>\n",
              "      <td>d19828eb64</td>\n",
              "      <td>1</td>\n",
              "      <td>Cによると、アメリカの元大統領で、最長寿だったジョージ・ウォーカー・ブッシュ氏が27日(C-...</td>\n",
              "      <td>C アメリカ 元大統領 長寿 ジョージ ウォーカー ブッシュ 氏 27日 C-5 ロサンゼル...</td>\n",
              "      <td>C に よる と 、 アメリカ の 元 大統領 で 、 最 長寿 だっ た ジョージ ・ ウ...</td>\n",
              "    </tr>\n",
              "    <tr>\n",
              "      <th>1</th>\n",
              "      <td>dfaab096bd</td>\n",
              "      <td>0</td>\n",
              "      <td>中日新聞によると、コナミカップ・プロ野球アジアシリーズ2007の決勝戦・日本の中日ドラゴンズ...</td>\n",
              "      <td>中日新聞 コナミカップ プロ野球 アジアシリーズ2007 決勝戦 日本 中日ドラゴンズ 対 ...</td>\n",
              "      <td>中日 新聞 に よる と 、 コナミ カップ ・ プロ 野球 アジア シリーズ 2007 の...</td>\n",
              "    </tr>\n",
              "    <tr>\n",
              "      <th>2</th>\n",
              "      <td>163504bf95</td>\n",
              "      <td>1</td>\n",
              "      <td>愛媛Cは、11月12日にリーグ準加盟の承認を受けて、来期リーグ加盟を目指す愛媛Cに対して、鈴...</td>\n",
              "      <td>愛媛 C 11月12日 リーグ 加盟 承認 来期 リーグ 加盟 愛媛 C 鈴木 チェアマン ...</td>\n",
              "      <td>愛媛 C は 、 11 月 12 日 に リーグ 準 加盟 の 承認 を 受け て 、 来期...</td>\n",
              "    </tr>\n",
              "    <tr>\n",
              "      <th>3</th>\n",
              "      <td>ed3c9dc579</td>\n",
              "      <td>0</td>\n",
              "      <td>国民日報によると3日、7時50分（UTC+9、日本時間と同じ）大韓民国京畿道平沢市の西海岸（...</td>\n",
              "      <td>国民日報 3日 7時 50分 UTC 9 日本時間 大韓民国 京畿道 平沢市 西海岸 ソヘア...</td>\n",
              "      <td>国民 日報 に よる と 3 日 、 7 時 50 分 （ UTC + 9 、 日本 時間 ...</td>\n",
              "    </tr>\n",
              "    <tr>\n",
              "      <th>4</th>\n",
              "      <td>e06f88267f</td>\n",
              "      <td>1</td>\n",
              "      <td>共同通信によると、5日午後2時過ぎから東京都、神奈川県、千葉県の3都県の広い範囲の地域で停電...</td>\n",
              "      <td>共同通信 5日 午後2時 過ぎ 東京都 神奈川県 千葉県 3 都県 範囲 地域 停電 東京電...</td>\n",
              "      <td>共同 通信 に よる と 、 5 日 午後 2 時 過ぎ から 東京 都 、 神奈川 県 、...</td>\n",
              "    </tr>\n",
              "  </tbody>\n",
              "</table>\n",
              "</div>\n",
              "      <button class=\"colab-df-convert\" onclick=\"convertToInteractive('df-d7bd1eb2-e76a-4043-9534-2d4b2686273a')\"\n",
              "              title=\"Convert this dataframe to an interactive table.\"\n",
              "              style=\"display:none;\">\n",
              "        \n",
              "  <svg xmlns=\"http://www.w3.org/2000/svg\" height=\"24px\"viewBox=\"0 0 24 24\"\n",
              "       width=\"24px\">\n",
              "    <path d=\"M0 0h24v24H0V0z\" fill=\"none\"/>\n",
              "    <path d=\"M18.56 5.44l.94 2.06.94-2.06 2.06-.94-2.06-.94-.94-2.06-.94 2.06-2.06.94zm-11 1L8.5 8.5l.94-2.06 2.06-.94-2.06-.94L8.5 2.5l-.94 2.06-2.06.94zm10 10l.94 2.06.94-2.06 2.06-.94-2.06-.94-.94-2.06-.94 2.06-2.06.94z\"/><path d=\"M17.41 7.96l-1.37-1.37c-.4-.4-.92-.59-1.43-.59-.52 0-1.04.2-1.43.59L10.3 9.45l-7.72 7.72c-.78.78-.78 2.05 0 2.83L4 21.41c.39.39.9.59 1.41.59.51 0 1.02-.2 1.41-.59l7.78-7.78 2.81-2.81c.8-.78.8-2.07 0-2.86zM5.41 20L4 18.59l7.72-7.72 1.47 1.35L5.41 20z\"/>\n",
              "  </svg>\n",
              "      </button>\n",
              "      \n",
              "  <style>\n",
              "    .colab-df-container {\n",
              "      display:flex;\n",
              "      flex-wrap:wrap;\n",
              "      gap: 12px;\n",
              "    }\n",
              "\n",
              "    .colab-df-convert {\n",
              "      background-color: #E8F0FE;\n",
              "      border: none;\n",
              "      border-radius: 50%;\n",
              "      cursor: pointer;\n",
              "      display: none;\n",
              "      fill: #1967D2;\n",
              "      height: 32px;\n",
              "      padding: 0 0 0 0;\n",
              "      width: 32px;\n",
              "    }\n",
              "\n",
              "    .colab-df-convert:hover {\n",
              "      background-color: #E2EBFA;\n",
              "      box-shadow: 0px 1px 2px rgba(60, 64, 67, 0.3), 0px 1px 3px 1px rgba(60, 64, 67, 0.15);\n",
              "      fill: #174EA6;\n",
              "    }\n",
              "\n",
              "    [theme=dark] .colab-df-convert {\n",
              "      background-color: #3B4455;\n",
              "      fill: #D2E3FC;\n",
              "    }\n",
              "\n",
              "    [theme=dark] .colab-df-convert:hover {\n",
              "      background-color: #434B5C;\n",
              "      box-shadow: 0px 1px 3px 1px rgba(0, 0, 0, 0.15);\n",
              "      filter: drop-shadow(0px 1px 2px rgba(0, 0, 0, 0.3));\n",
              "      fill: #FFFFFF;\n",
              "    }\n",
              "  </style>\n",
              "\n",
              "      <script>\n",
              "        const buttonEl =\n",
              "          document.querySelector('#df-d7bd1eb2-e76a-4043-9534-2d4b2686273a button.colab-df-convert');\n",
              "        buttonEl.style.display =\n",
              "          google.colab.kernel.accessAllowed ? 'block' : 'none';\n",
              "\n",
              "        async function convertToInteractive(key) {\n",
              "          const element = document.querySelector('#df-d7bd1eb2-e76a-4043-9534-2d4b2686273a');\n",
              "          const dataTable =\n",
              "            await google.colab.kernel.invokeFunction('convertToInteractive',\n",
              "                                                     [key], {});\n",
              "          if (!dataTable) return;\n",
              "\n",
              "          const docLinkHtml = 'Like what you see? Visit the ' +\n",
              "            '<a target=\"_blank\" href=https://colab.research.google.com/notebooks/data_table.ipynb>data table notebook</a>'\n",
              "            + ' to learn more about interactive tables.';\n",
              "          element.innerHTML = '';\n",
              "          dataTable['output_type'] = 'display_data';\n",
              "          await google.colab.output.renderOutput(dataTable, element);\n",
              "          const docLink = document.createElement('div');\n",
              "          docLink.innerHTML = docLinkHtml;\n",
              "          element.appendChild(docLink);\n",
              "        }\n",
              "      </script>\n",
              "    </div>\n",
              "  </div>\n",
              "  "
            ]
          },
          "metadata": {},
          "execution_count": 20
        }
      ]
    },
    {
      "cell_type": "code",
      "source": [
        "# 名詞の数\n",
        "train_df['num_nouns'] = train_df['nouns'].apply(lambda s: len(s.split()))\n",
        "# トークンの数\n",
        "train_df['num_tokens'] = train_df['wakati'].apply(lambda s: len(s.split()))\n",
        "train_df[['num_nouns', 'num_tokens']].describe()"
      ],
      "metadata": {
        "colab": {
          "base_uri": "https://localhost:8080/",
          "height": 300
        },
        "id": "4MTsEVOpA5oX",
        "outputId": "930132a7-05f8-4e06-f1a8-7c1982b9b876"
      },
      "execution_count": null,
      "outputs": [
        {
          "output_type": "execute_result",
          "data": {
            "text/plain": [
              "         num_nouns   num_tokens\n",
              "count  3781.000000  3781.000000\n",
              "mean    104.600635   323.007934\n",
              "std      53.389472   162.693909\n",
              "min       4.000000    22.000000\n",
              "25%      68.000000   210.000000\n",
              "50%      96.000000   300.000000\n",
              "75%     127.000000   392.000000\n",
              "max     588.000000  1701.000000"
            ],
            "text/html": [
              "\n",
              "  <div id=\"df-fc2d07d8-c4d8-40dd-82d2-b4ce76d9a781\">\n",
              "    <div class=\"colab-df-container\">\n",
              "      <div>\n",
              "<style scoped>\n",
              "    .dataframe tbody tr th:only-of-type {\n",
              "        vertical-align: middle;\n",
              "    }\n",
              "\n",
              "    .dataframe tbody tr th {\n",
              "        vertical-align: top;\n",
              "    }\n",
              "\n",
              "    .dataframe thead th {\n",
              "        text-align: right;\n",
              "    }\n",
              "</style>\n",
              "<table border=\"1\" class=\"dataframe\">\n",
              "  <thead>\n",
              "    <tr style=\"text-align: right;\">\n",
              "      <th></th>\n",
              "      <th>num_nouns</th>\n",
              "      <th>num_tokens</th>\n",
              "    </tr>\n",
              "  </thead>\n",
              "  <tbody>\n",
              "    <tr>\n",
              "      <th>count</th>\n",
              "      <td>3781.000000</td>\n",
              "      <td>3781.000000</td>\n",
              "    </tr>\n",
              "    <tr>\n",
              "      <th>mean</th>\n",
              "      <td>104.600635</td>\n",
              "      <td>323.007934</td>\n",
              "    </tr>\n",
              "    <tr>\n",
              "      <th>std</th>\n",
              "      <td>53.389472</td>\n",
              "      <td>162.693909</td>\n",
              "    </tr>\n",
              "    <tr>\n",
              "      <th>min</th>\n",
              "      <td>4.000000</td>\n",
              "      <td>22.000000</td>\n",
              "    </tr>\n",
              "    <tr>\n",
              "      <th>25%</th>\n",
              "      <td>68.000000</td>\n",
              "      <td>210.000000</td>\n",
              "    </tr>\n",
              "    <tr>\n",
              "      <th>50%</th>\n",
              "      <td>96.000000</td>\n",
              "      <td>300.000000</td>\n",
              "    </tr>\n",
              "    <tr>\n",
              "      <th>75%</th>\n",
              "      <td>127.000000</td>\n",
              "      <td>392.000000</td>\n",
              "    </tr>\n",
              "    <tr>\n",
              "      <th>max</th>\n",
              "      <td>588.000000</td>\n",
              "      <td>1701.000000</td>\n",
              "    </tr>\n",
              "  </tbody>\n",
              "</table>\n",
              "</div>\n",
              "      <button class=\"colab-df-convert\" onclick=\"convertToInteractive('df-fc2d07d8-c4d8-40dd-82d2-b4ce76d9a781')\"\n",
              "              title=\"Convert this dataframe to an interactive table.\"\n",
              "              style=\"display:none;\">\n",
              "        \n",
              "  <svg xmlns=\"http://www.w3.org/2000/svg\" height=\"24px\"viewBox=\"0 0 24 24\"\n",
              "       width=\"24px\">\n",
              "    <path d=\"M0 0h24v24H0V0z\" fill=\"none\"/>\n",
              "    <path d=\"M18.56 5.44l.94 2.06.94-2.06 2.06-.94-2.06-.94-.94-2.06-.94 2.06-2.06.94zm-11 1L8.5 8.5l.94-2.06 2.06-.94-2.06-.94L8.5 2.5l-.94 2.06-2.06.94zm10 10l.94 2.06.94-2.06 2.06-.94-2.06-.94-.94-2.06-.94 2.06-2.06.94z\"/><path d=\"M17.41 7.96l-1.37-1.37c-.4-.4-.92-.59-1.43-.59-.52 0-1.04.2-1.43.59L10.3 9.45l-7.72 7.72c-.78.78-.78 2.05 0 2.83L4 21.41c.39.39.9.59 1.41.59.51 0 1.02-.2 1.41-.59l7.78-7.78 2.81-2.81c.8-.78.8-2.07 0-2.86zM5.41 20L4 18.59l7.72-7.72 1.47 1.35L5.41 20z\"/>\n",
              "  </svg>\n",
              "      </button>\n",
              "      \n",
              "  <style>\n",
              "    .colab-df-container {\n",
              "      display:flex;\n",
              "      flex-wrap:wrap;\n",
              "      gap: 12px;\n",
              "    }\n",
              "\n",
              "    .colab-df-convert {\n",
              "      background-color: #E8F0FE;\n",
              "      border: none;\n",
              "      border-radius: 50%;\n",
              "      cursor: pointer;\n",
              "      display: none;\n",
              "      fill: #1967D2;\n",
              "      height: 32px;\n",
              "      padding: 0 0 0 0;\n",
              "      width: 32px;\n",
              "    }\n",
              "\n",
              "    .colab-df-convert:hover {\n",
              "      background-color: #E2EBFA;\n",
              "      box-shadow: 0px 1px 2px rgba(60, 64, 67, 0.3), 0px 1px 3px 1px rgba(60, 64, 67, 0.15);\n",
              "      fill: #174EA6;\n",
              "    }\n",
              "\n",
              "    [theme=dark] .colab-df-convert {\n",
              "      background-color: #3B4455;\n",
              "      fill: #D2E3FC;\n",
              "    }\n",
              "\n",
              "    [theme=dark] .colab-df-convert:hover {\n",
              "      background-color: #434B5C;\n",
              "      box-shadow: 0px 1px 3px 1px rgba(0, 0, 0, 0.15);\n",
              "      filter: drop-shadow(0px 1px 2px rgba(0, 0, 0, 0.3));\n",
              "      fill: #FFFFFF;\n",
              "    }\n",
              "  </style>\n",
              "\n",
              "      <script>\n",
              "        const buttonEl =\n",
              "          document.querySelector('#df-fc2d07d8-c4d8-40dd-82d2-b4ce76d9a781 button.colab-df-convert');\n",
              "        buttonEl.style.display =\n",
              "          google.colab.kernel.accessAllowed ? 'block' : 'none';\n",
              "\n",
              "        async function convertToInteractive(key) {\n",
              "          const element = document.querySelector('#df-fc2d07d8-c4d8-40dd-82d2-b4ce76d9a781');\n",
              "          const dataTable =\n",
              "            await google.colab.kernel.invokeFunction('convertToInteractive',\n",
              "                                                     [key], {});\n",
              "          if (!dataTable) return;\n",
              "\n",
              "          const docLinkHtml = 'Like what you see? Visit the ' +\n",
              "            '<a target=\"_blank\" href=https://colab.research.google.com/notebooks/data_table.ipynb>data table notebook</a>'\n",
              "            + ' to learn more about interactive tables.';\n",
              "          element.innerHTML = '';\n",
              "          dataTable['output_type'] = 'display_data';\n",
              "          await google.colab.output.renderOutput(dataTable, element);\n",
              "          const docLink = document.createElement('div');\n",
              "          docLink.innerHTML = docLinkHtml;\n",
              "          element.appendChild(docLink);\n",
              "        }\n",
              "      </script>\n",
              "    </div>\n",
              "  </div>\n",
              "  "
            ]
          },
          "metadata": {},
          "execution_count": 23
        }
      ]
    },
    {
      "cell_type": "markdown",
      "source": [
        "トークンの数の最大値が1701であるため，bertにそのまま入力すると情報が落ちる"
      ],
      "metadata": {
        "id": "iNssOuYeBXy3"
      }
    },
    {
      "cell_type": "markdown",
      "source": [
        "# 可視化"
      ],
      "metadata": {
        "id": "ayIXOJn_zQju"
      }
    },
    {
      "cell_type": "markdown",
      "source": [
        "## トークン数"
      ],
      "metadata": {
        "id": "toTbq-aMDcbS"
      }
    },
    {
      "cell_type": "code",
      "source": [
        "import plotly.express as px\n",
        "\n",
        "fig = px.histogram(train_df, x=\"num_tokens\", color='isFake')\n",
        "fig.show()"
      ],
      "metadata": {
        "colab": {
          "base_uri": "https://localhost:8080/",
          "height": 542
        },
        "id": "s48Jd-3jB30f",
        "outputId": "4ac75426-6c6e-443b-9e27-d3e81a82d3f7"
      },
      "execution_count": null,
      "outputs": [
        {
          "output_type": "display_data",
          "data": {
            "text/html": [
              "<html>\n",
              "<head><meta charset=\"utf-8\" /></head>\n",
              "<body>\n",
              "    <div>            <script src=\"https://cdnjs.cloudflare.com/ajax/libs/mathjax/2.7.5/MathJax.js?config=TeX-AMS-MML_SVG\"></script><script type=\"text/javascript\">if (window.MathJax) {MathJax.Hub.Config({SVG: {font: \"STIX-Web\"}});}</script>                <script type=\"text/javascript\">window.PlotlyConfig = {MathJaxConfig: 'local'};</script>\n",
              "        <script src=\"https://cdn.plot.ly/plotly-2.9.0.min.js\"></script>                <div id=\"200834f9-4486-4ec9-9666-7f94792f68fc\" class=\"plotly-graph-div\" style=\"height:525px; width:100%;\"></div>            <script type=\"text/javascript\">                                    window.PLOTLYENV=window.PLOTLYENV || {};                                    if (document.getElementById(\"200834f9-4486-4ec9-9666-7f94792f68fc\")) {                    Plotly.newPlot(                        \"200834f9-4486-4ec9-9666-7f94792f68fc\",                        [{\"alignmentgroup\":\"True\",\"bingroup\":\"x\",\"hovertemplate\":\"isFake=1<br>num_tokens=%{x}<br>count=%{y}<extra></extra>\",\"legendgroup\":\"1\",\"marker\":{\"color\":\"#636efa\",\"pattern\":{\"shape\":\"\"}},\"name\":\"1\",\"offsetgroup\":\"1\",\"orientation\":\"v\",\"showlegend\":true,\"x\":[719,296,315,181,658,489,218,195,482,408,239,258,380,187,333,240,412,333,372,309,301,208,303,258,130,463,195,174,117,382,336,321,111,272,159,201,224,396,387,186,294,292,259,366,330,316,304,159,264,128,415,104,337,343,172,312,379,136,187,131,305,223,136,264,196,300,408,155,510,167,323,258,251,262,447,212,173,122,113,291,402,348,249,177,309,263,139,534,288,402,315,273,316,310,322,326,232,342,508,252,289,178,234,181,320,374,225,109,340,306,122,383,385,153,296,326,104,146,236,185,367,153,344,191,281,672,233,266,373,318,315,644,189,253,367,276,140,457,166,597,188,242,205,424,119,293,328,349,441,202,181,273,323,268,151,651,203,180,168,341,303,217,302,274,276,220,233,286,625,386,541,334,328,372,147,328,269,714,342,216,174,112,127,276,136,171,228,273,759,255,421,289,162,413,265,237,165,426,54,299,132,136,139,159,172,576,145,227,279,301,308,187,381,258,266,299,455,359,236,127,325,679,184,262,193,337,317,696,233,224,403,259,398,182,341,408,338,178,335,616,195,184,200,537,207,171,351,353,69,124,289,109,757,204,234,310,439,351,188,287,233,278,132,135,290,262,142,210,301,451,261,236,108,257,206,284,242,163,641,328,337,117,330,160,214,124,130,185,399,242,102,422,346,502,425,290,358,320,274,168,303,225,639,111,431,311,272,208,380,306,754,115,350,423,300,113,283,341,453,369,91,299,356,198,245,279,310,224,491,248,348,245,290,631,328,254,119,621,407,302,284,266,851,148,302,336,166,199,279,491,316,173,381,117,378,322,165,177,386,194,424,390,303,288,246,532,285,373,210,300,183,209,272,416,604,315,286,292,301,602,443,619,316,310,306,121,407,298,244,341,198,275,343,372,130,281,366,294,326,413,227,347,130,256,129,133,176,258,315,140,104,206,419,332,310,127,303,372,406,273,449,357,350,286,393,442,443,550,303,141,223,267,156,195,641,339,318,176,581,155,364,369,149,225,1028,675,122,718,222,395,296,521,122,290,133,171,472,569,111,259,423,336,199,315,304,507,90,261,134,222,273,222,459,118,972,381,364,260,391,217,153,350,300,319,198,335,192,196,467,430,514,331,328,502,212,262,183,192,270,270,149,224,205,318,609,395,313,260,116,129,439,573,642,195,110,327,291,461,340,739,171,155,310,336,412,333,313,245,386,171,151,308,193,440,330,349,372,334,917,703,349,307,201,341,319,198,459,126,352,164,364,393,163,415,303,270,296,129,240,374,311,334,324,166,266,234,304,320,548,360,731,540,379,222,92,171,491,334,93,226,96,180,412,157,346,162,206,177,321,280,237,299,328,312,129,156,490,175,320,735,336,585,352,379,175,222,226,435,185,278,323,443,284,184,676,62,124,270,536,366,337,293,332,178,119,269,400,190,133,311,369,237,526,279,365,222,311,331,310,135,187,471,110,222,321,430,193,416,144,124,506,217,311,309,313,337,320,304,343,225,307,211,133,827,338,188,366,289,118,346,149,503,360,402,301,651,254,370,247,344,317,577,752,320,298,195,124,259,313,109,130,130,199,222,350,350,411,347,262,689,261,299,193,380,315,215,320,655,303,285,247,294,259,203,318,304,320,298,137,267,206,178,521,324,345,251,142,376,131,535,351,307,318,127,517,331,335,339,178,743,308,186,376,297,424,231,215,321,472,120,188,313,412,292,314,398,547,357,128,266,368,483,426,403,977,507,440,237,150,316,144,195,707,173,92,617,343,831,308,225,213,150,373,399,103,342,722,201,539,174,260,318,264,269,222,143,388,330,263,318,144,428,98,660,383,127,279,201,263,169,282,347,159,546,126,364,427,599,320,62,261,275,385,565,347,432,264,189,545,318,175,306,301,737,340,144,293,554,440,360,337,284,290,418,230,357,459,185,309,185,202,404,140,316,134,311,371,253,264,417,387,126,263,309,358,171,267,324,283,140,532,304,182,264,111,319,395,613,299,357,171,231,311,329,96,328,342,428,308,304,661,202,140,266,368,162,319,714,321,209,211,287,339,341,197,327,148,210,756,364,123,340,347,269,125,391,310,371,294,722,260,75,297,366,355,269,315,347,1123,112,296,226,201,137,155,536,237,208,171,380,119,389,68,331,304,178,213,278,286,367,140,336,224,314,182,583,258,265,798,258,105,112,152,308,499,244,292,472,427,314,369,673,439,312,389,304,503,151,194,339,83,374,280,513,136,699,346,374,380,327,348,133,439,162,430,134,140,413,222,268,152,308,197,108,346,414,352,106,153,167,74,311,117,207,147,315,151,169,665,109,178,290,319,393,216,126,153,361,570,393,273,139,290,445,265,213,106,168,619,399,493,217,335,294,308,359,210,311,313,331,857,389,277,417,256,274,262,184,325,571,298,377,133,279,470,163,110,256,134,521,269,220,293,149,314,329,390,119,118,250,318,343,440,295,293,320,485,206,443,527,149,294,313,456,287,193,265,310,541,406,334,139,324,739,142,238,252,352,330,295,380,303,85,411,336,309,146,835,261,377,326,229,153,330,277,167,392,283,159,269,383,291,227,355,182,577,296,132,560,307,365,343,299,327,672,167,277,97,305,126,310,326,243,436,231,101,401,181,296,493,238,360,450,641,349,471,339,336,299,293,495,227,303,118,134,211,365,386,206,244,117,348,171,177,119,296,136,329,278,173,425,108,352,299,289,212,596,169,358,416,168,357,360,135,228,280,317,381,519,249,275,417,365,138,519,168,419,453,350,281,143,290,441,349,171,254,356,465,441,284,160,187,260,127,141,181,94,195,448,183,198,291,283,322,259,223,128,159,420,384,365,287,201,273,483,239,421,294,193,602,276,355,298,313,326,721,288,113,199,534,381,291,645,346,129,333,220,286,280,185,539,197,392,118,269,337,107,192,378,112,298,671,474,319,1045,260,347,239,100,199,523,327,270,259,115,280,348,222,676,344,317,279,167,622,309,192,353,311,480,338,323,645,203,506,320,504,194,445,94,282,182,305,311,293,280,352,156,364,184,95,330,596,332,285,333,534,231,677,308,266,285,471,541,387,168,317,321,405,341,689,247,582,336,527,274,173,442,229,299,204,237,189,420,303,208,386,242,147,357,120,302,119,247,212,120,283,160,218,231,295,267,503,286,257,296,233,226,365,345,519,286,346,782,606,134,260,330,426,511,550,1025,594,189,334,251,261,368,223,313,863,312,270,297,286,222,107,99,362,310,210,162,236,176,344,310,116,187,128,232,359,179,110,369,573,504,238,354,204,358,114,106,305,466,279,429,306,429,95,354,509,148,267,238,238,120,464,236,539,116,110,356,583,310,518,204,301,315,119,108,178,295,281,505,325,312,293,1017,321,218,248,197,422,222,551,135,385,279,284,366,244,197,314,124,216,541,312,310,509,604,181,324,137,251,283,368,309,244,326,352,123,216,244,260,150,321,119,399,108,365,203,410,132,1000,204,230,316,281,368,855,236,150,405,222,408,300,270,885,309,578,96,425,274,230,266,129,286,145,162,261,324,340,434,198,260,310,300,434,193,322,369,314,193,299,155,339,138,181,335,436,221,115,280,241,157,155,177,347,262,334,472,232,259,148,269,317,105,316,286,199,330,319,384,133,141,543,528,350,469,248,155,505,443,343,382,294,540,259,158,346,330,305,206,285,264,179,417,175,599,299,172,295,199,348,141,164,324,340,208,194,189,205,758,331,271,237,607,305,122,254,564,348,288,126,322,308,435,298,249,319,415,212,290,150,435,906,289,248,411,260,129,269,438,449,131,234,236,526,176,317,603,445,818,190,406,148,288,258,449,322,260,569,228,227,206,254,485,760,362,96,312,332,661,266,189,260,284,445,339,168,143,207,368,143,209,193,297,309,699,1002,310,968,147,174,312,331,328,294,358,345,351,156,288,340,223,218,618,220,284,284,166,337,248,370,384,297,332,795,148,119,284,529,312,333,153,682,298,474,256,442,272,212,353,344,468,197,301,248,343,704,502,231,172,653,100,177,143,318,146,420,423,309,195,408,317,150,141,253,629,236,190,176,399,494,226,316,140,275,324,124,717,176,356,267,512,341,276,322,130,371,306,306,449,380,355,108,123,206,239,239,357,297,272,485,379,406,217,410,146,738,100,389,174,274,298,520,356,413,202,301,436,263,183,108,332,193,345,217,333,284,402,669,248,186,137,346,251,268,413,309,279,398,554,191,312,297,343,302,88,259,412,266,226,168,595,521,232,301,458,302,300,145,779,137,387,146,294,360,252,111,229,410,446,322,506,445,449,123,261,321,287,428,325,489,216,102,340,172,144,423,75,474,621,364,307,135,286,477,216,522,124,310,674,355,128,153,207,184,625,250,397,791,310,554,120,212,307,735],\"xaxis\":\"x\",\"yaxis\":\"y\",\"type\":\"histogram\"},{\"alignmentgroup\":\"True\",\"bingroup\":\"x\",\"hovertemplate\":\"isFake=0<br>num_tokens=%{x}<br>count=%{y}<extra></extra>\",\"legendgroup\":\"0\",\"marker\":{\"color\":\"#EF553B\",\"pattern\":{\"shape\":\"\"}},\"name\":\"0\",\"offsetgroup\":\"0\",\"orientation\":\"v\",\"showlegend\":true,\"x\":[421,373,173,193,132,165,223,389,119,392,296,312,346,628,240,326,419,521,247,254,419,282,203,140,575,369,231,204,284,340,261,476,263,195,260,572,255,395,266,138,90,267,451,236,308,441,374,233,111,359,131,258,342,463,473,277,327,250,284,412,212,391,222,553,233,482,257,139,113,531,627,219,370,206,171,262,252,165,157,174,328,580,232,602,320,313,396,350,252,431,206,204,80,126,374,359,239,247,390,291,616,320,514,373,294,241,203,671,208,823,128,332,369,508,244,179,340,287,410,705,155,224,488,69,685,161,273,203,343,365,502,241,299,422,186,212,174,218,678,103,306,180,380,351,227,555,386,565,275,454,263,223,180,343,196,150,261,515,155,930,517,617,255,500,289,343,801,356,993,448,176,518,212,425,278,277,443,72,561,323,220,194,266,324,277,483,122,151,419,216,326,223,157,96,450,647,314,172,431,220,215,310,262,318,451,308,260,163,279,237,178,392,109,271,390,255,365,652,360,155,175,323,272,375,242,326,466,707,176,462,112,338,196,202,427,177,140,114,152,376,510,261,246,576,186,176,462,299,351,150,238,340,456,373,336,339,59,276,323,423,313,500,242,540,228,389,198,289,196,348,376,215,138,302,371,494,375,233,378,546,344,250,441,287,192,100,192,532,282,267,308,273,511,431,582,70,477,299,495,199,302,563,628,486,266,226,225,149,239,304,426,243,134,352,289,421,203,539,229,245,400,228,704,289,229,213,193,261,387,634,192,679,327,545,354,377,355,259,267,238,214,202,864,493,304,159,421,336,256,306,96,197,314,388,319,280,195,656,22,735,492,468,456,477,618,478,429,234,226,130,134,255,284,222,288,141,220,442,696,164,401,181,268,203,211,269,247,206,425,604,297,343,392,194,95,101,303,692,502,160,285,208,155,404,350,240,293,377,269,76,472,609,540,84,146,345,601,195,411,113,183,129,161,208,459,66,265,270,411,457,298,248,231,445,663,343,325,233,441,290,248,424,719,322,266,341,220,1040,175,213,328,322,281,241,458,120,128,304,329,257,385,244,497,390,187,420,316,467,253,262,371,480,474,483,418,522,502,186,306,239,309,316,331,735,261,317,325,713,148,288,235,278,528,429,263,216,160,410,262,191,192,326,343,368,176,156,304,277,270,81,621,426,330,206,165,197,660,233,324,359,831,215,271,457,169,268,233,324,369,356,1100,237,341,559,636,402,309,346,177,470,317,676,614,336,334,125,314,277,492,424,140,320,480,231,159,615,217,368,425,424,297,538,330,238,109,329,573,371,227,260,637,256,252,181,444,319,294,183,315,249,291,371,255,180,218,97,545,143,303,290,165,269,292,475,258,171,153,232,167,178,304,135,143,601,235,693,360,365,416,531,661,177,227,633,296,168,384,232,435,723,404,280,217,424,261,409,135,241,427,803,201,348,402,67,409,125,135,504,307,598,436,368,234,177,192,303,169,491,357,337,443,404,286,242,245,459,355,309,317,119,199,194,224,329,506,251,152,458,270,293,353,230,766,320,551,329,403,148,402,636,101,298,288,517,202,57,175,183,552,260,324,190,285,354,47,246,212,466,173,364,255,342,372,336,753,828,311,555,376,351,363,686,432,263,304,326,329,434,467,428,330,257,318,229,178,665,374,346,426,214,128,376,487,449,515,298,515,398,463,358,195,809,162,169,315,297,186,331,378,276,176,253,442,443,301,337,328,479,321,118,324,395,218,349,662,505,321,207,477,262,205,375,294,189,284,357,245,133,98,340,197,468,268,511,159,308,175,378,386,145,133,85,224,473,1227,360,244,255,308,574,254,517,169,93,432,377,535,436,237,376,139,588,292,257,183,211,144,224,124,49,367,190,52,284,824,121,348,141,287,394,308,201,266,337,174,424,439,133,361,403,283,424,380,384,364,339,374,315,338,403,354,131,430,537,268,333,269,371,181,316,217,312,424,330,379,236,539,673,603,368,284,409,223,292,370,239,376,195,272,235,222,409,181,486,778,169,274,154,169,428,317,448,454,390,103,308,251,52,439,51,275,93,189,151,85,308,319,481,382,511,327,311,395,143,634,373,399,393,559,228,231,753,347,253,208,424,220,143,612,777,182,327,871,315,242,276,433,178,187,405,138,267,327,231,400,635,188,454,340,733,383,189,94,182,291,446,208,223,262,286,447,416,173,564,315,471,637,288,455,484,483,177,367,306,831,522,222,171,365,238,223,485,555,223,427,345,300,308,472,480,250,191,385,190,198,644,408,343,247,346,470,358,326,257,269,337,1643,486,155,375,231,250,153,491,337,685,248,316,247,356,242,425,305,239,197,186,91,129,456,262,437,169,450,253,183,392,675,299,519,175,352,238,309,220,138,473,250,186,419,371,190,180,519,162,395,561,435,256,256,386,448,382,311,373,388,328,383,342,228,331,361,139,270,187,130,473,165,542,311,508,280,169,483,337,486,79,636,265,373,731,731,217,373,307,306,502,294,243,282,279,348,180,321,400,479,339,334,152,406,431,234,229,251,561,568,355,542,296,355,261,288,732,438,626,274,352,437,1070,104,425,396,472,459,383,351,265,216,527,449,834,446,324,238,318,411,180,529,183,580,195,207,240,219,89,330,443,251,277,379,141,277,326,119,370,446,237,422,287,540,410,268,340,650,268,993,415,208,311,433,409,154,243,175,196,323,246,390,574,278,326,526,522,165,253,391,298,304,566,179,77,407,415,144,434,262,318,528,128,448,483,171,240,128,983,135,490,261,233,479,443,366,491,48,221,228,316,669,110,457,92,252,139,371,476,720,372,337,263,230,256,280,184,208,99,366,200,168,531,194,519,345,158,175,92,360,391,133,241,394,306,233,238,276,186,179,401,327,518,103,193,199,153,171,428,480,117,367,545,607,211,285,412,516,224,274,478,225,155,149,269,790,198,291,330,303,186,246,226,157,300,221,294,308,141,200,222,435,394,278,278,163,257,244,511,626,255,433,424,286,117,534,157,384,324,193,360,187,1203,260,317,159,309,237,273,356,460,350,447,506,219,184,567,444,296,767,167,275,829,524,164,349,163,292,76,249,361,783,927,268,141,551,376,126,369,380,192,273,345,331,395,174,307,347,221,794,150,243,272,129,799,201,196,355,549,245,641,412,474,657,284,190,225,411,56,182,293,422,525,275,338,228,270,251,389,311,230,344,285,207,226,276,343,163,220,24,872,429,201,178,769,241,269,285,168,573,210,256,175,345,219,334,316,484,134,789,406,326,259,620,236,374,503,452,349,216,276,147,278,143,318,496,1041,188,725,162,316,745,344,626,683,307,899,230,242,117,274,306,168,250,581,247,206,349,585,308,154,388,901,665,476,547,313,276,261,170,262,243,331,496,160,129,417,277,197,151,375,508,494,168,313,379,104,270,506,561,267,180,300,219,265,100,623,292,267,125,131,299,142,407,274,180,209,384,271,194,570,688,180,327,181,348,685,191,240,384,463,261,227,166,342,517,418,462,416,641,334,580,192,234,175,82,676,239,381,155,533,129,239,530,292,182,217,499,124,388,143,483,401,393,439,368,506,366,292,188,279,577,533,216,403,397,296,397,218,283,159,358,249,361,522,164,182,135,310,247,294,210,592,198,273,303,668,472,539,1032,556,443,132,408,173,160,400,290,432,173,296,154,488,278,401,363,270,293,1701,1007,216,256,418,401,340,146,295,530,1280,298,182,286,297,359,145,311,226,288,349,111,622,692,236,286,594,497,429,339,129,136,345,542,298,441,160,150,368,320,60,220,309,448,307,142,254,354,333,322,228,461,239,478,243,458,310,67,390,492,157,353,414,128,128,290,527,153,302,210,288,709,393,151,408,504,276,223,244,226,336,378,540,442,190,368,494,437,175,97,505,212,163,498,416,450,146,219,508,275,196,395,239,255,1045,906,344,161,325,179,430,348,563,333,253,339,244,225,232,267,405,215,154,529,125,269,209,441,354,176,495,220,243,549,343,94,360,749,181,449,207,445,197,611,397,461,447,385,438,179,559,316,469,236,500,296,172,192,490,518,363,225,373,232,246,486,434,216,567,259,468,560,324,393,231,421,477,123,335,186,394,528,189,248,489,274,1027,101,530,282,579,181,397,973,322,260,305,345,260,377,459,190,262,346,324,382,403,179,118,526,196,282,717,547,361,59,137,490,111,156,592],\"xaxis\":\"x\",\"yaxis\":\"y\",\"type\":\"histogram\"}],                        {\"template\":{\"data\":{\"bar\":[{\"error_x\":{\"color\":\"#2a3f5f\"},\"error_y\":{\"color\":\"#2a3f5f\"},\"marker\":{\"line\":{\"color\":\"#E5ECF6\",\"width\":0.5},\"pattern\":{\"fillmode\":\"overlay\",\"size\":10,\"solidity\":0.2}},\"type\":\"bar\"}],\"barpolar\":[{\"marker\":{\"line\":{\"color\":\"#E5ECF6\",\"width\":0.5},\"pattern\":{\"fillmode\":\"overlay\",\"size\":10,\"solidity\":0.2}},\"type\":\"barpolar\"}],\"carpet\":[{\"aaxis\":{\"endlinecolor\":\"#2a3f5f\",\"gridcolor\":\"white\",\"linecolor\":\"white\",\"minorgridcolor\":\"white\",\"startlinecolor\":\"#2a3f5f\"},\"baxis\":{\"endlinecolor\":\"#2a3f5f\",\"gridcolor\":\"white\",\"linecolor\":\"white\",\"minorgridcolor\":\"white\",\"startlinecolor\":\"#2a3f5f\"},\"type\":\"carpet\"}],\"choropleth\":[{\"colorbar\":{\"outlinewidth\":0,\"ticks\":\"\"},\"type\":\"choropleth\"}],\"contour\":[{\"colorbar\":{\"outlinewidth\":0,\"ticks\":\"\"},\"colorscale\":[[0.0,\"#0d0887\"],[0.1111111111111111,\"#46039f\"],[0.2222222222222222,\"#7201a8\"],[0.3333333333333333,\"#9c179e\"],[0.4444444444444444,\"#bd3786\"],[0.5555555555555556,\"#d8576b\"],[0.6666666666666666,\"#ed7953\"],[0.7777777777777778,\"#fb9f3a\"],[0.8888888888888888,\"#fdca26\"],[1.0,\"#f0f921\"]],\"type\":\"contour\"}],\"contourcarpet\":[{\"colorbar\":{\"outlinewidth\":0,\"ticks\":\"\"},\"type\":\"contourcarpet\"}],\"heatmap\":[{\"colorbar\":{\"outlinewidth\":0,\"ticks\":\"\"},\"colorscale\":[[0.0,\"#0d0887\"],[0.1111111111111111,\"#46039f\"],[0.2222222222222222,\"#7201a8\"],[0.3333333333333333,\"#9c179e\"],[0.4444444444444444,\"#bd3786\"],[0.5555555555555556,\"#d8576b\"],[0.6666666666666666,\"#ed7953\"],[0.7777777777777778,\"#fb9f3a\"],[0.8888888888888888,\"#fdca26\"],[1.0,\"#f0f921\"]],\"type\":\"heatmap\"}],\"heatmapgl\":[{\"colorbar\":{\"outlinewidth\":0,\"ticks\":\"\"},\"colorscale\":[[0.0,\"#0d0887\"],[0.1111111111111111,\"#46039f\"],[0.2222222222222222,\"#7201a8\"],[0.3333333333333333,\"#9c179e\"],[0.4444444444444444,\"#bd3786\"],[0.5555555555555556,\"#d8576b\"],[0.6666666666666666,\"#ed7953\"],[0.7777777777777778,\"#fb9f3a\"],[0.8888888888888888,\"#fdca26\"],[1.0,\"#f0f921\"]],\"type\":\"heatmapgl\"}],\"histogram\":[{\"marker\":{\"pattern\":{\"fillmode\":\"overlay\",\"size\":10,\"solidity\":0.2}},\"type\":\"histogram\"}],\"histogram2d\":[{\"colorbar\":{\"outlinewidth\":0,\"ticks\":\"\"},\"colorscale\":[[0.0,\"#0d0887\"],[0.1111111111111111,\"#46039f\"],[0.2222222222222222,\"#7201a8\"],[0.3333333333333333,\"#9c179e\"],[0.4444444444444444,\"#bd3786\"],[0.5555555555555556,\"#d8576b\"],[0.6666666666666666,\"#ed7953\"],[0.7777777777777778,\"#fb9f3a\"],[0.8888888888888888,\"#fdca26\"],[1.0,\"#f0f921\"]],\"type\":\"histogram2d\"}],\"histogram2dcontour\":[{\"colorbar\":{\"outlinewidth\":0,\"ticks\":\"\"},\"colorscale\":[[0.0,\"#0d0887\"],[0.1111111111111111,\"#46039f\"],[0.2222222222222222,\"#7201a8\"],[0.3333333333333333,\"#9c179e\"],[0.4444444444444444,\"#bd3786\"],[0.5555555555555556,\"#d8576b\"],[0.6666666666666666,\"#ed7953\"],[0.7777777777777778,\"#fb9f3a\"],[0.8888888888888888,\"#fdca26\"],[1.0,\"#f0f921\"]],\"type\":\"histogram2dcontour\"}],\"mesh3d\":[{\"colorbar\":{\"outlinewidth\":0,\"ticks\":\"\"},\"type\":\"mesh3d\"}],\"parcoords\":[{\"line\":{\"colorbar\":{\"outlinewidth\":0,\"ticks\":\"\"}},\"type\":\"parcoords\"}],\"pie\":[{\"automargin\":true,\"type\":\"pie\"}],\"scatter\":[{\"marker\":{\"colorbar\":{\"outlinewidth\":0,\"ticks\":\"\"}},\"type\":\"scatter\"}],\"scatter3d\":[{\"line\":{\"colorbar\":{\"outlinewidth\":0,\"ticks\":\"\"}},\"marker\":{\"colorbar\":{\"outlinewidth\":0,\"ticks\":\"\"}},\"type\":\"scatter3d\"}],\"scattercarpet\":[{\"marker\":{\"colorbar\":{\"outlinewidth\":0,\"ticks\":\"\"}},\"type\":\"scattercarpet\"}],\"scattergeo\":[{\"marker\":{\"colorbar\":{\"outlinewidth\":0,\"ticks\":\"\"}},\"type\":\"scattergeo\"}],\"scattergl\":[{\"marker\":{\"colorbar\":{\"outlinewidth\":0,\"ticks\":\"\"}},\"type\":\"scattergl\"}],\"scattermapbox\":[{\"marker\":{\"colorbar\":{\"outlinewidth\":0,\"ticks\":\"\"}},\"type\":\"scattermapbox\"}],\"scatterpolar\":[{\"marker\":{\"colorbar\":{\"outlinewidth\":0,\"ticks\":\"\"}},\"type\":\"scatterpolar\"}],\"scatterpolargl\":[{\"marker\":{\"colorbar\":{\"outlinewidth\":0,\"ticks\":\"\"}},\"type\":\"scatterpolargl\"}],\"scatterternary\":[{\"marker\":{\"colorbar\":{\"outlinewidth\":0,\"ticks\":\"\"}},\"type\":\"scatterternary\"}],\"surface\":[{\"colorbar\":{\"outlinewidth\":0,\"ticks\":\"\"},\"colorscale\":[[0.0,\"#0d0887\"],[0.1111111111111111,\"#46039f\"],[0.2222222222222222,\"#7201a8\"],[0.3333333333333333,\"#9c179e\"],[0.4444444444444444,\"#bd3786\"],[0.5555555555555556,\"#d8576b\"],[0.6666666666666666,\"#ed7953\"],[0.7777777777777778,\"#fb9f3a\"],[0.8888888888888888,\"#fdca26\"],[1.0,\"#f0f921\"]],\"type\":\"surface\"}],\"table\":[{\"cells\":{\"fill\":{\"color\":\"#EBF0F8\"},\"line\":{\"color\":\"white\"}},\"header\":{\"fill\":{\"color\":\"#C8D4E3\"},\"line\":{\"color\":\"white\"}},\"type\":\"table\"}]},\"layout\":{\"annotationdefaults\":{\"arrowcolor\":\"#2a3f5f\",\"arrowhead\":0,\"arrowwidth\":1},\"autotypenumbers\":\"strict\",\"coloraxis\":{\"colorbar\":{\"outlinewidth\":0,\"ticks\":\"\"}},\"colorscale\":{\"diverging\":[[0,\"#8e0152\"],[0.1,\"#c51b7d\"],[0.2,\"#de77ae\"],[0.3,\"#f1b6da\"],[0.4,\"#fde0ef\"],[0.5,\"#f7f7f7\"],[0.6,\"#e6f5d0\"],[0.7,\"#b8e186\"],[0.8,\"#7fbc41\"],[0.9,\"#4d9221\"],[1,\"#276419\"]],\"sequential\":[[0.0,\"#0d0887\"],[0.1111111111111111,\"#46039f\"],[0.2222222222222222,\"#7201a8\"],[0.3333333333333333,\"#9c179e\"],[0.4444444444444444,\"#bd3786\"],[0.5555555555555556,\"#d8576b\"],[0.6666666666666666,\"#ed7953\"],[0.7777777777777778,\"#fb9f3a\"],[0.8888888888888888,\"#fdca26\"],[1.0,\"#f0f921\"]],\"sequentialminus\":[[0.0,\"#0d0887\"],[0.1111111111111111,\"#46039f\"],[0.2222222222222222,\"#7201a8\"],[0.3333333333333333,\"#9c179e\"],[0.4444444444444444,\"#bd3786\"],[0.5555555555555556,\"#d8576b\"],[0.6666666666666666,\"#ed7953\"],[0.7777777777777778,\"#fb9f3a\"],[0.8888888888888888,\"#fdca26\"],[1.0,\"#f0f921\"]]},\"colorway\":[\"#636efa\",\"#EF553B\",\"#00cc96\",\"#ab63fa\",\"#FFA15A\",\"#19d3f3\",\"#FF6692\",\"#B6E880\",\"#FF97FF\",\"#FECB52\"],\"font\":{\"color\":\"#2a3f5f\"},\"geo\":{\"bgcolor\":\"white\",\"lakecolor\":\"white\",\"landcolor\":\"#E5ECF6\",\"showlakes\":true,\"showland\":true,\"subunitcolor\":\"white\"},\"hoverlabel\":{\"align\":\"left\"},\"hovermode\":\"closest\",\"mapbox\":{\"style\":\"light\"},\"paper_bgcolor\":\"white\",\"plot_bgcolor\":\"#E5ECF6\",\"polar\":{\"angularaxis\":{\"gridcolor\":\"white\",\"linecolor\":\"white\",\"ticks\":\"\"},\"bgcolor\":\"#E5ECF6\",\"radialaxis\":{\"gridcolor\":\"white\",\"linecolor\":\"white\",\"ticks\":\"\"}},\"scene\":{\"xaxis\":{\"backgroundcolor\":\"#E5ECF6\",\"gridcolor\":\"white\",\"gridwidth\":2,\"linecolor\":\"white\",\"showbackground\":true,\"ticks\":\"\",\"zerolinecolor\":\"white\"},\"yaxis\":{\"backgroundcolor\":\"#E5ECF6\",\"gridcolor\":\"white\",\"gridwidth\":2,\"linecolor\":\"white\",\"showbackground\":true,\"ticks\":\"\",\"zerolinecolor\":\"white\"},\"zaxis\":{\"backgroundcolor\":\"#E5ECF6\",\"gridcolor\":\"white\",\"gridwidth\":2,\"linecolor\":\"white\",\"showbackground\":true,\"ticks\":\"\",\"zerolinecolor\":\"white\"}},\"shapedefaults\":{\"line\":{\"color\":\"#2a3f5f\"}},\"ternary\":{\"aaxis\":{\"gridcolor\":\"white\",\"linecolor\":\"white\",\"ticks\":\"\"},\"baxis\":{\"gridcolor\":\"white\",\"linecolor\":\"white\",\"ticks\":\"\"},\"bgcolor\":\"#E5ECF6\",\"caxis\":{\"gridcolor\":\"white\",\"linecolor\":\"white\",\"ticks\":\"\"}},\"title\":{\"x\":0.05},\"xaxis\":{\"automargin\":true,\"gridcolor\":\"white\",\"linecolor\":\"white\",\"ticks\":\"\",\"title\":{\"standoff\":15},\"zerolinecolor\":\"white\",\"zerolinewidth\":2},\"yaxis\":{\"automargin\":true,\"gridcolor\":\"white\",\"linecolor\":\"white\",\"ticks\":\"\",\"title\":{\"standoff\":15},\"zerolinecolor\":\"white\",\"zerolinewidth\":2}}},\"xaxis\":{\"anchor\":\"y\",\"domain\":[0.0,1.0],\"title\":{\"text\":\"num_tokens\"}},\"yaxis\":{\"anchor\":\"x\",\"domain\":[0.0,1.0],\"title\":{\"text\":\"count\"}},\"legend\":{\"title\":{\"text\":\"isFake\"},\"tracegroupgap\":0},\"margin\":{\"t\":60},\"barmode\":\"relative\"},                        {\"responsive\": true}                    ).then(function(){\n",
              "                            \n",
              "var gd = document.getElementById('200834f9-4486-4ec9-9666-7f94792f68fc');\n",
              "var x = new MutationObserver(function (mutations, observer) {{\n",
              "        var display = window.getComputedStyle(gd).display;\n",
              "        if (!display || display === 'none') {{\n",
              "            console.log([gd, 'removed!']);\n",
              "            Plotly.purge(gd);\n",
              "            observer.disconnect();\n",
              "        }}\n",
              "}});\n",
              "\n",
              "// Listen for the removal of the full notebook cells\n",
              "var notebookContainer = gd.closest('#notebook-container');\n",
              "if (notebookContainer) {{\n",
              "    x.observe(notebookContainer, {childList: true});\n",
              "}}\n",
              "\n",
              "// Listen for the clearing of the current output cell\n",
              "var outputEl = gd.closest('.output');\n",
              "if (outputEl) {{\n",
              "    x.observe(outputEl, {childList: true});\n",
              "}}\n",
              "\n",
              "                        })                };                            </script>        </div>\n",
              "</body>\n",
              "</html>"
            ]
          },
          "metadata": {}
        }
      ]
    },
    {
      "cell_type": "code",
      "source": [
        "import nlplot\n",
        "\n",
        "# 全データ\n",
        "npt_noun = nlplot.NLPlot(train_df, target_col='nouns')\n",
        "npt_all = nlplot.NLPlot(train_df, target_col='wakati')\n",
        "\n",
        "# wikinews\n",
        "npt_wiki_noun = nlplot.NLPlot(train_df.query('isFake == 0'), target_col='nouns')\n",
        "npt_wiki_all = nlplot.NLPlot(train_df.query('isFake == 0'), target_col='wakati')\n",
        "\n",
        "# フェイクニュース\n",
        "npt_fake_noun = nlplot.NLPlot(train_df.query('isFake == 1'), target_col='nouns')\n",
        "npt_fake_all = nlplot.NLPlot(train_df.query('isFake == 1'), target_col='wakati')"
      ],
      "metadata": {
        "id": "Y55N6qLJzSyx"
      },
      "execution_count": null,
      "outputs": []
    },
    {
      "cell_type": "markdown",
      "source": [
        "## 名詞に着目\n"
      ],
      "metadata": {
        "id": "7thlymO09dw2"
      }
    },
    {
      "cell_type": "code",
      "source": [
        "fig_unigram_tree_wiki = npt_wiki_noun.treemap(\n",
        "    title='wikinews',\n",
        "    ngram=1,\n",
        "    top_n=50,\n",
        ")\n",
        "fig_unigram_tree_fake = npt_fake_noun.treemap(\n",
        "    title='フェイクニュース',\n",
        "    ngram=1,\n",
        "    top_n=50,\n",
        ")\n",
        "\n",
        "fig_unigram_tree_wiki.show()\n",
        "fig_unigram_tree_fake.show()"
      ],
      "metadata": {
        "colab": {
          "base_uri": "https://localhost:8080/",
          "height": 1000
        },
        "id": "bDEG3TlQ3gVZ",
        "outputId": "51553ac0-80fe-4ea4-a6eb-0a9ac78085d7"
      },
      "execution_count": null,
      "outputs": [
        {
          "output_type": "stream",
          "name": "stderr",
          "text": [
            "100%|██████████| 1844/1844 [00:00<00:00, 5358.04it/s]\n",
            "100%|██████████| 1937/1937 [00:00<00:00, 7802.06it/s]\n"
          ]
        },
        {
          "output_type": "display_data",
          "data": {
            "text/html": [
              "<html>\n",
              "<head><meta charset=\"utf-8\" /></head>\n",
              "<body>\n",
              "    <div>            <script src=\"https://cdnjs.cloudflare.com/ajax/libs/mathjax/2.7.5/MathJax.js?config=TeX-AMS-MML_SVG\"></script><script type=\"text/javascript\">if (window.MathJax) {MathJax.Hub.Config({SVG: {font: \"STIX-Web\"}});}</script>                <script type=\"text/javascript\">window.PlotlyConfig = {MathJaxConfig: 'local'};</script>\n",
              "        <script src=\"https://cdn.plot.ly/plotly-2.9.0.min.js\"></script>                <div id=\"a81df4aa-5f33-4394-861c-4edd32debaef\" class=\"plotly-graph-div\" style=\"height:600px; width:1300px;\"></div>            <script type=\"text/javascript\">                                    window.PLOTLYENV=window.PLOTLYENV || {};                                    if (document.getElementById(\"a81df4aa-5f33-4394-861c-4edd32debaef\")) {                    Plotly.newPlot(                        \"a81df4aa-5f33-4394-861c-4edd32debaef\",                        [{\"branchvalues\":\"total\",\"domain\":{\"x\":[0.0,1.0],\"y\":[0.0,1.0]},\"hovertemplate\":\"labels=%{label}<br>word_count=%{value}<br>parent=%{parent}<br>id=%{id}<extra></extra>\",\"ids\":[\"1\",\"2\",\"3\",\"4\",\"9\",\"utc\",\"\\u3053\\u3068\",\"\\u3053\\u308c\",\"\\u3055\\u3093\",\"\\u305d\\u306e\\u5f8c\",\"\\u305f\\u3081\",\"\\u3068\\u3053\\u308d\",\"\\u306e\",\"\\u3082\\u306e\",\"\\u3088\\u3046\",\"\\u3089\",\"\\u30c1\\u30fc\\u30e0\",\"\\u4e07\",\"\\u4e0a\",\"\\u4e2d\",\"\\u4e88\\u5b9a\",\"\\u4e8b\\u4ef6\",\"\\u4eba\",\"\\u4eca\\u56de\",\"\\u4ee5\\u4e0b\",\"\\u512a\\u52dd\",\"\\u554f\\u984c\",\"\\u5831\\u9053\",\"\\u5973\\u6027\",\"\\u5bb9\\u7591\\u8005\",\"\\u5f8c\",\"\\u65e5\\u672c\",\"\\u671d\\u65e5\\u65b0\\u805e\",\"\\u6b7b\\u4ea1\",\"\\u6bce\\u65e5\\u65b0\\u805e\",\"\\u6c0f\",\"\\u73fe\\u5728\",\"\\u7523\\u7d4c\\u65b0\\u805e\",\"\\u7537\\u6027\",\"\\u767a\\u751f\",\"\\u767a\\u8868\",\"\\u7684\",\"\\u78ba\\u8a8d\",\"\\u8005\",\"\\u8a66\\u5408\",\"\\u8aad\\u58f2\\u65b0\\u805e\",\"\\u902e\\u6355\",\"\\u9078\\u624b\",\"\\u958b\\u50ac\",\"\\u9593\"],\"labels\":[\"1\",\"2\",\"3\",\"4\",\"9\",\"utc\",\"\\u3053\\u3068\",\"\\u3053\\u308c\",\"\\u3055\\u3093\",\"\\u305d\\u306e\\u5f8c\",\"\\u305f\\u3081\",\"\\u3068\\u3053\\u308d\",\"\\u306e\",\"\\u3082\\u306e\",\"\\u3088\\u3046\",\"\\u3089\",\"\\u30c1\\u30fc\\u30e0\",\"\\u4e07\",\"\\u4e0a\",\"\\u4e2d\",\"\\u4e88\\u5b9a\",\"\\u4e8b\\u4ef6\",\"\\u4eba\",\"\\u4eca\\u56de\",\"\\u4ee5\\u4e0b\",\"\\u512a\\u52dd\",\"\\u554f\\u984c\",\"\\u5831\\u9053\",\"\\u5973\\u6027\",\"\\u5bb9\\u7591\\u8005\",\"\\u5f8c\",\"\\u65e5\\u672c\",\"\\u671d\\u65e5\\u65b0\\u805e\",\"\\u6b7b\\u4ea1\",\"\\u6bce\\u65e5\\u65b0\\u805e\",\"\\u6c0f\",\"\\u73fe\\u5728\",\"\\u7523\\u7d4c\\u65b0\\u805e\",\"\\u7537\\u6027\",\"\\u767a\\u751f\",\"\\u767a\\u8868\",\"\\u7684\",\"\\u78ba\\u8a8d\",\"\\u8005\",\"\\u8a66\\u5408\",\"\\u8aad\\u58f2\\u65b0\\u805e\",\"\\u902e\\u6355\",\"\\u9078\\u624b\",\"\\u958b\\u50ac\",\"\\u9593\"],\"name\":\"\",\"parents\":[\"\",\"\",\"\",\"\",\"\",\"\",\"\",\"\",\"\",\"\",\"\",\"\",\"\",\"\",\"\",\"\",\"\",\"\",\"\",\"\",\"\",\"\",\"\",\"\",\"\",\"\",\"\",\"\",\"\",\"\",\"\",\"\",\"\",\"\",\"\",\"\",\"\",\"\",\"\",\"\",\"\",\"\",\"\",\"\",\"\",\"\",\"\",\"\",\"\",\"\"],\"values\":[695,652,421,280,616,751,2560,592,877,416,981,328,723,495,446,310,346,357,288,471,428,297,301,553,290,279,301,383,290,431,519,564,774,316,563,846,324,352,295,312,783,287,301,346,282,786,288,764,356,294],\"type\":\"treemap\"}],                        {\"template\":{\"data\":{\"bar\":[{\"error_x\":{\"color\":\"#2a3f5f\"},\"error_y\":{\"color\":\"#2a3f5f\"},\"marker\":{\"line\":{\"color\":\"#E5ECF6\",\"width\":0.5},\"pattern\":{\"fillmode\":\"overlay\",\"size\":10,\"solidity\":0.2}},\"type\":\"bar\"}],\"barpolar\":[{\"marker\":{\"line\":{\"color\":\"#E5ECF6\",\"width\":0.5},\"pattern\":{\"fillmode\":\"overlay\",\"size\":10,\"solidity\":0.2}},\"type\":\"barpolar\"}],\"carpet\":[{\"aaxis\":{\"endlinecolor\":\"#2a3f5f\",\"gridcolor\":\"white\",\"linecolor\":\"white\",\"minorgridcolor\":\"white\",\"startlinecolor\":\"#2a3f5f\"},\"baxis\":{\"endlinecolor\":\"#2a3f5f\",\"gridcolor\":\"white\",\"linecolor\":\"white\",\"minorgridcolor\":\"white\",\"startlinecolor\":\"#2a3f5f\"},\"type\":\"carpet\"}],\"choropleth\":[{\"colorbar\":{\"outlinewidth\":0,\"ticks\":\"\"},\"type\":\"choropleth\"}],\"contour\":[{\"colorbar\":{\"outlinewidth\":0,\"ticks\":\"\"},\"colorscale\":[[0.0,\"#0d0887\"],[0.1111111111111111,\"#46039f\"],[0.2222222222222222,\"#7201a8\"],[0.3333333333333333,\"#9c179e\"],[0.4444444444444444,\"#bd3786\"],[0.5555555555555556,\"#d8576b\"],[0.6666666666666666,\"#ed7953\"],[0.7777777777777778,\"#fb9f3a\"],[0.8888888888888888,\"#fdca26\"],[1.0,\"#f0f921\"]],\"type\":\"contour\"}],\"contourcarpet\":[{\"colorbar\":{\"outlinewidth\":0,\"ticks\":\"\"},\"type\":\"contourcarpet\"}],\"heatmap\":[{\"colorbar\":{\"outlinewidth\":0,\"ticks\":\"\"},\"colorscale\":[[0.0,\"#0d0887\"],[0.1111111111111111,\"#46039f\"],[0.2222222222222222,\"#7201a8\"],[0.3333333333333333,\"#9c179e\"],[0.4444444444444444,\"#bd3786\"],[0.5555555555555556,\"#d8576b\"],[0.6666666666666666,\"#ed7953\"],[0.7777777777777778,\"#fb9f3a\"],[0.8888888888888888,\"#fdca26\"],[1.0,\"#f0f921\"]],\"type\":\"heatmap\"}],\"heatmapgl\":[{\"colorbar\":{\"outlinewidth\":0,\"ticks\":\"\"},\"colorscale\":[[0.0,\"#0d0887\"],[0.1111111111111111,\"#46039f\"],[0.2222222222222222,\"#7201a8\"],[0.3333333333333333,\"#9c179e\"],[0.4444444444444444,\"#bd3786\"],[0.5555555555555556,\"#d8576b\"],[0.6666666666666666,\"#ed7953\"],[0.7777777777777778,\"#fb9f3a\"],[0.8888888888888888,\"#fdca26\"],[1.0,\"#f0f921\"]],\"type\":\"heatmapgl\"}],\"histogram\":[{\"marker\":{\"pattern\":{\"fillmode\":\"overlay\",\"size\":10,\"solidity\":0.2}},\"type\":\"histogram\"}],\"histogram2d\":[{\"colorbar\":{\"outlinewidth\":0,\"ticks\":\"\"},\"colorscale\":[[0.0,\"#0d0887\"],[0.1111111111111111,\"#46039f\"],[0.2222222222222222,\"#7201a8\"],[0.3333333333333333,\"#9c179e\"],[0.4444444444444444,\"#bd3786\"],[0.5555555555555556,\"#d8576b\"],[0.6666666666666666,\"#ed7953\"],[0.7777777777777778,\"#fb9f3a\"],[0.8888888888888888,\"#fdca26\"],[1.0,\"#f0f921\"]],\"type\":\"histogram2d\"}],\"histogram2dcontour\":[{\"colorbar\":{\"outlinewidth\":0,\"ticks\":\"\"},\"colorscale\":[[0.0,\"#0d0887\"],[0.1111111111111111,\"#46039f\"],[0.2222222222222222,\"#7201a8\"],[0.3333333333333333,\"#9c179e\"],[0.4444444444444444,\"#bd3786\"],[0.5555555555555556,\"#d8576b\"],[0.6666666666666666,\"#ed7953\"],[0.7777777777777778,\"#fb9f3a\"],[0.8888888888888888,\"#fdca26\"],[1.0,\"#f0f921\"]],\"type\":\"histogram2dcontour\"}],\"mesh3d\":[{\"colorbar\":{\"outlinewidth\":0,\"ticks\":\"\"},\"type\":\"mesh3d\"}],\"parcoords\":[{\"line\":{\"colorbar\":{\"outlinewidth\":0,\"ticks\":\"\"}},\"type\":\"parcoords\"}],\"pie\":[{\"automargin\":true,\"type\":\"pie\"}],\"scatter\":[{\"marker\":{\"colorbar\":{\"outlinewidth\":0,\"ticks\":\"\"}},\"type\":\"scatter\"}],\"scatter3d\":[{\"line\":{\"colorbar\":{\"outlinewidth\":0,\"ticks\":\"\"}},\"marker\":{\"colorbar\":{\"outlinewidth\":0,\"ticks\":\"\"}},\"type\":\"scatter3d\"}],\"scattercarpet\":[{\"marker\":{\"colorbar\":{\"outlinewidth\":0,\"ticks\":\"\"}},\"type\":\"scattercarpet\"}],\"scattergeo\":[{\"marker\":{\"colorbar\":{\"outlinewidth\":0,\"ticks\":\"\"}},\"type\":\"scattergeo\"}],\"scattergl\":[{\"marker\":{\"colorbar\":{\"outlinewidth\":0,\"ticks\":\"\"}},\"type\":\"scattergl\"}],\"scattermapbox\":[{\"marker\":{\"colorbar\":{\"outlinewidth\":0,\"ticks\":\"\"}},\"type\":\"scattermapbox\"}],\"scatterpolar\":[{\"marker\":{\"colorbar\":{\"outlinewidth\":0,\"ticks\":\"\"}},\"type\":\"scatterpolar\"}],\"scatterpolargl\":[{\"marker\":{\"colorbar\":{\"outlinewidth\":0,\"ticks\":\"\"}},\"type\":\"scatterpolargl\"}],\"scatterternary\":[{\"marker\":{\"colorbar\":{\"outlinewidth\":0,\"ticks\":\"\"}},\"type\":\"scatterternary\"}],\"surface\":[{\"colorbar\":{\"outlinewidth\":0,\"ticks\":\"\"},\"colorscale\":[[0.0,\"#0d0887\"],[0.1111111111111111,\"#46039f\"],[0.2222222222222222,\"#7201a8\"],[0.3333333333333333,\"#9c179e\"],[0.4444444444444444,\"#bd3786\"],[0.5555555555555556,\"#d8576b\"],[0.6666666666666666,\"#ed7953\"],[0.7777777777777778,\"#fb9f3a\"],[0.8888888888888888,\"#fdca26\"],[1.0,\"#f0f921\"]],\"type\":\"surface\"}],\"table\":[{\"cells\":{\"fill\":{\"color\":\"#EBF0F8\"},\"line\":{\"color\":\"white\"}},\"header\":{\"fill\":{\"color\":\"#C8D4E3\"},\"line\":{\"color\":\"white\"}},\"type\":\"table\"}]},\"layout\":{\"annotationdefaults\":{\"arrowcolor\":\"#2a3f5f\",\"arrowhead\":0,\"arrowwidth\":1},\"autotypenumbers\":\"strict\",\"coloraxis\":{\"colorbar\":{\"outlinewidth\":0,\"ticks\":\"\"}},\"colorscale\":{\"diverging\":[[0,\"#8e0152\"],[0.1,\"#c51b7d\"],[0.2,\"#de77ae\"],[0.3,\"#f1b6da\"],[0.4,\"#fde0ef\"],[0.5,\"#f7f7f7\"],[0.6,\"#e6f5d0\"],[0.7,\"#b8e186\"],[0.8,\"#7fbc41\"],[0.9,\"#4d9221\"],[1,\"#276419\"]],\"sequential\":[[0.0,\"#0d0887\"],[0.1111111111111111,\"#46039f\"],[0.2222222222222222,\"#7201a8\"],[0.3333333333333333,\"#9c179e\"],[0.4444444444444444,\"#bd3786\"],[0.5555555555555556,\"#d8576b\"],[0.6666666666666666,\"#ed7953\"],[0.7777777777777778,\"#fb9f3a\"],[0.8888888888888888,\"#fdca26\"],[1.0,\"#f0f921\"]],\"sequentialminus\":[[0.0,\"#0d0887\"],[0.1111111111111111,\"#46039f\"],[0.2222222222222222,\"#7201a8\"],[0.3333333333333333,\"#9c179e\"],[0.4444444444444444,\"#bd3786\"],[0.5555555555555556,\"#d8576b\"],[0.6666666666666666,\"#ed7953\"],[0.7777777777777778,\"#fb9f3a\"],[0.8888888888888888,\"#fdca26\"],[1.0,\"#f0f921\"]]},\"colorway\":[\"#636efa\",\"#EF553B\",\"#00cc96\",\"#ab63fa\",\"#FFA15A\",\"#19d3f3\",\"#FF6692\",\"#B6E880\",\"#FF97FF\",\"#FECB52\"],\"font\":{\"color\":\"#2a3f5f\"},\"geo\":{\"bgcolor\":\"white\",\"lakecolor\":\"white\",\"landcolor\":\"#E5ECF6\",\"showlakes\":true,\"showland\":true,\"subunitcolor\":\"white\"},\"hoverlabel\":{\"align\":\"left\"},\"hovermode\":\"closest\",\"mapbox\":{\"style\":\"light\"},\"paper_bgcolor\":\"white\",\"plot_bgcolor\":\"#E5ECF6\",\"polar\":{\"angularaxis\":{\"gridcolor\":\"white\",\"linecolor\":\"white\",\"ticks\":\"\"},\"bgcolor\":\"#E5ECF6\",\"radialaxis\":{\"gridcolor\":\"white\",\"linecolor\":\"white\",\"ticks\":\"\"}},\"scene\":{\"xaxis\":{\"backgroundcolor\":\"#E5ECF6\",\"gridcolor\":\"white\",\"gridwidth\":2,\"linecolor\":\"white\",\"showbackground\":true,\"ticks\":\"\",\"zerolinecolor\":\"white\"},\"yaxis\":{\"backgroundcolor\":\"#E5ECF6\",\"gridcolor\":\"white\",\"gridwidth\":2,\"linecolor\":\"white\",\"showbackground\":true,\"ticks\":\"\",\"zerolinecolor\":\"white\"},\"zaxis\":{\"backgroundcolor\":\"#E5ECF6\",\"gridcolor\":\"white\",\"gridwidth\":2,\"linecolor\":\"white\",\"showbackground\":true,\"ticks\":\"\",\"zerolinecolor\":\"white\"}},\"shapedefaults\":{\"line\":{\"color\":\"#2a3f5f\"}},\"ternary\":{\"aaxis\":{\"gridcolor\":\"white\",\"linecolor\":\"white\",\"ticks\":\"\"},\"baxis\":{\"gridcolor\":\"white\",\"linecolor\":\"white\",\"ticks\":\"\"},\"bgcolor\":\"#E5ECF6\",\"caxis\":{\"gridcolor\":\"white\",\"linecolor\":\"white\",\"ticks\":\"\"}},\"title\":{\"x\":0.05},\"xaxis\":{\"automargin\":true,\"gridcolor\":\"white\",\"linecolor\":\"white\",\"ticks\":\"\",\"title\":{\"standoff\":15},\"zerolinecolor\":\"white\",\"zerolinewidth\":2},\"yaxis\":{\"automargin\":true,\"gridcolor\":\"white\",\"linecolor\":\"white\",\"ticks\":\"\",\"title\":{\"standoff\":15},\"zerolinecolor\":\"white\",\"zerolinewidth\":2}}},\"legend\":{\"tracegroupgap\":0},\"margin\":{\"t\":60},\"title\":{\"text\":\"wikinews\"},\"width\":1300,\"height\":600},                        {\"responsive\": true}                    ).then(function(){\n",
              "                            \n",
              "var gd = document.getElementById('a81df4aa-5f33-4394-861c-4edd32debaef');\n",
              "var x = new MutationObserver(function (mutations, observer) {{\n",
              "        var display = window.getComputedStyle(gd).display;\n",
              "        if (!display || display === 'none') {{\n",
              "            console.log([gd, 'removed!']);\n",
              "            Plotly.purge(gd);\n",
              "            observer.disconnect();\n",
              "        }}\n",
              "}});\n",
              "\n",
              "// Listen for the removal of the full notebook cells\n",
              "var notebookContainer = gd.closest('#notebook-container');\n",
              "if (notebookContainer) {{\n",
              "    x.observe(notebookContainer, {childList: true});\n",
              "}}\n",
              "\n",
              "// Listen for the clearing of the current output cell\n",
              "var outputEl = gd.closest('.output');\n",
              "if (outputEl) {{\n",
              "    x.observe(outputEl, {childList: true});\n",
              "}}\n",
              "\n",
              "                        })                };                            </script>        </div>\n",
              "</body>\n",
              "</html>"
            ]
          },
          "metadata": {}
        },
        {
          "output_type": "display_data",
          "data": {
            "text/html": [
              "<html>\n",
              "<head><meta charset=\"utf-8\" /></head>\n",
              "<body>\n",
              "    <div>            <script src=\"https://cdnjs.cloudflare.com/ajax/libs/mathjax/2.7.5/MathJax.js?config=TeX-AMS-MML_SVG\"></script><script type=\"text/javascript\">if (window.MathJax) {MathJax.Hub.Config({SVG: {font: \"STIX-Web\"}});}</script>                <script type=\"text/javascript\">window.PlotlyConfig = {MathJaxConfig: 'local'};</script>\n",
              "        <script src=\"https://cdn.plot.ly/plotly-2.9.0.min.js\"></script>                <div id=\"7518a11d-b406-471c-94f4-f9a551610750\" class=\"plotly-graph-div\" style=\"height:600px; width:1300px;\"></div>            <script type=\"text/javascript\">                                    window.PLOTLYENV=window.PLOTLYENV || {};                                    if (document.getElementById(\"7518a11d-b406-471c-94f4-f9a551610750\")) {                    Plotly.newPlot(                        \"7518a11d-b406-471c-94f4-f9a551610750\",                        [{\"branchvalues\":\"total\",\"domain\":{\"x\":[0.0,1.0],\"y\":[0.0,1.0]},\"hovertemplate\":\"labels=%{label}<br>word_count=%{value}<br>parent=%{parent}<br>id=%{id}<extra></extra>\",\"ids\":[\"1\",\"2\",\"2\\u4eba\",\"3\",\"c\",\"\\u3053\\u3068\",\"\\u3053\\u308c\",\"\\u3055\\u3093\",\"\\u305d\\u306e\\u5f8c\",\"\\u305f\\u3081\",\"\\u306e\",\"\\u3082\\u306e\",\"\\u3088\\u3046\",\"\\u30a2\\u30e1\\u30ea\\u30ab\",\"\\u30c1\\u30fc\\u30e0\",\"\\u4e2d\",\"\\u4e88\\u5b9a\",\"\\u4e8b\\u4ef6\",\"\\u4e8b\\u6545\",\"\\u4eba\",\"\\u4ee5\\u4e0a\",\"\\u4ee5\\u4e0b\",\"\\u51fa\\u5834\",\"\\u524d\",\"\\u53ef\\u80fd\\u6027\",\"\\u5927\\u4f1a\",\"\\u5973\\u6027\",\"\\u5f71\\u97ff\",\"\\u5f8c\",\"\\u5fc5\\u8981\",\"\\u65e5\",\"\\u65e5\\u672c\",\"\\u660e\\u3089\\u304b\",\"\\u6642\",\"\\u671d\\u65e5\\u65b0\\u805e\",\"\\u6b7b\\u4ea1\",\"\\u6c0f\",\"\\u6c7a\\u5b9a\",\"\\u73fe\\u5728\",\"\\u7537\\u6027\",\"\\u767a\\u751f\",\"\\u767a\\u8868\",\"\\u8005\",\"\\u8a66\\u5408\",\"\\u8aad\\u58f2\\u65b0\\u805e\",\"\\u8b66\\u5bdf\",\"\\u902e\\u6355\",\"\\u9078\\u624b\",\"\\u958b\\u50ac\",\"\\u9593\"],\"labels\":[\"1\",\"2\",\"2\\u4eba\",\"3\",\"c\",\"\\u3053\\u3068\",\"\\u3053\\u308c\",\"\\u3055\\u3093\",\"\\u305d\\u306e\\u5f8c\",\"\\u305f\\u3081\",\"\\u306e\",\"\\u3082\\u306e\",\"\\u3088\\u3046\",\"\\u30a2\\u30e1\\u30ea\\u30ab\",\"\\u30c1\\u30fc\\u30e0\",\"\\u4e2d\",\"\\u4e88\\u5b9a\",\"\\u4e8b\\u4ef6\",\"\\u4e8b\\u6545\",\"\\u4eba\",\"\\u4ee5\\u4e0a\",\"\\u4ee5\\u4e0b\",\"\\u51fa\\u5834\",\"\\u524d\",\"\\u53ef\\u80fd\\u6027\",\"\\u5927\\u4f1a\",\"\\u5973\\u6027\",\"\\u5f71\\u97ff\",\"\\u5f8c\",\"\\u5fc5\\u8981\",\"\\u65e5\",\"\\u65e5\\u672c\",\"\\u660e\\u3089\\u304b\",\"\\u6642\",\"\\u671d\\u65e5\\u65b0\\u805e\",\"\\u6b7b\\u4ea1\",\"\\u6c0f\",\"\\u6c7a\\u5b9a\",\"\\u73fe\\u5728\",\"\\u7537\\u6027\",\"\\u767a\\u751f\",\"\\u767a\\u8868\",\"\\u8005\",\"\\u8a66\\u5408\",\"\\u8aad\\u58f2\\u65b0\\u805e\",\"\\u8b66\\u5bdf\",\"\\u902e\\u6355\",\"\\u9078\\u624b\",\"\\u958b\\u50ac\",\"\\u9593\"],\"name\":\"\",\"parents\":[\"\",\"\",\"\",\"\",\"\",\"\",\"\",\"\",\"\",\"\",\"\",\"\",\"\",\"\",\"\",\"\",\"\",\"\",\"\",\"\",\"\",\"\",\"\",\"\",\"\",\"\",\"\",\"\",\"\",\"\",\"\",\"\",\"\",\"\",\"\",\"\",\"\",\"\",\"\",\"\",\"\",\"\",\"\",\"\",\"\",\"\",\"\",\"\",\"\",\"\"],\"values\":[553,450,298,283,365,3146,557,603,577,975,1002,383,737,336,311,527,292,450,297,357,300,350,292,296,301,405,325,269,585,271,428,1293,286,270,457,362,528,288,391,500,423,1224,356,476,425,310,341,805,427,294],\"type\":\"treemap\"}],                        {\"template\":{\"data\":{\"bar\":[{\"error_x\":{\"color\":\"#2a3f5f\"},\"error_y\":{\"color\":\"#2a3f5f\"},\"marker\":{\"line\":{\"color\":\"#E5ECF6\",\"width\":0.5},\"pattern\":{\"fillmode\":\"overlay\",\"size\":10,\"solidity\":0.2}},\"type\":\"bar\"}],\"barpolar\":[{\"marker\":{\"line\":{\"color\":\"#E5ECF6\",\"width\":0.5},\"pattern\":{\"fillmode\":\"overlay\",\"size\":10,\"solidity\":0.2}},\"type\":\"barpolar\"}],\"carpet\":[{\"aaxis\":{\"endlinecolor\":\"#2a3f5f\",\"gridcolor\":\"white\",\"linecolor\":\"white\",\"minorgridcolor\":\"white\",\"startlinecolor\":\"#2a3f5f\"},\"baxis\":{\"endlinecolor\":\"#2a3f5f\",\"gridcolor\":\"white\",\"linecolor\":\"white\",\"minorgridcolor\":\"white\",\"startlinecolor\":\"#2a3f5f\"},\"type\":\"carpet\"}],\"choropleth\":[{\"colorbar\":{\"outlinewidth\":0,\"ticks\":\"\"},\"type\":\"choropleth\"}],\"contour\":[{\"colorbar\":{\"outlinewidth\":0,\"ticks\":\"\"},\"colorscale\":[[0.0,\"#0d0887\"],[0.1111111111111111,\"#46039f\"],[0.2222222222222222,\"#7201a8\"],[0.3333333333333333,\"#9c179e\"],[0.4444444444444444,\"#bd3786\"],[0.5555555555555556,\"#d8576b\"],[0.6666666666666666,\"#ed7953\"],[0.7777777777777778,\"#fb9f3a\"],[0.8888888888888888,\"#fdca26\"],[1.0,\"#f0f921\"]],\"type\":\"contour\"}],\"contourcarpet\":[{\"colorbar\":{\"outlinewidth\":0,\"ticks\":\"\"},\"type\":\"contourcarpet\"}],\"heatmap\":[{\"colorbar\":{\"outlinewidth\":0,\"ticks\":\"\"},\"colorscale\":[[0.0,\"#0d0887\"],[0.1111111111111111,\"#46039f\"],[0.2222222222222222,\"#7201a8\"],[0.3333333333333333,\"#9c179e\"],[0.4444444444444444,\"#bd3786\"],[0.5555555555555556,\"#d8576b\"],[0.6666666666666666,\"#ed7953\"],[0.7777777777777778,\"#fb9f3a\"],[0.8888888888888888,\"#fdca26\"],[1.0,\"#f0f921\"]],\"type\":\"heatmap\"}],\"heatmapgl\":[{\"colorbar\":{\"outlinewidth\":0,\"ticks\":\"\"},\"colorscale\":[[0.0,\"#0d0887\"],[0.1111111111111111,\"#46039f\"],[0.2222222222222222,\"#7201a8\"],[0.3333333333333333,\"#9c179e\"],[0.4444444444444444,\"#bd3786\"],[0.5555555555555556,\"#d8576b\"],[0.6666666666666666,\"#ed7953\"],[0.7777777777777778,\"#fb9f3a\"],[0.8888888888888888,\"#fdca26\"],[1.0,\"#f0f921\"]],\"type\":\"heatmapgl\"}],\"histogram\":[{\"marker\":{\"pattern\":{\"fillmode\":\"overlay\",\"size\":10,\"solidity\":0.2}},\"type\":\"histogram\"}],\"histogram2d\":[{\"colorbar\":{\"outlinewidth\":0,\"ticks\":\"\"},\"colorscale\":[[0.0,\"#0d0887\"],[0.1111111111111111,\"#46039f\"],[0.2222222222222222,\"#7201a8\"],[0.3333333333333333,\"#9c179e\"],[0.4444444444444444,\"#bd3786\"],[0.5555555555555556,\"#d8576b\"],[0.6666666666666666,\"#ed7953\"],[0.7777777777777778,\"#fb9f3a\"],[0.8888888888888888,\"#fdca26\"],[1.0,\"#f0f921\"]],\"type\":\"histogram2d\"}],\"histogram2dcontour\":[{\"colorbar\":{\"outlinewidth\":0,\"ticks\":\"\"},\"colorscale\":[[0.0,\"#0d0887\"],[0.1111111111111111,\"#46039f\"],[0.2222222222222222,\"#7201a8\"],[0.3333333333333333,\"#9c179e\"],[0.4444444444444444,\"#bd3786\"],[0.5555555555555556,\"#d8576b\"],[0.6666666666666666,\"#ed7953\"],[0.7777777777777778,\"#fb9f3a\"],[0.8888888888888888,\"#fdca26\"],[1.0,\"#f0f921\"]],\"type\":\"histogram2dcontour\"}],\"mesh3d\":[{\"colorbar\":{\"outlinewidth\":0,\"ticks\":\"\"},\"type\":\"mesh3d\"}],\"parcoords\":[{\"line\":{\"colorbar\":{\"outlinewidth\":0,\"ticks\":\"\"}},\"type\":\"parcoords\"}],\"pie\":[{\"automargin\":true,\"type\":\"pie\"}],\"scatter\":[{\"marker\":{\"colorbar\":{\"outlinewidth\":0,\"ticks\":\"\"}},\"type\":\"scatter\"}],\"scatter3d\":[{\"line\":{\"colorbar\":{\"outlinewidth\":0,\"ticks\":\"\"}},\"marker\":{\"colorbar\":{\"outlinewidth\":0,\"ticks\":\"\"}},\"type\":\"scatter3d\"}],\"scattercarpet\":[{\"marker\":{\"colorbar\":{\"outlinewidth\":0,\"ticks\":\"\"}},\"type\":\"scattercarpet\"}],\"scattergeo\":[{\"marker\":{\"colorbar\":{\"outlinewidth\":0,\"ticks\":\"\"}},\"type\":\"scattergeo\"}],\"scattergl\":[{\"marker\":{\"colorbar\":{\"outlinewidth\":0,\"ticks\":\"\"}},\"type\":\"scattergl\"}],\"scattermapbox\":[{\"marker\":{\"colorbar\":{\"outlinewidth\":0,\"ticks\":\"\"}},\"type\":\"scattermapbox\"}],\"scatterpolar\":[{\"marker\":{\"colorbar\":{\"outlinewidth\":0,\"ticks\":\"\"}},\"type\":\"scatterpolar\"}],\"scatterpolargl\":[{\"marker\":{\"colorbar\":{\"outlinewidth\":0,\"ticks\":\"\"}},\"type\":\"scatterpolargl\"}],\"scatterternary\":[{\"marker\":{\"colorbar\":{\"outlinewidth\":0,\"ticks\":\"\"}},\"type\":\"scatterternary\"}],\"surface\":[{\"colorbar\":{\"outlinewidth\":0,\"ticks\":\"\"},\"colorscale\":[[0.0,\"#0d0887\"],[0.1111111111111111,\"#46039f\"],[0.2222222222222222,\"#7201a8\"],[0.3333333333333333,\"#9c179e\"],[0.4444444444444444,\"#bd3786\"],[0.5555555555555556,\"#d8576b\"],[0.6666666666666666,\"#ed7953\"],[0.7777777777777778,\"#fb9f3a\"],[0.8888888888888888,\"#fdca26\"],[1.0,\"#f0f921\"]],\"type\":\"surface\"}],\"table\":[{\"cells\":{\"fill\":{\"color\":\"#EBF0F8\"},\"line\":{\"color\":\"white\"}},\"header\":{\"fill\":{\"color\":\"#C8D4E3\"},\"line\":{\"color\":\"white\"}},\"type\":\"table\"}]},\"layout\":{\"annotationdefaults\":{\"arrowcolor\":\"#2a3f5f\",\"arrowhead\":0,\"arrowwidth\":1},\"autotypenumbers\":\"strict\",\"coloraxis\":{\"colorbar\":{\"outlinewidth\":0,\"ticks\":\"\"}},\"colorscale\":{\"diverging\":[[0,\"#8e0152\"],[0.1,\"#c51b7d\"],[0.2,\"#de77ae\"],[0.3,\"#f1b6da\"],[0.4,\"#fde0ef\"],[0.5,\"#f7f7f7\"],[0.6,\"#e6f5d0\"],[0.7,\"#b8e186\"],[0.8,\"#7fbc41\"],[0.9,\"#4d9221\"],[1,\"#276419\"]],\"sequential\":[[0.0,\"#0d0887\"],[0.1111111111111111,\"#46039f\"],[0.2222222222222222,\"#7201a8\"],[0.3333333333333333,\"#9c179e\"],[0.4444444444444444,\"#bd3786\"],[0.5555555555555556,\"#d8576b\"],[0.6666666666666666,\"#ed7953\"],[0.7777777777777778,\"#fb9f3a\"],[0.8888888888888888,\"#fdca26\"],[1.0,\"#f0f921\"]],\"sequentialminus\":[[0.0,\"#0d0887\"],[0.1111111111111111,\"#46039f\"],[0.2222222222222222,\"#7201a8\"],[0.3333333333333333,\"#9c179e\"],[0.4444444444444444,\"#bd3786\"],[0.5555555555555556,\"#d8576b\"],[0.6666666666666666,\"#ed7953\"],[0.7777777777777778,\"#fb9f3a\"],[0.8888888888888888,\"#fdca26\"],[1.0,\"#f0f921\"]]},\"colorway\":[\"#636efa\",\"#EF553B\",\"#00cc96\",\"#ab63fa\",\"#FFA15A\",\"#19d3f3\",\"#FF6692\",\"#B6E880\",\"#FF97FF\",\"#FECB52\"],\"font\":{\"color\":\"#2a3f5f\"},\"geo\":{\"bgcolor\":\"white\",\"lakecolor\":\"white\",\"landcolor\":\"#E5ECF6\",\"showlakes\":true,\"showland\":true,\"subunitcolor\":\"white\"},\"hoverlabel\":{\"align\":\"left\"},\"hovermode\":\"closest\",\"mapbox\":{\"style\":\"light\"},\"paper_bgcolor\":\"white\",\"plot_bgcolor\":\"#E5ECF6\",\"polar\":{\"angularaxis\":{\"gridcolor\":\"white\",\"linecolor\":\"white\",\"ticks\":\"\"},\"bgcolor\":\"#E5ECF6\",\"radialaxis\":{\"gridcolor\":\"white\",\"linecolor\":\"white\",\"ticks\":\"\"}},\"scene\":{\"xaxis\":{\"backgroundcolor\":\"#E5ECF6\",\"gridcolor\":\"white\",\"gridwidth\":2,\"linecolor\":\"white\",\"showbackground\":true,\"ticks\":\"\",\"zerolinecolor\":\"white\"},\"yaxis\":{\"backgroundcolor\":\"#E5ECF6\",\"gridcolor\":\"white\",\"gridwidth\":2,\"linecolor\":\"white\",\"showbackground\":true,\"ticks\":\"\",\"zerolinecolor\":\"white\"},\"zaxis\":{\"backgroundcolor\":\"#E5ECF6\",\"gridcolor\":\"white\",\"gridwidth\":2,\"linecolor\":\"white\",\"showbackground\":true,\"ticks\":\"\",\"zerolinecolor\":\"white\"}},\"shapedefaults\":{\"line\":{\"color\":\"#2a3f5f\"}},\"ternary\":{\"aaxis\":{\"gridcolor\":\"white\",\"linecolor\":\"white\",\"ticks\":\"\"},\"baxis\":{\"gridcolor\":\"white\",\"linecolor\":\"white\",\"ticks\":\"\"},\"bgcolor\":\"#E5ECF6\",\"caxis\":{\"gridcolor\":\"white\",\"linecolor\":\"white\",\"ticks\":\"\"}},\"title\":{\"x\":0.05},\"xaxis\":{\"automargin\":true,\"gridcolor\":\"white\",\"linecolor\":\"white\",\"ticks\":\"\",\"title\":{\"standoff\":15},\"zerolinecolor\":\"white\",\"zerolinewidth\":2},\"yaxis\":{\"automargin\":true,\"gridcolor\":\"white\",\"linecolor\":\"white\",\"ticks\":\"\",\"title\":{\"standoff\":15},\"zerolinecolor\":\"white\",\"zerolinewidth\":2}}},\"legend\":{\"tracegroupgap\":0},\"margin\":{\"t\":60},\"title\":{\"text\":\"\\u30d5\\u30a7\\u30a4\\u30af\\u30cb\\u30e5\\u30fc\\u30b9\"},\"width\":1300,\"height\":600},                        {\"responsive\": true}                    ).then(function(){\n",
              "                            \n",
              "var gd = document.getElementById('7518a11d-b406-471c-94f4-f9a551610750');\n",
              "var x = new MutationObserver(function (mutations, observer) {{\n",
              "        var display = window.getComputedStyle(gd).display;\n",
              "        if (!display || display === 'none') {{\n",
              "            console.log([gd, 'removed!']);\n",
              "            Plotly.purge(gd);\n",
              "            observer.disconnect();\n",
              "        }}\n",
              "}});\n",
              "\n",
              "// Listen for the removal of the full notebook cells\n",
              "var notebookContainer = gd.closest('#notebook-container');\n",
              "if (notebookContainer) {{\n",
              "    x.observe(notebookContainer, {childList: true});\n",
              "}}\n",
              "\n",
              "// Listen for the clearing of the current output cell\n",
              "var outputEl = gd.closest('.output');\n",
              "if (outputEl) {{\n",
              "    x.observe(outputEl, {childList: true});\n",
              "}}\n",
              "\n",
              "                        })                };                            </script>        </div>\n",
              "</body>\n",
              "</html>"
            ]
          },
          "metadata": {}
        }
      ]
    },
    {
      "cell_type": "markdown",
      "source": [
        "- フェイクニュースは新聞社の名前（朝日新聞，読売新聞など）\n",
        "- 日本の出現回数がwikinewsと比較すると2倍以上"
      ],
      "metadata": {
        "id": "aJVF0PiX_XEj"
      }
    },
    {
      "cell_type": "markdown",
      "source": [
        "## フェイクニュース特有の表現\n",
        "単語単位でなくひとかたまりで確認\n",
        "\n",
        "不自然な表現ある？"
      ],
      "metadata": {
        "id": "LhK-L00uFHbz"
      }
    },
    {
      "cell_type": "code",
      "source": [
        "# stopwordsを設定（設定しないと，文の終わりが多くでてきてしまうため）\n",
        "top_n = 20\n",
        "stopwords = npt_all.get_stopword(top_n=top_n, min_freq=0)\n",
        "\n",
        "npt_all.bar_ngram(\n",
        "    title='stopwords',\n",
        "    xaxis_label='word_count',\n",
        "    yaxis_label='word',\n",
        "    ngram=1,\n",
        "    top_n=top_n,\n",
        ")"
      ],
      "metadata": {
        "colab": {
          "base_uri": "https://localhost:8080/",
          "height": 1000
        },
        "id": "I523IXfmIxor",
        "outputId": "50009e6c-d041-4219-cc68-6ad7d29d3f83"
      },
      "execution_count": null,
      "outputs": [
        {
          "output_type": "stream",
          "name": "stderr",
          "text": [
            "100%|██████████| 3781/3781 [00:01<00:00, 2623.38it/s]\n"
          ]
        },
        {
          "output_type": "display_data",
          "data": {
            "text/html": [
              "<html>\n",
              "<head><meta charset=\"utf-8\" /></head>\n",
              "<body>\n",
              "    <div>            <script src=\"https://cdnjs.cloudflare.com/ajax/libs/mathjax/2.7.5/MathJax.js?config=TeX-AMS-MML_SVG\"></script><script type=\"text/javascript\">if (window.MathJax) {MathJax.Hub.Config({SVG: {font: \"STIX-Web\"}});}</script>                <script type=\"text/javascript\">window.PlotlyConfig = {MathJaxConfig: 'local'};</script>\n",
              "        <script src=\"https://cdn.plot.ly/plotly-2.9.0.min.js\"></script>                <div id=\"5966f3d3-532e-4761-99f3-d02c9e33b5ff\" class=\"plotly-graph-div\" style=\"height:1100px; width:800px;\"></div>            <script type=\"text/javascript\">                                    window.PLOTLYENV=window.PLOTLYENV || {};                                    if (document.getElementById(\"5966f3d3-532e-4761-99f3-d02c9e33b5ff\")) {                    Plotly.newPlot(                        \"5966f3d3-532e-4761-99f3-d02c9e33b5ff\",                        [{\"alignmentgroup\":\"True\",\"hovertemplate\":\"word_count=%{text}<br>word=%{y}<extra></extra>\",\"legendgroup\":\"\",\"marker\":{\"pattern\":{\"shape\":\"\"}},\"name\":\"\",\"offsetgroup\":\"\",\"orientation\":\"h\",\"showlegend\":false,\"text\":[7298.0,7607.0,7751.0,7937.0,8154.0,11755.0,12117.0,12236.0,24576.0,24663.0,26810.0,27082.0,29773.0,30673.0,30967.0,32258.0,36260.0,46186.0,58845.0,61114.0],\"textposition\":\"auto\",\"x\":[7298,7607,7751,7937,8154,11755,12117,12236,24576,24663,26810,27082,29773,30673,30967,32258,36260,46186,58845,61114],\"xaxis\":\"x\",\"y\":[\"\\u30fb\",\"\\u5e74\",\"\\u6708\",\"\\u3044\\u308b\",\"\\u308c\",\"\\u300d\",\"\\u65e5\",\"\\u300c\",\"\\u3067\",\"\\u3057\",\"\\u3066\",\"\\u304c\",\"\\u306f\",\"\\u3002\",\"\\u3092\",\"\\u3068\",\"\\u305f\",\"\\u306b\",\"\\u306e\",\"\\u3001\"],\"yaxis\":\"y\",\"type\":\"bar\",\"texttemplate\":\"%{text:.2s}\"}],                        {\"template\":{\"data\":{\"bar\":[{\"error_x\":{\"color\":\"#2a3f5f\"},\"error_y\":{\"color\":\"#2a3f5f\"},\"marker\":{\"line\":{\"color\":\"#E5ECF6\",\"width\":0.5},\"pattern\":{\"fillmode\":\"overlay\",\"size\":10,\"solidity\":0.2}},\"type\":\"bar\"}],\"barpolar\":[{\"marker\":{\"line\":{\"color\":\"#E5ECF6\",\"width\":0.5},\"pattern\":{\"fillmode\":\"overlay\",\"size\":10,\"solidity\":0.2}},\"type\":\"barpolar\"}],\"carpet\":[{\"aaxis\":{\"endlinecolor\":\"#2a3f5f\",\"gridcolor\":\"white\",\"linecolor\":\"white\",\"minorgridcolor\":\"white\",\"startlinecolor\":\"#2a3f5f\"},\"baxis\":{\"endlinecolor\":\"#2a3f5f\",\"gridcolor\":\"white\",\"linecolor\":\"white\",\"minorgridcolor\":\"white\",\"startlinecolor\":\"#2a3f5f\"},\"type\":\"carpet\"}],\"choropleth\":[{\"colorbar\":{\"outlinewidth\":0,\"ticks\":\"\"},\"type\":\"choropleth\"}],\"contour\":[{\"colorbar\":{\"outlinewidth\":0,\"ticks\":\"\"},\"colorscale\":[[0.0,\"#0d0887\"],[0.1111111111111111,\"#46039f\"],[0.2222222222222222,\"#7201a8\"],[0.3333333333333333,\"#9c179e\"],[0.4444444444444444,\"#bd3786\"],[0.5555555555555556,\"#d8576b\"],[0.6666666666666666,\"#ed7953\"],[0.7777777777777778,\"#fb9f3a\"],[0.8888888888888888,\"#fdca26\"],[1.0,\"#f0f921\"]],\"type\":\"contour\"}],\"contourcarpet\":[{\"colorbar\":{\"outlinewidth\":0,\"ticks\":\"\"},\"type\":\"contourcarpet\"}],\"heatmap\":[{\"colorbar\":{\"outlinewidth\":0,\"ticks\":\"\"},\"colorscale\":[[0.0,\"#0d0887\"],[0.1111111111111111,\"#46039f\"],[0.2222222222222222,\"#7201a8\"],[0.3333333333333333,\"#9c179e\"],[0.4444444444444444,\"#bd3786\"],[0.5555555555555556,\"#d8576b\"],[0.6666666666666666,\"#ed7953\"],[0.7777777777777778,\"#fb9f3a\"],[0.8888888888888888,\"#fdca26\"],[1.0,\"#f0f921\"]],\"type\":\"heatmap\"}],\"heatmapgl\":[{\"colorbar\":{\"outlinewidth\":0,\"ticks\":\"\"},\"colorscale\":[[0.0,\"#0d0887\"],[0.1111111111111111,\"#46039f\"],[0.2222222222222222,\"#7201a8\"],[0.3333333333333333,\"#9c179e\"],[0.4444444444444444,\"#bd3786\"],[0.5555555555555556,\"#d8576b\"],[0.6666666666666666,\"#ed7953\"],[0.7777777777777778,\"#fb9f3a\"],[0.8888888888888888,\"#fdca26\"],[1.0,\"#f0f921\"]],\"type\":\"heatmapgl\"}],\"histogram\":[{\"marker\":{\"pattern\":{\"fillmode\":\"overlay\",\"size\":10,\"solidity\":0.2}},\"type\":\"histogram\"}],\"histogram2d\":[{\"colorbar\":{\"outlinewidth\":0,\"ticks\":\"\"},\"colorscale\":[[0.0,\"#0d0887\"],[0.1111111111111111,\"#46039f\"],[0.2222222222222222,\"#7201a8\"],[0.3333333333333333,\"#9c179e\"],[0.4444444444444444,\"#bd3786\"],[0.5555555555555556,\"#d8576b\"],[0.6666666666666666,\"#ed7953\"],[0.7777777777777778,\"#fb9f3a\"],[0.8888888888888888,\"#fdca26\"],[1.0,\"#f0f921\"]],\"type\":\"histogram2d\"}],\"histogram2dcontour\":[{\"colorbar\":{\"outlinewidth\":0,\"ticks\":\"\"},\"colorscale\":[[0.0,\"#0d0887\"],[0.1111111111111111,\"#46039f\"],[0.2222222222222222,\"#7201a8\"],[0.3333333333333333,\"#9c179e\"],[0.4444444444444444,\"#bd3786\"],[0.5555555555555556,\"#d8576b\"],[0.6666666666666666,\"#ed7953\"],[0.7777777777777778,\"#fb9f3a\"],[0.8888888888888888,\"#fdca26\"],[1.0,\"#f0f921\"]],\"type\":\"histogram2dcontour\"}],\"mesh3d\":[{\"colorbar\":{\"outlinewidth\":0,\"ticks\":\"\"},\"type\":\"mesh3d\"}],\"parcoords\":[{\"line\":{\"colorbar\":{\"outlinewidth\":0,\"ticks\":\"\"}},\"type\":\"parcoords\"}],\"pie\":[{\"automargin\":true,\"type\":\"pie\"}],\"scatter\":[{\"marker\":{\"colorbar\":{\"outlinewidth\":0,\"ticks\":\"\"}},\"type\":\"scatter\"}],\"scatter3d\":[{\"line\":{\"colorbar\":{\"outlinewidth\":0,\"ticks\":\"\"}},\"marker\":{\"colorbar\":{\"outlinewidth\":0,\"ticks\":\"\"}},\"type\":\"scatter3d\"}],\"scattercarpet\":[{\"marker\":{\"colorbar\":{\"outlinewidth\":0,\"ticks\":\"\"}},\"type\":\"scattercarpet\"}],\"scattergeo\":[{\"marker\":{\"colorbar\":{\"outlinewidth\":0,\"ticks\":\"\"}},\"type\":\"scattergeo\"}],\"scattergl\":[{\"marker\":{\"colorbar\":{\"outlinewidth\":0,\"ticks\":\"\"}},\"type\":\"scattergl\"}],\"scattermapbox\":[{\"marker\":{\"colorbar\":{\"outlinewidth\":0,\"ticks\":\"\"}},\"type\":\"scattermapbox\"}],\"scatterpolar\":[{\"marker\":{\"colorbar\":{\"outlinewidth\":0,\"ticks\":\"\"}},\"type\":\"scatterpolar\"}],\"scatterpolargl\":[{\"marker\":{\"colorbar\":{\"outlinewidth\":0,\"ticks\":\"\"}},\"type\":\"scatterpolargl\"}],\"scatterternary\":[{\"marker\":{\"colorbar\":{\"outlinewidth\":0,\"ticks\":\"\"}},\"type\":\"scatterternary\"}],\"surface\":[{\"colorbar\":{\"outlinewidth\":0,\"ticks\":\"\"},\"colorscale\":[[0.0,\"#0d0887\"],[0.1111111111111111,\"#46039f\"],[0.2222222222222222,\"#7201a8\"],[0.3333333333333333,\"#9c179e\"],[0.4444444444444444,\"#bd3786\"],[0.5555555555555556,\"#d8576b\"],[0.6666666666666666,\"#ed7953\"],[0.7777777777777778,\"#fb9f3a\"],[0.8888888888888888,\"#fdca26\"],[1.0,\"#f0f921\"]],\"type\":\"surface\"}],\"table\":[{\"cells\":{\"fill\":{\"color\":\"#EBF0F8\"},\"line\":{\"color\":\"white\"}},\"header\":{\"fill\":{\"color\":\"#C8D4E3\"},\"line\":{\"color\":\"white\"}},\"type\":\"table\"}]},\"layout\":{\"annotationdefaults\":{\"arrowcolor\":\"#2a3f5f\",\"arrowhead\":0,\"arrowwidth\":1},\"autotypenumbers\":\"strict\",\"coloraxis\":{\"colorbar\":{\"outlinewidth\":0,\"ticks\":\"\"}},\"colorscale\":{\"diverging\":[[0,\"#8e0152\"],[0.1,\"#c51b7d\"],[0.2,\"#de77ae\"],[0.3,\"#f1b6da\"],[0.4,\"#fde0ef\"],[0.5,\"#f7f7f7\"],[0.6,\"#e6f5d0\"],[0.7,\"#b8e186\"],[0.8,\"#7fbc41\"],[0.9,\"#4d9221\"],[1,\"#276419\"]],\"sequential\":[[0.0,\"#0d0887\"],[0.1111111111111111,\"#46039f\"],[0.2222222222222222,\"#7201a8\"],[0.3333333333333333,\"#9c179e\"],[0.4444444444444444,\"#bd3786\"],[0.5555555555555556,\"#d8576b\"],[0.6666666666666666,\"#ed7953\"],[0.7777777777777778,\"#fb9f3a\"],[0.8888888888888888,\"#fdca26\"],[1.0,\"#f0f921\"]],\"sequentialminus\":[[0.0,\"#0d0887\"],[0.1111111111111111,\"#46039f\"],[0.2222222222222222,\"#7201a8\"],[0.3333333333333333,\"#9c179e\"],[0.4444444444444444,\"#bd3786\"],[0.5555555555555556,\"#d8576b\"],[0.6666666666666666,\"#ed7953\"],[0.7777777777777778,\"#fb9f3a\"],[0.8888888888888888,\"#fdca26\"],[1.0,\"#f0f921\"]]},\"colorway\":[\"#636efa\",\"#EF553B\",\"#00cc96\",\"#ab63fa\",\"#FFA15A\",\"#19d3f3\",\"#FF6692\",\"#B6E880\",\"#FF97FF\",\"#FECB52\"],\"font\":{\"color\":\"#2a3f5f\"},\"geo\":{\"bgcolor\":\"white\",\"lakecolor\":\"white\",\"landcolor\":\"#E5ECF6\",\"showlakes\":true,\"showland\":true,\"subunitcolor\":\"white\"},\"hoverlabel\":{\"align\":\"left\"},\"hovermode\":\"closest\",\"mapbox\":{\"style\":\"light\"},\"paper_bgcolor\":\"white\",\"plot_bgcolor\":\"#E5ECF6\",\"polar\":{\"angularaxis\":{\"gridcolor\":\"white\",\"linecolor\":\"white\",\"ticks\":\"\"},\"bgcolor\":\"#E5ECF6\",\"radialaxis\":{\"gridcolor\":\"white\",\"linecolor\":\"white\",\"ticks\":\"\"}},\"scene\":{\"xaxis\":{\"backgroundcolor\":\"#E5ECF6\",\"gridcolor\":\"white\",\"gridwidth\":2,\"linecolor\":\"white\",\"showbackground\":true,\"ticks\":\"\",\"zerolinecolor\":\"white\"},\"yaxis\":{\"backgroundcolor\":\"#E5ECF6\",\"gridcolor\":\"white\",\"gridwidth\":2,\"linecolor\":\"white\",\"showbackground\":true,\"ticks\":\"\",\"zerolinecolor\":\"white\"},\"zaxis\":{\"backgroundcolor\":\"#E5ECF6\",\"gridcolor\":\"white\",\"gridwidth\":2,\"linecolor\":\"white\",\"showbackground\":true,\"ticks\":\"\",\"zerolinecolor\":\"white\"}},\"shapedefaults\":{\"line\":{\"color\":\"#2a3f5f\"}},\"ternary\":{\"aaxis\":{\"gridcolor\":\"white\",\"linecolor\":\"white\",\"ticks\":\"\"},\"baxis\":{\"gridcolor\":\"white\",\"linecolor\":\"white\",\"ticks\":\"\"},\"bgcolor\":\"#E5ECF6\",\"caxis\":{\"gridcolor\":\"white\",\"linecolor\":\"white\",\"ticks\":\"\"}},\"title\":{\"x\":0.05},\"xaxis\":{\"automargin\":true,\"gridcolor\":\"white\",\"linecolor\":\"white\",\"ticks\":\"\",\"title\":{\"standoff\":15},\"zerolinecolor\":\"white\",\"zerolinewidth\":2},\"yaxis\":{\"automargin\":true,\"gridcolor\":\"white\",\"linecolor\":\"white\",\"ticks\":\"\",\"title\":{\"standoff\":15},\"zerolinecolor\":\"white\",\"zerolinewidth\":2}}},\"xaxis\":{\"anchor\":\"y\",\"domain\":[0.0,1.0],\"title\":{\"text\":\"word_count\"}},\"yaxis\":{\"anchor\":\"x\",\"domain\":[0.0,1.0],\"title\":{\"text\":\"word\"}},\"legend\":{\"tracegroupgap\":0},\"margin\":{\"t\":60},\"barmode\":\"relative\",\"title\":{\"text\":\"stopwords\"},\"width\":800,\"height\":1100},                        {\"responsive\": true}                    ).then(function(){\n",
              "                            \n",
              "var gd = document.getElementById('5966f3d3-532e-4761-99f3-d02c9e33b5ff');\n",
              "var x = new MutationObserver(function (mutations, observer) {{\n",
              "        var display = window.getComputedStyle(gd).display;\n",
              "        if (!display || display === 'none') {{\n",
              "            console.log([gd, 'removed!']);\n",
              "            Plotly.purge(gd);\n",
              "            observer.disconnect();\n",
              "        }}\n",
              "}});\n",
              "\n",
              "// Listen for the removal of the full notebook cells\n",
              "var notebookContainer = gd.closest('#notebook-container');\n",
              "if (notebookContainer) {{\n",
              "    x.observe(notebookContainer, {childList: true});\n",
              "}}\n",
              "\n",
              "// Listen for the clearing of the current output cell\n",
              "var outputEl = gd.closest('.output');\n",
              "if (outputEl) {{\n",
              "    x.observe(outputEl, {childList: true});\n",
              "}}\n",
              "\n",
              "                        })                };                            </script>        </div>\n",
              "</body>\n",
              "</html>"
            ]
          },
          "metadata": {}
        }
      ]
    },
    {
      "cell_type": "code",
      "source": [
        "from plotly.subplots import make_subplots\n",
        "\n",
        "ngram = 5\n",
        "top_n = 50\n",
        "\n",
        "# wikinewsのfigを取得\n",
        "fig_unigram_wiki = npt_wiki_all.bar_ngram(\n",
        "    xaxis_label='word_count',\n",
        "    yaxis_label='word',\n",
        "    ngram=ngram,\n",
        "    top_n=top_n,\n",
        "    stopwords=stopwords,\n",
        ")\n",
        "\n",
        "# フェイクニュースのfigを取得\n",
        "fig_unigram_fake = npt_fake_all.bar_ngram(\n",
        "    xaxis_label='word_count',\n",
        "    yaxis_label='word',\n",
        "    ngram=ngram,\n",
        "    top_n=top_n,\n",
        "    stopwords=stopwords,\n",
        ")\n",
        "\n",
        "# subplot\n",
        "trace1 = fig_unigram_wiki['data'][0]\n",
        "trace2 = fig_unigram_fake['data'][0]\n",
        "\n",
        "fig = make_subplots(\n",
        "    rows=1, cols=2,\n",
        "    subplot_titles=('wikinews', 'フェイクニュース'),\n",
        "    shared_xaxes=True)\n",
        "\n",
        "fig.update_xaxes(title_text='word count', row=1, col=1)\n",
        "fig.update_xaxes(title_text='word count', row=1, col=2)\n",
        "\n",
        "fig.update_layout(\n",
        "    height=1100, width=1900,\n",
        "    title_text='unigram wikinews vs. フェイクニュース')\n",
        "\n",
        "fig.add_trace(trace1, row=1, col=1)\n",
        "fig.add_trace(trace2, row=1, col=2)\n",
        "\n",
        "# plotly.offline.plot(\n",
        "#     fig, filename='unigram wikinews vs. フェイクニュース', auto_open=False)\n",
        "\n",
        "fig.show()"
      ],
      "metadata": {
        "colab": {
          "base_uri": "https://localhost:8080/",
          "height": 1000
        },
        "id": "vVQNoamdF8a6",
        "outputId": "29ac68e7-e911-4d43-9324-222b983f7f0a"
      },
      "execution_count": null,
      "outputs": [
        {
          "output_type": "stream",
          "name": "stderr",
          "text": [
            "100%|██████████| 1844/1844 [00:01<00:00, 1205.37it/s]\n",
            "100%|██████████| 1937/1937 [00:00<00:00, 3130.62it/s]\n"
          ]
        },
        {
          "output_type": "display_data",
          "data": {
            "text/html": [
              "<html>\n",
              "<head><meta charset=\"utf-8\" /></head>\n",
              "<body>\n",
              "    <div>            <script src=\"https://cdnjs.cloudflare.com/ajax/libs/mathjax/2.7.5/MathJax.js?config=TeX-AMS-MML_SVG\"></script><script type=\"text/javascript\">if (window.MathJax) {MathJax.Hub.Config({SVG: {font: \"STIX-Web\"}});}</script>                <script type=\"text/javascript\">window.PlotlyConfig = {MathJaxConfig: 'local'};</script>\n",
              "        <script src=\"https://cdn.plot.ly/plotly-2.9.0.min.js\"></script>                <div id=\"590189ab-7829-4578-b02b-5f3e91d98cf5\" class=\"plotly-graph-div\" style=\"height:1100px; width:1900px;\"></div>            <script type=\"text/javascript\">                                    window.PLOTLYENV=window.PLOTLYENV || {};                                    if (document.getElementById(\"590189ab-7829-4578-b02b-5f3e91d98cf5\")) {                    Plotly.newPlot(                        \"590189ab-7829-4578-b02b-5f3e91d98cf5\",                        [{\"alignmentgroup\":\"True\",\"hovertemplate\":\"word_count=%{text}<br>word=%{y}<extra></extra>\",\"legendgroup\":\"\",\"marker\":{\"pattern\":{\"shape\":\"\"}},\"name\":\"\",\"offsetgroup\":\"\",\"orientation\":\"h\",\"showlegend\":false,\"text\":[12.0,12.0,12.0,12.0,12.0,12.0,12.0,12.0,12.0,13.0,13.0,13.0,13.0,13.0,13.0,14.0,14.0,14.0,15.0,15.0,16.0,16.0,16.0,16.0,16.0,17.0,17.0,19.0,19.0,19.0,20.0,22.0,22.0,24.0,26.0,28.0,31.0,31.0,32.0,40.0,46.0,47.0,47.0,48.0,48.0,58.0,58.0,107.0,117.0,248.0],\"textposition\":\"auto\",\"texttemplate\":\"%{text:.2s}\",\"x\":[12,12,12,12,12,12,12,12,12,13,13,13,13,13,13,14,14,14,15,15,16,16,16,16,16,17,17,19,19,19,20,22,22,24,26,28,31,31,32,40,46,47,47,48,48,58,58,107,117,248],\"xaxis\":\"x\",\"y\":[\"26 \\uff08 utc + 9\",\"0 \\u3070\\u3093 \\u3048 \\u3044 \\u8a18\\u5ff5\",\". 0 \\u3070\\u3093 \\u3048 \\u3044\",\"4 . 0 \\u3070\\u3093 \\u3048\",\"\\u6642 \\uff08 utc + 9\",\"\\u5b87\\u5b99 \\u822a\\u7a7a \\u7814\\u7a76 \\u958b\\u767a \\u6a5f\\u69cb\",\"18 \\uff08 utc + 9\",\"\\u65b0\\u805e \\u3088\\u308b \\u65e5\\u672c \\u30d7\\u30ed \\u91ce\\u7403\",\"sa 4 . 0 \\u3070\\u3093\",\"21 \\uff08 utc + 9\",\"24 \\uff08 utc + 9\",\"\\u65b0\\u805e \\u3088\\u308b jr \\u897f \\u65e5\\u672c\",\"\\u671d\\u65e5 \\u65b0\\u805e \\u4ee5\\u4e0b \\u5831\\u9053 \\u60c5\\u5831\",\"12 \\uff08 utc + 9\",\"10 \\uff08 utc + 9\",\"\\u65e5\\u672c \\u6642\\u9593 \\u5348\\u5f8c 3 \\u6642\",\"\\u307e\\u305f \\u8aad\\u58f2 \\u65b0\\u805e \\u3088\\u308c \\u3070\",\"3 \\uff08 utc + 9\",\"\\u6bce\\u65e5 \\u65b0\\u805e \\u8aad\\u58f2 \\u65b0\\u805e \\u3088\\u308b\",\"\\u6642 ( utc + 9\",\"utc + 9 \\uff09 \\u9803\",\"\\u671d\\u9bae \\u6c11\\u4e3b \\u4e3b\\u7fa9 \\u4eba\\u6c11 \\u5171\\u548c\",\"\\u6c11\\u4e3b \\u4e3b\\u7fa9 \\u4eba\\u6c11 \\u5171\\u548c \\u56fd\",\"fifa \\uff08 \\u56fd\\u969b \\u30b5\\u30c3\\u30ab\\u30fc \\u9023\\u76df\",\"\\uff08 \\u56fd\\u969b \\u30b5\\u30c3\\u30ab\\u30fc \\u9023\\u76df \\uff09\",\"\\u671d\\u65e5 \\u65b0\\u805e \\u8aad\\u58f2 \\u65b0\\u805e \\u3088\\u308b\",\"\\u5206 \\u9803 \\uff08 utc +\",\"\\u5206 ( utc + 9\",\"\\u82f1\\u8a9e \\u7248 \\u30a6\\u30a3\\u30ad \\u30cb\\u30e5\\u30fc\\u30b9 \\u304b\\u3089\",\"\\u9803 \\uff08 utc + 9\",\"\\u7248 \\u30a6\\u30a3\\u30ad \\u30cb\\u30e5\\u30fc\\u30b9 \\u304b\\u3089 \\u7ffb\\u8a33\",\"\\u8aad\\u58f2 \\u65b0\\u805e \\u671d\\u65e5 \\u65b0\\u805e \\u3088\\u308b\",\"utc + 9 \\uff09 \\u6771\\u4eac\",\"\\u8aad\\u58f2 \\u65b0\\u805e \\u6bce\\u65e5 \\u65b0\\u805e \\u3088\\u308b\",\"\\u6642\\u9593 utc + 9 \\uff09\",\"\\uff08 \\u65e5\\u672c \\u6642\\u9593 utc +\",\"\\u65e5\\u672c \\u6642\\u9593 utc + 9\",\"\\u65e5\\u672c \\u7d4c\\u6e08 \\u65b0\\u805e \\u3088\\u308c \\u3070\",\"\\u5206 \\uff08 utc + 9\",\"\\u65b0\\u805e \\u4ee5\\u4e0b \\u5831\\u9053 \\u60c5\\u5831 \\u6e90\",\"- sa 4 . 0\",\"cc by - sa 4\",\"by - sa 4 .\",\"utc + 9 \\u4ee5\\u4e0b \\u540c\\u69d8\",\"+ 9 \\u4ee5\\u4e0b \\u540c\\u69d8 \\uff09\",\"utc + 9 \\u4ee5\\u4e0b \\u540c\",\"+ 9 \\u4ee5\\u4e0b \\u540c \\uff09\",\"\\uff08 utc + 9 \\u4ee5\\u4e0b\",\"( utc + 9 )\",\"\\uff08 utc + 9 \\uff09\"],\"yaxis\":\"y\",\"type\":\"bar\"},{\"alignmentgroup\":\"True\",\"hovertemplate\":\"word_count=%{text}<br>word=%{y}<extra></extra>\",\"legendgroup\":\"\",\"marker\":{\"pattern\":{\"shape\":\"\"}},\"name\":\"\",\"offsetgroup\":\"\",\"orientation\":\"h\",\"showlegend\":false,\"text\":[11.0,11.0,12.0,12.0,12.0,13.0,13.0,13.0,13.0,13.0,13.0,13.0,13.0,13.0,13.0,13.0,14.0,15.0,15.0,15.0,16.0,16.0,16.0,16.0,16.0,17.0,17.0,17.0,17.0,19.0,19.0,22.0,22.0,23.0,23.0,23.0,24.0,24.0,24.0,25.0,26.0,26.0,29.0,29.0,29.0,30.0,30.0,31.0,34.0,54.0],\"textposition\":\"auto\",\"texttemplate\":\"%{text:.2s}\",\"x\":[11,11,12,12,12,13,13,13,13,13,13,13,13,13,13,13,14,15,15,15,16,16,16,16,16,17,17,17,17,19,19,22,22,23,23,23,24,24,24,25,26,26,29,29,29,30,30,31,34,54],\"xaxis\":\"x2\",\"y\":[\"\\u56de \\u5168\\u56fd \\u9ad8\\u7b49 \\u5b66\\u6821 \\u91ce\\u7403\",\"( c - 4 )\",\"\\u671d\\u65e5 \\u65b0\\u805e \\u6bce\\u65e5 \\u65b0\\u805e \\u3088\\u308b\",\"\\u8aad\\u58f2 \\u65b0\\u805e \\u7523\\u7d4c \\u65b0\\u805e \\u3088\\u308b\",\"\\u6642 ( c + 8\",\"\\u5168\\u56fd \\u9ad8\\u6821 \\u91ce\\u7403 \\u9078\\u624b \\u6a29\",\"\\u5168\\u56fd \\u9ad8\\u7b49 \\u5b66\\u6821 \\u91ce\\u7403 \\u9078\\u624b\",\"\\u65e5\\u672c \\u97f3\\u697d \\u8457\\u4f5c \\u6a29 \\u5354\\u4f1a\",\"\\u65e5\\u672c \\u7d4c\\u6e08 \\u65b0\\u805e \\u8aad\\u58f2 \\u65b0\\u805e\",\"\\u9ad8\\u6821 \\u91ce\\u7403 \\u9078\\u624b \\u6a29 \\u5927\\u4f1a\",\"\\u6bce\\u65e5 \\u65b0\\u805e \\u671d\\u65e5 \\u65b0\\u805e \\u3088\\u308b\",\"\\u56de \\u53c2\\u8b70 \\u9662 \\u8b70\\u54e1 \\u901a\\u5e38\",\"\\u5171\\u540c \\u901a\\u4fe1 ) \\u671d\\u65e5 \\u65b0\\u805e\",\"( \\u5171\\u540c \\u901a\\u4fe1 ) \\u671d\\u65e5\",\"( c + 8 )\",\"\\u9ad8\\u7b49 \\u5b66\\u6821 \\u91ce\\u7403 \\u9078\\u624b \\u6a29\",\"\\u2500 \\u2500 \\u2500 \\u2500 \\u2500\",\"\\u6c11\\u4e3b \\u4e3b\\u7fa9 \\u4eba\\u6c11 \\u5171\\u548c \\u56fd\",\"\\u53c2\\u8b70 \\u9662 \\u8b70\\u54e1 \\u901a\\u5e38 \\u9078\\u6319\",\"\\u4e00 \\u4e00 \\u4e00 \\u4e00 \\u4e00\",\"\\u308b \\u66f8\\u4f53 \\u30e9\\u30f3\\u30ad\\u30f3\\u30b0 \\uff08 \\u65e5\\u672c\",\"\\u671d\\u9bae \\u6c11\\u4e3b \\u4e3b\\u7fa9 \\u4eba\\u6c11 \\u5171\\u548c\",\"\\u5354\\u4f1a \\uff09 \\u304a\\u3051 \\u308b \\u66f8\\u4f53\",\"\\uff09 \\u304a\\u3051 \\u308b \\u66f8\\u4f53 \\u30e9\\u30f3\\u30ad\\u30f3\\u30b0\",\"\\u304a\\u3051 \\u308b \\u66f8\\u4f53 \\u30e9\\u30f3\\u30ad\\u30f3\\u30b0 \\uff08\",\"( \\u56fd\\u969b \\u30b5\\u30c3\\u30ab\\u30fc \\u9023\\u76df )\",\"\\u80fd\\u529b \\u691c\\u5b9a \\u5354\\u4f1a \\uff09 \\u304a\\u3051\",\"\\u691c\\u5b9a \\u5354\\u4f1a \\uff09 \\u304a\\u3051 \\u308b\",\"\\u5206 ( \\u65e5\\u672c \\u6642\\u9593 )\",\"( c - 5 )\",\"( c + 2 )\",\"\\u66f8\\u4f53 \\u30e9\\u30f3\\u30ad\\u30f3\\u30b0 \\uff08 \\u65e5\\u672c \\u6f22\\u5b57\",\"\\u30e9\\u30f3\\u30ad\\u30f3\\u30b0 \\uff08 \\u65e5\\u672c \\u6f22\\u5b57 \\u80fd\\u529b\",\"\\uff08 \\u65e5\\u672c \\u6f22\\u5b57 \\u80fd\\u529b \\u691c\\u5b9a\",\"\\u6f22\\u5b57 \\u80fd\\u529b \\u691c\\u5b9a \\u5354\\u4f1a \\uff09\",\"\\u51fa\\u5834 \\u30b7\\u30fc\\u30ba\\u30f3 \\u9014\\u4e2d \\u51fa\\u5834 \\u30b7\\u30fc\\u30ba\\u30f3\",\"\\u9014\\u4e2d \\u51fa\\u5834 \\u30b7\\u30fc\\u30ba\\u30f3 \\u9014\\u4e2d \\u51fa\\u5834\",\"\\u65e5\\u672c \\u6f22\\u5b57 \\u80fd\\u529b \\u691c\\u5b9a \\u5354\\u4f1a\",\"\\u65b0\\u805e \\u3088\\u308b \\u65e5\\u672c \\u30d7\\u30ed \\u91ce\\u7403\",\"\\u30b7\\u30fc\\u30ba\\u30f3 \\u9014\\u4e2d \\u51fa\\u5834 \\u30b7\\u30fc\\u30ba\\u30f3 \\u9014\\u4e2d\",\"\\u90f5\\u653f \\u6c11\\u55b6 \\u5316 \\u6cd5 \\u6848\",\"\\u8aad\\u58f2 \\u65b0\\u805e \\u671d\\u65e5 \\u65b0\\u805e \\u3088\\u308b\",\"\\u671d\\u65e5 \\u65b0\\u805e \\u8aad\\u58f2 \\u65b0\\u805e \\u3088\\u308b\",\"\\u8aad\\u58f2 \\u65b0\\u805e \\u6bce\\u65e5 \\u65b0\\u805e \\u3088\\u308b\",\"\\u672c \\u4f1a\\u8b70 \\u304a\\u3051 \\u308b \\u672c\",\"\\u304a\\u3051 \\u308b \\u672c \\u4f1a\\u8b70 \\u304a\\u3051\",\"\\u308b \\u672c \\u4f1a\\u8b70 \\u304a\\u3051 \\u308b\",\"\\u4f1a\\u8b70 \\u304a\\u3051 \\u308b \\u672c \\u4f1a\\u8b70\",\"47 ( \\u5171\\u540c \\u901a\\u4fe1 )\",\"- - - - -\"],\"yaxis\":\"y2\",\"type\":\"bar\"}],                        {\"template\":{\"data\":{\"bar\":[{\"error_x\":{\"color\":\"#2a3f5f\"},\"error_y\":{\"color\":\"#2a3f5f\"},\"marker\":{\"line\":{\"color\":\"#E5ECF6\",\"width\":0.5},\"pattern\":{\"fillmode\":\"overlay\",\"size\":10,\"solidity\":0.2}},\"type\":\"bar\"}],\"barpolar\":[{\"marker\":{\"line\":{\"color\":\"#E5ECF6\",\"width\":0.5},\"pattern\":{\"fillmode\":\"overlay\",\"size\":10,\"solidity\":0.2}},\"type\":\"barpolar\"}],\"carpet\":[{\"aaxis\":{\"endlinecolor\":\"#2a3f5f\",\"gridcolor\":\"white\",\"linecolor\":\"white\",\"minorgridcolor\":\"white\",\"startlinecolor\":\"#2a3f5f\"},\"baxis\":{\"endlinecolor\":\"#2a3f5f\",\"gridcolor\":\"white\",\"linecolor\":\"white\",\"minorgridcolor\":\"white\",\"startlinecolor\":\"#2a3f5f\"},\"type\":\"carpet\"}],\"choropleth\":[{\"colorbar\":{\"outlinewidth\":0,\"ticks\":\"\"},\"type\":\"choropleth\"}],\"contour\":[{\"colorbar\":{\"outlinewidth\":0,\"ticks\":\"\"},\"colorscale\":[[0.0,\"#0d0887\"],[0.1111111111111111,\"#46039f\"],[0.2222222222222222,\"#7201a8\"],[0.3333333333333333,\"#9c179e\"],[0.4444444444444444,\"#bd3786\"],[0.5555555555555556,\"#d8576b\"],[0.6666666666666666,\"#ed7953\"],[0.7777777777777778,\"#fb9f3a\"],[0.8888888888888888,\"#fdca26\"],[1.0,\"#f0f921\"]],\"type\":\"contour\"}],\"contourcarpet\":[{\"colorbar\":{\"outlinewidth\":0,\"ticks\":\"\"},\"type\":\"contourcarpet\"}],\"heatmap\":[{\"colorbar\":{\"outlinewidth\":0,\"ticks\":\"\"},\"colorscale\":[[0.0,\"#0d0887\"],[0.1111111111111111,\"#46039f\"],[0.2222222222222222,\"#7201a8\"],[0.3333333333333333,\"#9c179e\"],[0.4444444444444444,\"#bd3786\"],[0.5555555555555556,\"#d8576b\"],[0.6666666666666666,\"#ed7953\"],[0.7777777777777778,\"#fb9f3a\"],[0.8888888888888888,\"#fdca26\"],[1.0,\"#f0f921\"]],\"type\":\"heatmap\"}],\"heatmapgl\":[{\"colorbar\":{\"outlinewidth\":0,\"ticks\":\"\"},\"colorscale\":[[0.0,\"#0d0887\"],[0.1111111111111111,\"#46039f\"],[0.2222222222222222,\"#7201a8\"],[0.3333333333333333,\"#9c179e\"],[0.4444444444444444,\"#bd3786\"],[0.5555555555555556,\"#d8576b\"],[0.6666666666666666,\"#ed7953\"],[0.7777777777777778,\"#fb9f3a\"],[0.8888888888888888,\"#fdca26\"],[1.0,\"#f0f921\"]],\"type\":\"heatmapgl\"}],\"histogram\":[{\"marker\":{\"pattern\":{\"fillmode\":\"overlay\",\"size\":10,\"solidity\":0.2}},\"type\":\"histogram\"}],\"histogram2d\":[{\"colorbar\":{\"outlinewidth\":0,\"ticks\":\"\"},\"colorscale\":[[0.0,\"#0d0887\"],[0.1111111111111111,\"#46039f\"],[0.2222222222222222,\"#7201a8\"],[0.3333333333333333,\"#9c179e\"],[0.4444444444444444,\"#bd3786\"],[0.5555555555555556,\"#d8576b\"],[0.6666666666666666,\"#ed7953\"],[0.7777777777777778,\"#fb9f3a\"],[0.8888888888888888,\"#fdca26\"],[1.0,\"#f0f921\"]],\"type\":\"histogram2d\"}],\"histogram2dcontour\":[{\"colorbar\":{\"outlinewidth\":0,\"ticks\":\"\"},\"colorscale\":[[0.0,\"#0d0887\"],[0.1111111111111111,\"#46039f\"],[0.2222222222222222,\"#7201a8\"],[0.3333333333333333,\"#9c179e\"],[0.4444444444444444,\"#bd3786\"],[0.5555555555555556,\"#d8576b\"],[0.6666666666666666,\"#ed7953\"],[0.7777777777777778,\"#fb9f3a\"],[0.8888888888888888,\"#fdca26\"],[1.0,\"#f0f921\"]],\"type\":\"histogram2dcontour\"}],\"mesh3d\":[{\"colorbar\":{\"outlinewidth\":0,\"ticks\":\"\"},\"type\":\"mesh3d\"}],\"parcoords\":[{\"line\":{\"colorbar\":{\"outlinewidth\":0,\"ticks\":\"\"}},\"type\":\"parcoords\"}],\"pie\":[{\"automargin\":true,\"type\":\"pie\"}],\"scatter\":[{\"marker\":{\"colorbar\":{\"outlinewidth\":0,\"ticks\":\"\"}},\"type\":\"scatter\"}],\"scatter3d\":[{\"line\":{\"colorbar\":{\"outlinewidth\":0,\"ticks\":\"\"}},\"marker\":{\"colorbar\":{\"outlinewidth\":0,\"ticks\":\"\"}},\"type\":\"scatter3d\"}],\"scattercarpet\":[{\"marker\":{\"colorbar\":{\"outlinewidth\":0,\"ticks\":\"\"}},\"type\":\"scattercarpet\"}],\"scattergeo\":[{\"marker\":{\"colorbar\":{\"outlinewidth\":0,\"ticks\":\"\"}},\"type\":\"scattergeo\"}],\"scattergl\":[{\"marker\":{\"colorbar\":{\"outlinewidth\":0,\"ticks\":\"\"}},\"type\":\"scattergl\"}],\"scattermapbox\":[{\"marker\":{\"colorbar\":{\"outlinewidth\":0,\"ticks\":\"\"}},\"type\":\"scattermapbox\"}],\"scatterpolar\":[{\"marker\":{\"colorbar\":{\"outlinewidth\":0,\"ticks\":\"\"}},\"type\":\"scatterpolar\"}],\"scatterpolargl\":[{\"marker\":{\"colorbar\":{\"outlinewidth\":0,\"ticks\":\"\"}},\"type\":\"scatterpolargl\"}],\"scatterternary\":[{\"marker\":{\"colorbar\":{\"outlinewidth\":0,\"ticks\":\"\"}},\"type\":\"scatterternary\"}],\"surface\":[{\"colorbar\":{\"outlinewidth\":0,\"ticks\":\"\"},\"colorscale\":[[0.0,\"#0d0887\"],[0.1111111111111111,\"#46039f\"],[0.2222222222222222,\"#7201a8\"],[0.3333333333333333,\"#9c179e\"],[0.4444444444444444,\"#bd3786\"],[0.5555555555555556,\"#d8576b\"],[0.6666666666666666,\"#ed7953\"],[0.7777777777777778,\"#fb9f3a\"],[0.8888888888888888,\"#fdca26\"],[1.0,\"#f0f921\"]],\"type\":\"surface\"}],\"table\":[{\"cells\":{\"fill\":{\"color\":\"#EBF0F8\"},\"line\":{\"color\":\"white\"}},\"header\":{\"fill\":{\"color\":\"#C8D4E3\"},\"line\":{\"color\":\"white\"}},\"type\":\"table\"}]},\"layout\":{\"annotationdefaults\":{\"arrowcolor\":\"#2a3f5f\",\"arrowhead\":0,\"arrowwidth\":1},\"autotypenumbers\":\"strict\",\"coloraxis\":{\"colorbar\":{\"outlinewidth\":0,\"ticks\":\"\"}},\"colorscale\":{\"diverging\":[[0,\"#8e0152\"],[0.1,\"#c51b7d\"],[0.2,\"#de77ae\"],[0.3,\"#f1b6da\"],[0.4,\"#fde0ef\"],[0.5,\"#f7f7f7\"],[0.6,\"#e6f5d0\"],[0.7,\"#b8e186\"],[0.8,\"#7fbc41\"],[0.9,\"#4d9221\"],[1,\"#276419\"]],\"sequential\":[[0.0,\"#0d0887\"],[0.1111111111111111,\"#46039f\"],[0.2222222222222222,\"#7201a8\"],[0.3333333333333333,\"#9c179e\"],[0.4444444444444444,\"#bd3786\"],[0.5555555555555556,\"#d8576b\"],[0.6666666666666666,\"#ed7953\"],[0.7777777777777778,\"#fb9f3a\"],[0.8888888888888888,\"#fdca26\"],[1.0,\"#f0f921\"]],\"sequentialminus\":[[0.0,\"#0d0887\"],[0.1111111111111111,\"#46039f\"],[0.2222222222222222,\"#7201a8\"],[0.3333333333333333,\"#9c179e\"],[0.4444444444444444,\"#bd3786\"],[0.5555555555555556,\"#d8576b\"],[0.6666666666666666,\"#ed7953\"],[0.7777777777777778,\"#fb9f3a\"],[0.8888888888888888,\"#fdca26\"],[1.0,\"#f0f921\"]]},\"colorway\":[\"#636efa\",\"#EF553B\",\"#00cc96\",\"#ab63fa\",\"#FFA15A\",\"#19d3f3\",\"#FF6692\",\"#B6E880\",\"#FF97FF\",\"#FECB52\"],\"font\":{\"color\":\"#2a3f5f\"},\"geo\":{\"bgcolor\":\"white\",\"lakecolor\":\"white\",\"landcolor\":\"#E5ECF6\",\"showlakes\":true,\"showland\":true,\"subunitcolor\":\"white\"},\"hoverlabel\":{\"align\":\"left\"},\"hovermode\":\"closest\",\"mapbox\":{\"style\":\"light\"},\"paper_bgcolor\":\"white\",\"plot_bgcolor\":\"#E5ECF6\",\"polar\":{\"angularaxis\":{\"gridcolor\":\"white\",\"linecolor\":\"white\",\"ticks\":\"\"},\"bgcolor\":\"#E5ECF6\",\"radialaxis\":{\"gridcolor\":\"white\",\"linecolor\":\"white\",\"ticks\":\"\"}},\"scene\":{\"xaxis\":{\"backgroundcolor\":\"#E5ECF6\",\"gridcolor\":\"white\",\"gridwidth\":2,\"linecolor\":\"white\",\"showbackground\":true,\"ticks\":\"\",\"zerolinecolor\":\"white\"},\"yaxis\":{\"backgroundcolor\":\"#E5ECF6\",\"gridcolor\":\"white\",\"gridwidth\":2,\"linecolor\":\"white\",\"showbackground\":true,\"ticks\":\"\",\"zerolinecolor\":\"white\"},\"zaxis\":{\"backgroundcolor\":\"#E5ECF6\",\"gridcolor\":\"white\",\"gridwidth\":2,\"linecolor\":\"white\",\"showbackground\":true,\"ticks\":\"\",\"zerolinecolor\":\"white\"}},\"shapedefaults\":{\"line\":{\"color\":\"#2a3f5f\"}},\"ternary\":{\"aaxis\":{\"gridcolor\":\"white\",\"linecolor\":\"white\",\"ticks\":\"\"},\"baxis\":{\"gridcolor\":\"white\",\"linecolor\":\"white\",\"ticks\":\"\"},\"bgcolor\":\"#E5ECF6\",\"caxis\":{\"gridcolor\":\"white\",\"linecolor\":\"white\",\"ticks\":\"\"}},\"title\":{\"x\":0.05},\"xaxis\":{\"automargin\":true,\"gridcolor\":\"white\",\"linecolor\":\"white\",\"ticks\":\"\",\"title\":{\"standoff\":15},\"zerolinecolor\":\"white\",\"zerolinewidth\":2},\"yaxis\":{\"automargin\":true,\"gridcolor\":\"white\",\"linecolor\":\"white\",\"ticks\":\"\",\"title\":{\"standoff\":15},\"zerolinecolor\":\"white\",\"zerolinewidth\":2}}},\"xaxis\":{\"anchor\":\"y\",\"domain\":[0.0,0.45],\"title\":{\"text\":\"word count\"}},\"yaxis\":{\"anchor\":\"x\",\"domain\":[0.0,1.0]},\"xaxis2\":{\"anchor\":\"y2\",\"domain\":[0.55,1.0],\"title\":{\"text\":\"word count\"}},\"yaxis2\":{\"anchor\":\"x2\",\"domain\":[0.0,1.0]},\"annotations\":[{\"font\":{\"size\":16},\"showarrow\":false,\"text\":\"wikinews\",\"x\":0.225,\"xanchor\":\"center\",\"xref\":\"paper\",\"y\":1.0,\"yanchor\":\"bottom\",\"yref\":\"paper\"},{\"font\":{\"size\":16},\"showarrow\":false,\"text\":\"\\u30d5\\u30a7\\u30a4\\u30af\\u30cb\\u30e5\\u30fc\\u30b9\",\"x\":0.775,\"xanchor\":\"center\",\"xref\":\"paper\",\"y\":1.0,\"yanchor\":\"bottom\",\"yref\":\"paper\"}],\"title\":{\"text\":\"unigram wikinews vs. \\u30d5\\u30a7\\u30a4\\u30af\\u30cb\\u30e5\\u30fc\\u30b9\"},\"height\":1100,\"width\":1900},                        {\"responsive\": true}                    ).then(function(){\n",
              "                            \n",
              "var gd = document.getElementById('590189ab-7829-4578-b02b-5f3e91d98cf5');\n",
              "var x = new MutationObserver(function (mutations, observer) {{\n",
              "        var display = window.getComputedStyle(gd).display;\n",
              "        if (!display || display === 'none') {{\n",
              "            console.log([gd, 'removed!']);\n",
              "            Plotly.purge(gd);\n",
              "            observer.disconnect();\n",
              "        }}\n",
              "}});\n",
              "\n",
              "// Listen for the removal of the full notebook cells\n",
              "var notebookContainer = gd.closest('#notebook-container');\n",
              "if (notebookContainer) {{\n",
              "    x.observe(notebookContainer, {childList: true});\n",
              "}}\n",
              "\n",
              "// Listen for the clearing of the current output cell\n",
              "var outputEl = gd.closest('.output');\n",
              "if (outputEl) {{\n",
              "    x.observe(outputEl, {childList: true});\n",
              "}}\n",
              "\n",
              "                        })                };                            </script>        </div>\n",
              "</body>\n",
              "</html>"
            ]
          },
          "metadata": {}
        }
      ]
    },
    {
      "cell_type": "markdown",
      "source": [
        "- 数字は前処理したほうが良いかも\n",
        "- フェイクニュースでないものは時間の情報が多い\n",
        "- フェイクニュースは無意味な繰り返しが多い\n",
        "- フェイクニュースには「ーーーーー」のようなものが見られる"
      ],
      "metadata": {
        "id": "5ienrgihJg2k"
      }
    },
    {
      "cell_type": "code",
      "source": [
        ""
      ],
      "metadata": {
        "id": "wPsSQT7CGDTS"
      },
      "execution_count": null,
      "outputs": []
    }
  ]
}